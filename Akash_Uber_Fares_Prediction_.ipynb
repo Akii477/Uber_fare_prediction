{
  "cells": [
    {
      "cell_type": "markdown",
      "id": "f12dc9a1",
      "metadata": {
        "id": "f12dc9a1"
      },
      "source": [
        "## Problem Statement: Estimate Fare Prices\n",
        "Continuous Data hence Linear regression, Decision Tree regressor and Random Forest regressor will be applied as machine learning algorithms\n",
        "\n",
        "The project is about on world's largest taxi company Uber inc. In this project, we're looking to predict the fare for their future transactional cases. Uber delivers service to lakhs of customers daily. Now it becomes really important to manage their data properly to come up with new business ideas to get best results. Eventually, it becomes really important to estimate the fare prices accurately.\n",
        "\n",
        "Linear Regression, Decision Tree Regressor, Random Forest Regressor\n",
        "- https://www.kaggle.com/datasets/yasserh/uber-fares-dataset\n",
        "- https://www.kaggle.com/code/muhammadannasimtiaz/uber-fare-prediction/notebook\n",
        "- https://bobbyhadz.com/blog/python-no-module-named-geopandas"
      ]
    },
    {
      "cell_type": "code",
      "execution_count": 84,
      "id": "76021496",
      "metadata": {
        "id": "76021496"
      },
      "outputs": [],
      "source": [
        "import numpy as np\n",
        "import pandas as pd\n",
        "import seaborn as sns\n",
        "import matplotlib.pyplot as plt\n",
        "from sklearn import svm\n",
        "from sklearn.model_selection import train_test_split\n",
        "from sklearn.neighbors import DistanceMetric\n",
        "from math import radians"
      ]
    },
    {
      "cell_type": "code",
      "execution_count": 85,
      "id": "cd59eec9",
      "metadata": {
        "id": "cd59eec9"
      },
      "outputs": [],
      "source": [
        "url ='https://raw.githubusercontent.com/Akii477/Uber_fare_prediction/main/uber.csv'\n",
        "fare_data = pd.read_csv(url)"
      ]
    },
    {
      "cell_type": "markdown",
      "id": "3869f93b",
      "metadata": {
        "id": "3869f93b"
      },
      "source": [
        "Read a comma-separated values (csv) file into DataFrame."
      ]
    },
    {
      "cell_type": "code",
      "execution_count": 86,
      "id": "7fb9a59d",
      "metadata": {
        "colab": {
          "base_uri": "https://localhost:8080/"
        },
        "id": "7fb9a59d",
        "outputId": "61567268-9aaa-4e40-aff3-1a97e89af2b8"
      },
      "outputs": [
        {
          "output_type": "stream",
          "name": "stdout",
          "text": [
            "<class 'pandas.core.frame.DataFrame'>\n",
            "RangeIndex: 200000 entries, 0 to 199999\n",
            "Data columns (total 9 columns):\n",
            " #   Column             Non-Null Count   Dtype  \n",
            "---  ------             --------------   -----  \n",
            " 0   Unnamed: 0         200000 non-null  int64  \n",
            " 1   key                200000 non-null  object \n",
            " 2   fare_amount        200000 non-null  float64\n",
            " 3   pickup_datetime    200000 non-null  object \n",
            " 4   pickup_longitude   200000 non-null  float64\n",
            " 5   pickup_latitude    200000 non-null  float64\n",
            " 6   dropoff_longitude  199999 non-null  float64\n",
            " 7   dropoff_latitude   199999 non-null  float64\n",
            " 8   passenger_count    200000 non-null  int64  \n",
            "dtypes: float64(5), int64(2), object(2)\n",
            "memory usage: 13.7+ MB\n"
          ]
        }
      ],
      "source": [
        "fare_data.info()"
      ]
    },
    {
      "cell_type": "markdown",
      "id": "66484a3a",
      "metadata": {
        "id": "66484a3a"
      },
      "source": [
        "The info() method prints information about the DataFrame. The information contains the number of columns, column labels, column data types, memory usage, range index, and the number of cells in each column (non-null values). Note: the info() method actually prints the info."
      ]
    },
    {
      "cell_type": "code",
      "execution_count": 87,
      "id": "8496f349",
      "metadata": {
        "colab": {
          "base_uri": "https://localhost:8080/",
          "height": 206
        },
        "id": "8496f349",
        "outputId": "1aa7a62d-7757-4bf7-caa2-3989ad815020"
      },
      "outputs": [
        {
          "output_type": "execute_result",
          "data": {
            "text/plain": [
              "   Unnamed: 0                            key  fare_amount  \\\n",
              "0    24238194    2015-05-07 19:52:06.0000003          7.5   \n",
              "1    27835199    2009-07-17 20:04:56.0000002          7.7   \n",
              "2    44984355   2009-08-24 21:45:00.00000061         12.9   \n",
              "3    25894730    2009-06-26 08:22:21.0000001          5.3   \n",
              "4    17610152  2014-08-28 17:47:00.000000188         16.0   \n",
              "\n",
              "           pickup_datetime  pickup_longitude  pickup_latitude  \\\n",
              "0  2015-05-07 19:52:06 UTC        -73.999817        40.738354   \n",
              "1  2009-07-17 20:04:56 UTC        -73.994355        40.728225   \n",
              "2  2009-08-24 21:45:00 UTC        -74.005043        40.740770   \n",
              "3  2009-06-26 08:22:21 UTC        -73.976124        40.790844   \n",
              "4  2014-08-28 17:47:00 UTC        -73.925023        40.744085   \n",
              "\n",
              "   dropoff_longitude  dropoff_latitude  passenger_count  \n",
              "0         -73.999512         40.723217                1  \n",
              "1         -73.994710         40.750325                1  \n",
              "2         -73.962565         40.772647                1  \n",
              "3         -73.965316         40.803349                3  \n",
              "4         -73.973082         40.761247                5  "
            ],
            "text/html": [
              "\n",
              "  <div id=\"df-d72269eb-5bc7-413d-b2e0-9c3ea890fc2f\" class=\"colab-df-container\">\n",
              "    <div>\n",
              "<style scoped>\n",
              "    .dataframe tbody tr th:only-of-type {\n",
              "        vertical-align: middle;\n",
              "    }\n",
              "\n",
              "    .dataframe tbody tr th {\n",
              "        vertical-align: top;\n",
              "    }\n",
              "\n",
              "    .dataframe thead th {\n",
              "        text-align: right;\n",
              "    }\n",
              "</style>\n",
              "<table border=\"1\" class=\"dataframe\">\n",
              "  <thead>\n",
              "    <tr style=\"text-align: right;\">\n",
              "      <th></th>\n",
              "      <th>Unnamed: 0</th>\n",
              "      <th>key</th>\n",
              "      <th>fare_amount</th>\n",
              "      <th>pickup_datetime</th>\n",
              "      <th>pickup_longitude</th>\n",
              "      <th>pickup_latitude</th>\n",
              "      <th>dropoff_longitude</th>\n",
              "      <th>dropoff_latitude</th>\n",
              "      <th>passenger_count</th>\n",
              "    </tr>\n",
              "  </thead>\n",
              "  <tbody>\n",
              "    <tr>\n",
              "      <th>0</th>\n",
              "      <td>24238194</td>\n",
              "      <td>2015-05-07 19:52:06.0000003</td>\n",
              "      <td>7.5</td>\n",
              "      <td>2015-05-07 19:52:06 UTC</td>\n",
              "      <td>-73.999817</td>\n",
              "      <td>40.738354</td>\n",
              "      <td>-73.999512</td>\n",
              "      <td>40.723217</td>\n",
              "      <td>1</td>\n",
              "    </tr>\n",
              "    <tr>\n",
              "      <th>1</th>\n",
              "      <td>27835199</td>\n",
              "      <td>2009-07-17 20:04:56.0000002</td>\n",
              "      <td>7.7</td>\n",
              "      <td>2009-07-17 20:04:56 UTC</td>\n",
              "      <td>-73.994355</td>\n",
              "      <td>40.728225</td>\n",
              "      <td>-73.994710</td>\n",
              "      <td>40.750325</td>\n",
              "      <td>1</td>\n",
              "    </tr>\n",
              "    <tr>\n",
              "      <th>2</th>\n",
              "      <td>44984355</td>\n",
              "      <td>2009-08-24 21:45:00.00000061</td>\n",
              "      <td>12.9</td>\n",
              "      <td>2009-08-24 21:45:00 UTC</td>\n",
              "      <td>-74.005043</td>\n",
              "      <td>40.740770</td>\n",
              "      <td>-73.962565</td>\n",
              "      <td>40.772647</td>\n",
              "      <td>1</td>\n",
              "    </tr>\n",
              "    <tr>\n",
              "      <th>3</th>\n",
              "      <td>25894730</td>\n",
              "      <td>2009-06-26 08:22:21.0000001</td>\n",
              "      <td>5.3</td>\n",
              "      <td>2009-06-26 08:22:21 UTC</td>\n",
              "      <td>-73.976124</td>\n",
              "      <td>40.790844</td>\n",
              "      <td>-73.965316</td>\n",
              "      <td>40.803349</td>\n",
              "      <td>3</td>\n",
              "    </tr>\n",
              "    <tr>\n",
              "      <th>4</th>\n",
              "      <td>17610152</td>\n",
              "      <td>2014-08-28 17:47:00.000000188</td>\n",
              "      <td>16.0</td>\n",
              "      <td>2014-08-28 17:47:00 UTC</td>\n",
              "      <td>-73.925023</td>\n",
              "      <td>40.744085</td>\n",
              "      <td>-73.973082</td>\n",
              "      <td>40.761247</td>\n",
              "      <td>5</td>\n",
              "    </tr>\n",
              "  </tbody>\n",
              "</table>\n",
              "</div>\n",
              "    <div class=\"colab-df-buttons\">\n",
              "\n",
              "  <div class=\"colab-df-container\">\n",
              "    <button class=\"colab-df-convert\" onclick=\"convertToInteractive('df-d72269eb-5bc7-413d-b2e0-9c3ea890fc2f')\"\n",
              "            title=\"Convert this dataframe to an interactive table.\"\n",
              "            style=\"display:none;\">\n",
              "\n",
              "  <svg xmlns=\"http://www.w3.org/2000/svg\" height=\"24px\" viewBox=\"0 -960 960 960\">\n",
              "    <path d=\"M120-120v-720h720v720H120Zm60-500h600v-160H180v160Zm220 220h160v-160H400v160Zm0 220h160v-160H400v160ZM180-400h160v-160H180v160Zm440 0h160v-160H620v160ZM180-180h160v-160H180v160Zm440 0h160v-160H620v160Z\"/>\n",
              "  </svg>\n",
              "    </button>\n",
              "\n",
              "  <style>\n",
              "    .colab-df-container {\n",
              "      display:flex;\n",
              "      gap: 12px;\n",
              "    }\n",
              "\n",
              "    .colab-df-convert {\n",
              "      background-color: #E8F0FE;\n",
              "      border: none;\n",
              "      border-radius: 50%;\n",
              "      cursor: pointer;\n",
              "      display: none;\n",
              "      fill: #1967D2;\n",
              "      height: 32px;\n",
              "      padding: 0 0 0 0;\n",
              "      width: 32px;\n",
              "    }\n",
              "\n",
              "    .colab-df-convert:hover {\n",
              "      background-color: #E2EBFA;\n",
              "      box-shadow: 0px 1px 2px rgba(60, 64, 67, 0.3), 0px 1px 3px 1px rgba(60, 64, 67, 0.15);\n",
              "      fill: #174EA6;\n",
              "    }\n",
              "\n",
              "    .colab-df-buttons div {\n",
              "      margin-bottom: 4px;\n",
              "    }\n",
              "\n",
              "    [theme=dark] .colab-df-convert {\n",
              "      background-color: #3B4455;\n",
              "      fill: #D2E3FC;\n",
              "    }\n",
              "\n",
              "    [theme=dark] .colab-df-convert:hover {\n",
              "      background-color: #434B5C;\n",
              "      box-shadow: 0px 1px 3px 1px rgba(0, 0, 0, 0.15);\n",
              "      filter: drop-shadow(0px 1px 2px rgba(0, 0, 0, 0.3));\n",
              "      fill: #FFFFFF;\n",
              "    }\n",
              "  </style>\n",
              "\n",
              "    <script>\n",
              "      const buttonEl =\n",
              "        document.querySelector('#df-d72269eb-5bc7-413d-b2e0-9c3ea890fc2f button.colab-df-convert');\n",
              "      buttonEl.style.display =\n",
              "        google.colab.kernel.accessAllowed ? 'block' : 'none';\n",
              "\n",
              "      async function convertToInteractive(key) {\n",
              "        const element = document.querySelector('#df-d72269eb-5bc7-413d-b2e0-9c3ea890fc2f');\n",
              "        const dataTable =\n",
              "          await google.colab.kernel.invokeFunction('convertToInteractive',\n",
              "                                                    [key], {});\n",
              "        if (!dataTable) return;\n",
              "\n",
              "        const docLinkHtml = 'Like what you see? Visit the ' +\n",
              "          '<a target=\"_blank\" href=https://colab.research.google.com/notebooks/data_table.ipynb>data table notebook</a>'\n",
              "          + ' to learn more about interactive tables.';\n",
              "        element.innerHTML = '';\n",
              "        dataTable['output_type'] = 'display_data';\n",
              "        await google.colab.output.renderOutput(dataTable, element);\n",
              "        const docLink = document.createElement('div');\n",
              "        docLink.innerHTML = docLinkHtml;\n",
              "        element.appendChild(docLink);\n",
              "      }\n",
              "    </script>\n",
              "  </div>\n",
              "\n",
              "\n",
              "<div id=\"df-30fb2375-5520-4374-a246-50807af327d9\">\n",
              "  <button class=\"colab-df-quickchart\" onclick=\"quickchart('df-30fb2375-5520-4374-a246-50807af327d9')\"\n",
              "            title=\"Suggest charts\"\n",
              "            style=\"display:none;\">\n",
              "\n",
              "<svg xmlns=\"http://www.w3.org/2000/svg\" height=\"24px\"viewBox=\"0 0 24 24\"\n",
              "     width=\"24px\">\n",
              "    <g>\n",
              "        <path d=\"M19 3H5c-1.1 0-2 .9-2 2v14c0 1.1.9 2 2 2h14c1.1 0 2-.9 2-2V5c0-1.1-.9-2-2-2zM9 17H7v-7h2v7zm4 0h-2V7h2v10zm4 0h-2v-4h2v4z\"/>\n",
              "    </g>\n",
              "</svg>\n",
              "  </button>\n",
              "\n",
              "<style>\n",
              "  .colab-df-quickchart {\n",
              "      --bg-color: #E8F0FE;\n",
              "      --fill-color: #1967D2;\n",
              "      --hover-bg-color: #E2EBFA;\n",
              "      --hover-fill-color: #174EA6;\n",
              "      --disabled-fill-color: #AAA;\n",
              "      --disabled-bg-color: #DDD;\n",
              "  }\n",
              "\n",
              "  [theme=dark] .colab-df-quickchart {\n",
              "      --bg-color: #3B4455;\n",
              "      --fill-color: #D2E3FC;\n",
              "      --hover-bg-color: #434B5C;\n",
              "      --hover-fill-color: #FFFFFF;\n",
              "      --disabled-bg-color: #3B4455;\n",
              "      --disabled-fill-color: #666;\n",
              "  }\n",
              "\n",
              "  .colab-df-quickchart {\n",
              "    background-color: var(--bg-color);\n",
              "    border: none;\n",
              "    border-radius: 50%;\n",
              "    cursor: pointer;\n",
              "    display: none;\n",
              "    fill: var(--fill-color);\n",
              "    height: 32px;\n",
              "    padding: 0;\n",
              "    width: 32px;\n",
              "  }\n",
              "\n",
              "  .colab-df-quickchart:hover {\n",
              "    background-color: var(--hover-bg-color);\n",
              "    box-shadow: 0 1px 2px rgba(60, 64, 67, 0.3), 0 1px 3px 1px rgba(60, 64, 67, 0.15);\n",
              "    fill: var(--button-hover-fill-color);\n",
              "  }\n",
              "\n",
              "  .colab-df-quickchart-complete:disabled,\n",
              "  .colab-df-quickchart-complete:disabled:hover {\n",
              "    background-color: var(--disabled-bg-color);\n",
              "    fill: var(--disabled-fill-color);\n",
              "    box-shadow: none;\n",
              "  }\n",
              "\n",
              "  .colab-df-spinner {\n",
              "    border: 2px solid var(--fill-color);\n",
              "    border-color: transparent;\n",
              "    border-bottom-color: var(--fill-color);\n",
              "    animation:\n",
              "      spin 1s steps(1) infinite;\n",
              "  }\n",
              "\n",
              "  @keyframes spin {\n",
              "    0% {\n",
              "      border-color: transparent;\n",
              "      border-bottom-color: var(--fill-color);\n",
              "      border-left-color: var(--fill-color);\n",
              "    }\n",
              "    20% {\n",
              "      border-color: transparent;\n",
              "      border-left-color: var(--fill-color);\n",
              "      border-top-color: var(--fill-color);\n",
              "    }\n",
              "    30% {\n",
              "      border-color: transparent;\n",
              "      border-left-color: var(--fill-color);\n",
              "      border-top-color: var(--fill-color);\n",
              "      border-right-color: var(--fill-color);\n",
              "    }\n",
              "    40% {\n",
              "      border-color: transparent;\n",
              "      border-right-color: var(--fill-color);\n",
              "      border-top-color: var(--fill-color);\n",
              "    }\n",
              "    60% {\n",
              "      border-color: transparent;\n",
              "      border-right-color: var(--fill-color);\n",
              "    }\n",
              "    80% {\n",
              "      border-color: transparent;\n",
              "      border-right-color: var(--fill-color);\n",
              "      border-bottom-color: var(--fill-color);\n",
              "    }\n",
              "    90% {\n",
              "      border-color: transparent;\n",
              "      border-bottom-color: var(--fill-color);\n",
              "    }\n",
              "  }\n",
              "</style>\n",
              "\n",
              "  <script>\n",
              "    async function quickchart(key) {\n",
              "      const quickchartButtonEl =\n",
              "        document.querySelector('#' + key + ' button');\n",
              "      quickchartButtonEl.disabled = true;  // To prevent multiple clicks.\n",
              "      quickchartButtonEl.classList.add('colab-df-spinner');\n",
              "      try {\n",
              "        const charts = await google.colab.kernel.invokeFunction(\n",
              "            'suggestCharts', [key], {});\n",
              "      } catch (error) {\n",
              "        console.error('Error during call to suggestCharts:', error);\n",
              "      }\n",
              "      quickchartButtonEl.classList.remove('colab-df-spinner');\n",
              "      quickchartButtonEl.classList.add('colab-df-quickchart-complete');\n",
              "    }\n",
              "    (() => {\n",
              "      let quickchartButtonEl =\n",
              "        document.querySelector('#df-30fb2375-5520-4374-a246-50807af327d9 button');\n",
              "      quickchartButtonEl.style.display =\n",
              "        google.colab.kernel.accessAllowed ? 'block' : 'none';\n",
              "    })();\n",
              "  </script>\n",
              "</div>\n",
              "    </div>\n",
              "  </div>\n"
            ]
          },
          "metadata": {},
          "execution_count": 87
        }
      ],
      "source": [
        "fare_data.head()"
      ]
    },
    {
      "cell_type": "markdown",
      "id": "165d0cd2",
      "metadata": {
        "id": "165d0cd2"
      },
      "source": [
        "The head() method returns a specified number of rows, string from the top. The head() method returns the first 5 rows if a number is not specified. Note: The column names will also be returned, in addition to the specified rows."
      ]
    },
    {
      "cell_type": "code",
      "execution_count": 88,
      "id": "fcbdef0c",
      "metadata": {
        "colab": {
          "base_uri": "https://localhost:8080/",
          "height": 300
        },
        "id": "fcbdef0c",
        "outputId": "a105c512-f00b-46ab-8dc5-5bf1096679d1"
      },
      "outputs": [
        {
          "output_type": "execute_result",
          "data": {
            "text/plain": [
              "         Unnamed: 0    fare_amount  pickup_longitude  pickup_latitude  \\\n",
              "count  2.000000e+05  200000.000000     200000.000000    200000.000000   \n",
              "mean   2.771250e+07      11.359955        -72.527638        39.935885   \n",
              "std    1.601382e+07       9.901776         11.437787         7.720539   \n",
              "min    1.000000e+00     -52.000000      -1340.648410       -74.015515   \n",
              "25%    1.382535e+07       6.000000        -73.992065        40.734796   \n",
              "50%    2.774550e+07       8.500000        -73.981823        40.752592   \n",
              "75%    4.155530e+07      12.500000        -73.967154        40.767158   \n",
              "max    5.542357e+07     499.000000         57.418457      1644.421482   \n",
              "\n",
              "       dropoff_longitude  dropoff_latitude  passenger_count  \n",
              "count      199999.000000     199999.000000    200000.000000  \n",
              "mean          -72.525292         39.923890         1.684535  \n",
              "std            13.117408          6.794829         1.385997  \n",
              "min         -3356.666300       -881.985513         0.000000  \n",
              "25%           -73.991407         40.733823         1.000000  \n",
              "50%           -73.980093         40.753042         1.000000  \n",
              "75%           -73.963658         40.768001         2.000000  \n",
              "max          1153.572603        872.697628       208.000000  "
            ],
            "text/html": [
              "\n",
              "  <div id=\"df-a9ea4c29-e1d7-4f9c-b666-a83bdb1f5bb1\" class=\"colab-df-container\">\n",
              "    <div>\n",
              "<style scoped>\n",
              "    .dataframe tbody tr th:only-of-type {\n",
              "        vertical-align: middle;\n",
              "    }\n",
              "\n",
              "    .dataframe tbody tr th {\n",
              "        vertical-align: top;\n",
              "    }\n",
              "\n",
              "    .dataframe thead th {\n",
              "        text-align: right;\n",
              "    }\n",
              "</style>\n",
              "<table border=\"1\" class=\"dataframe\">\n",
              "  <thead>\n",
              "    <tr style=\"text-align: right;\">\n",
              "      <th></th>\n",
              "      <th>Unnamed: 0</th>\n",
              "      <th>fare_amount</th>\n",
              "      <th>pickup_longitude</th>\n",
              "      <th>pickup_latitude</th>\n",
              "      <th>dropoff_longitude</th>\n",
              "      <th>dropoff_latitude</th>\n",
              "      <th>passenger_count</th>\n",
              "    </tr>\n",
              "  </thead>\n",
              "  <tbody>\n",
              "    <tr>\n",
              "      <th>count</th>\n",
              "      <td>2.000000e+05</td>\n",
              "      <td>200000.000000</td>\n",
              "      <td>200000.000000</td>\n",
              "      <td>200000.000000</td>\n",
              "      <td>199999.000000</td>\n",
              "      <td>199999.000000</td>\n",
              "      <td>200000.000000</td>\n",
              "    </tr>\n",
              "    <tr>\n",
              "      <th>mean</th>\n",
              "      <td>2.771250e+07</td>\n",
              "      <td>11.359955</td>\n",
              "      <td>-72.527638</td>\n",
              "      <td>39.935885</td>\n",
              "      <td>-72.525292</td>\n",
              "      <td>39.923890</td>\n",
              "      <td>1.684535</td>\n",
              "    </tr>\n",
              "    <tr>\n",
              "      <th>std</th>\n",
              "      <td>1.601382e+07</td>\n",
              "      <td>9.901776</td>\n",
              "      <td>11.437787</td>\n",
              "      <td>7.720539</td>\n",
              "      <td>13.117408</td>\n",
              "      <td>6.794829</td>\n",
              "      <td>1.385997</td>\n",
              "    </tr>\n",
              "    <tr>\n",
              "      <th>min</th>\n",
              "      <td>1.000000e+00</td>\n",
              "      <td>-52.000000</td>\n",
              "      <td>-1340.648410</td>\n",
              "      <td>-74.015515</td>\n",
              "      <td>-3356.666300</td>\n",
              "      <td>-881.985513</td>\n",
              "      <td>0.000000</td>\n",
              "    </tr>\n",
              "    <tr>\n",
              "      <th>25%</th>\n",
              "      <td>1.382535e+07</td>\n",
              "      <td>6.000000</td>\n",
              "      <td>-73.992065</td>\n",
              "      <td>40.734796</td>\n",
              "      <td>-73.991407</td>\n",
              "      <td>40.733823</td>\n",
              "      <td>1.000000</td>\n",
              "    </tr>\n",
              "    <tr>\n",
              "      <th>50%</th>\n",
              "      <td>2.774550e+07</td>\n",
              "      <td>8.500000</td>\n",
              "      <td>-73.981823</td>\n",
              "      <td>40.752592</td>\n",
              "      <td>-73.980093</td>\n",
              "      <td>40.753042</td>\n",
              "      <td>1.000000</td>\n",
              "    </tr>\n",
              "    <tr>\n",
              "      <th>75%</th>\n",
              "      <td>4.155530e+07</td>\n",
              "      <td>12.500000</td>\n",
              "      <td>-73.967154</td>\n",
              "      <td>40.767158</td>\n",
              "      <td>-73.963658</td>\n",
              "      <td>40.768001</td>\n",
              "      <td>2.000000</td>\n",
              "    </tr>\n",
              "    <tr>\n",
              "      <th>max</th>\n",
              "      <td>5.542357e+07</td>\n",
              "      <td>499.000000</td>\n",
              "      <td>57.418457</td>\n",
              "      <td>1644.421482</td>\n",
              "      <td>1153.572603</td>\n",
              "      <td>872.697628</td>\n",
              "      <td>208.000000</td>\n",
              "    </tr>\n",
              "  </tbody>\n",
              "</table>\n",
              "</div>\n",
              "    <div class=\"colab-df-buttons\">\n",
              "\n",
              "  <div class=\"colab-df-container\">\n",
              "    <button class=\"colab-df-convert\" onclick=\"convertToInteractive('df-a9ea4c29-e1d7-4f9c-b666-a83bdb1f5bb1')\"\n",
              "            title=\"Convert this dataframe to an interactive table.\"\n",
              "            style=\"display:none;\">\n",
              "\n",
              "  <svg xmlns=\"http://www.w3.org/2000/svg\" height=\"24px\" viewBox=\"0 -960 960 960\">\n",
              "    <path d=\"M120-120v-720h720v720H120Zm60-500h600v-160H180v160Zm220 220h160v-160H400v160Zm0 220h160v-160H400v160ZM180-400h160v-160H180v160Zm440 0h160v-160H620v160ZM180-180h160v-160H180v160Zm440 0h160v-160H620v160Z\"/>\n",
              "  </svg>\n",
              "    </button>\n",
              "\n",
              "  <style>\n",
              "    .colab-df-container {\n",
              "      display:flex;\n",
              "      gap: 12px;\n",
              "    }\n",
              "\n",
              "    .colab-df-convert {\n",
              "      background-color: #E8F0FE;\n",
              "      border: none;\n",
              "      border-radius: 50%;\n",
              "      cursor: pointer;\n",
              "      display: none;\n",
              "      fill: #1967D2;\n",
              "      height: 32px;\n",
              "      padding: 0 0 0 0;\n",
              "      width: 32px;\n",
              "    }\n",
              "\n",
              "    .colab-df-convert:hover {\n",
              "      background-color: #E2EBFA;\n",
              "      box-shadow: 0px 1px 2px rgba(60, 64, 67, 0.3), 0px 1px 3px 1px rgba(60, 64, 67, 0.15);\n",
              "      fill: #174EA6;\n",
              "    }\n",
              "\n",
              "    .colab-df-buttons div {\n",
              "      margin-bottom: 4px;\n",
              "    }\n",
              "\n",
              "    [theme=dark] .colab-df-convert {\n",
              "      background-color: #3B4455;\n",
              "      fill: #D2E3FC;\n",
              "    }\n",
              "\n",
              "    [theme=dark] .colab-df-convert:hover {\n",
              "      background-color: #434B5C;\n",
              "      box-shadow: 0px 1px 3px 1px rgba(0, 0, 0, 0.15);\n",
              "      filter: drop-shadow(0px 1px 2px rgba(0, 0, 0, 0.3));\n",
              "      fill: #FFFFFF;\n",
              "    }\n",
              "  </style>\n",
              "\n",
              "    <script>\n",
              "      const buttonEl =\n",
              "        document.querySelector('#df-a9ea4c29-e1d7-4f9c-b666-a83bdb1f5bb1 button.colab-df-convert');\n",
              "      buttonEl.style.display =\n",
              "        google.colab.kernel.accessAllowed ? 'block' : 'none';\n",
              "\n",
              "      async function convertToInteractive(key) {\n",
              "        const element = document.querySelector('#df-a9ea4c29-e1d7-4f9c-b666-a83bdb1f5bb1');\n",
              "        const dataTable =\n",
              "          await google.colab.kernel.invokeFunction('convertToInteractive',\n",
              "                                                    [key], {});\n",
              "        if (!dataTable) return;\n",
              "\n",
              "        const docLinkHtml = 'Like what you see? Visit the ' +\n",
              "          '<a target=\"_blank\" href=https://colab.research.google.com/notebooks/data_table.ipynb>data table notebook</a>'\n",
              "          + ' to learn more about interactive tables.';\n",
              "        element.innerHTML = '';\n",
              "        dataTable['output_type'] = 'display_data';\n",
              "        await google.colab.output.renderOutput(dataTable, element);\n",
              "        const docLink = document.createElement('div');\n",
              "        docLink.innerHTML = docLinkHtml;\n",
              "        element.appendChild(docLink);\n",
              "      }\n",
              "    </script>\n",
              "  </div>\n",
              "\n",
              "\n",
              "<div id=\"df-55fa6669-77c0-4c0e-be5c-6ba3231da0bf\">\n",
              "  <button class=\"colab-df-quickchart\" onclick=\"quickchart('df-55fa6669-77c0-4c0e-be5c-6ba3231da0bf')\"\n",
              "            title=\"Suggest charts\"\n",
              "            style=\"display:none;\">\n",
              "\n",
              "<svg xmlns=\"http://www.w3.org/2000/svg\" height=\"24px\"viewBox=\"0 0 24 24\"\n",
              "     width=\"24px\">\n",
              "    <g>\n",
              "        <path d=\"M19 3H5c-1.1 0-2 .9-2 2v14c0 1.1.9 2 2 2h14c1.1 0 2-.9 2-2V5c0-1.1-.9-2-2-2zM9 17H7v-7h2v7zm4 0h-2V7h2v10zm4 0h-2v-4h2v4z\"/>\n",
              "    </g>\n",
              "</svg>\n",
              "  </button>\n",
              "\n",
              "<style>\n",
              "  .colab-df-quickchart {\n",
              "      --bg-color: #E8F0FE;\n",
              "      --fill-color: #1967D2;\n",
              "      --hover-bg-color: #E2EBFA;\n",
              "      --hover-fill-color: #174EA6;\n",
              "      --disabled-fill-color: #AAA;\n",
              "      --disabled-bg-color: #DDD;\n",
              "  }\n",
              "\n",
              "  [theme=dark] .colab-df-quickchart {\n",
              "      --bg-color: #3B4455;\n",
              "      --fill-color: #D2E3FC;\n",
              "      --hover-bg-color: #434B5C;\n",
              "      --hover-fill-color: #FFFFFF;\n",
              "      --disabled-bg-color: #3B4455;\n",
              "      --disabled-fill-color: #666;\n",
              "  }\n",
              "\n",
              "  .colab-df-quickchart {\n",
              "    background-color: var(--bg-color);\n",
              "    border: none;\n",
              "    border-radius: 50%;\n",
              "    cursor: pointer;\n",
              "    display: none;\n",
              "    fill: var(--fill-color);\n",
              "    height: 32px;\n",
              "    padding: 0;\n",
              "    width: 32px;\n",
              "  }\n",
              "\n",
              "  .colab-df-quickchart:hover {\n",
              "    background-color: var(--hover-bg-color);\n",
              "    box-shadow: 0 1px 2px rgba(60, 64, 67, 0.3), 0 1px 3px 1px rgba(60, 64, 67, 0.15);\n",
              "    fill: var(--button-hover-fill-color);\n",
              "  }\n",
              "\n",
              "  .colab-df-quickchart-complete:disabled,\n",
              "  .colab-df-quickchart-complete:disabled:hover {\n",
              "    background-color: var(--disabled-bg-color);\n",
              "    fill: var(--disabled-fill-color);\n",
              "    box-shadow: none;\n",
              "  }\n",
              "\n",
              "  .colab-df-spinner {\n",
              "    border: 2px solid var(--fill-color);\n",
              "    border-color: transparent;\n",
              "    border-bottom-color: var(--fill-color);\n",
              "    animation:\n",
              "      spin 1s steps(1) infinite;\n",
              "  }\n",
              "\n",
              "  @keyframes spin {\n",
              "    0% {\n",
              "      border-color: transparent;\n",
              "      border-bottom-color: var(--fill-color);\n",
              "      border-left-color: var(--fill-color);\n",
              "    }\n",
              "    20% {\n",
              "      border-color: transparent;\n",
              "      border-left-color: var(--fill-color);\n",
              "      border-top-color: var(--fill-color);\n",
              "    }\n",
              "    30% {\n",
              "      border-color: transparent;\n",
              "      border-left-color: var(--fill-color);\n",
              "      border-top-color: var(--fill-color);\n",
              "      border-right-color: var(--fill-color);\n",
              "    }\n",
              "    40% {\n",
              "      border-color: transparent;\n",
              "      border-right-color: var(--fill-color);\n",
              "      border-top-color: var(--fill-color);\n",
              "    }\n",
              "    60% {\n",
              "      border-color: transparent;\n",
              "      border-right-color: var(--fill-color);\n",
              "    }\n",
              "    80% {\n",
              "      border-color: transparent;\n",
              "      border-right-color: var(--fill-color);\n",
              "      border-bottom-color: var(--fill-color);\n",
              "    }\n",
              "    90% {\n",
              "      border-color: transparent;\n",
              "      border-bottom-color: var(--fill-color);\n",
              "    }\n",
              "  }\n",
              "</style>\n",
              "\n",
              "  <script>\n",
              "    async function quickchart(key) {\n",
              "      const quickchartButtonEl =\n",
              "        document.querySelector('#' + key + ' button');\n",
              "      quickchartButtonEl.disabled = true;  // To prevent multiple clicks.\n",
              "      quickchartButtonEl.classList.add('colab-df-spinner');\n",
              "      try {\n",
              "        const charts = await google.colab.kernel.invokeFunction(\n",
              "            'suggestCharts', [key], {});\n",
              "      } catch (error) {\n",
              "        console.error('Error during call to suggestCharts:', error);\n",
              "      }\n",
              "      quickchartButtonEl.classList.remove('colab-df-spinner');\n",
              "      quickchartButtonEl.classList.add('colab-df-quickchart-complete');\n",
              "    }\n",
              "    (() => {\n",
              "      let quickchartButtonEl =\n",
              "        document.querySelector('#df-55fa6669-77c0-4c0e-be5c-6ba3231da0bf button');\n",
              "      quickchartButtonEl.style.display =\n",
              "        google.colab.kernel.accessAllowed ? 'block' : 'none';\n",
              "    })();\n",
              "  </script>\n",
              "</div>\n",
              "    </div>\n",
              "  </div>\n"
            ]
          },
          "metadata": {},
          "execution_count": 88
        }
      ],
      "source": [
        "fare_data.describe()"
      ]
    },
    {
      "cell_type": "markdown",
      "id": "bfab6651",
      "metadata": {
        "id": "bfab6651"
      },
      "source": [
        "The describe() method returns description of the data in the DataFrame."
      ]
    },
    {
      "cell_type": "code",
      "execution_count": 89,
      "id": "d04fa3fc",
      "metadata": {
        "colab": {
          "base_uri": "https://localhost:8080/"
        },
        "id": "d04fa3fc",
        "outputId": "bd0970f3-0989-416b-873a-b350014fc970"
      },
      "outputs": [
        {
          "output_type": "execute_result",
          "data": {
            "text/plain": [
              "Unnamed: 0           200000\n",
              "key                  200000\n",
              "fare_amount            1244\n",
              "pickup_datetime      196629\n",
              "pickup_longitude      71066\n",
              "pickup_latitude       83835\n",
              "dropoff_longitude     76894\n",
              "dropoff_latitude      90585\n",
              "passenger_count           8\n",
              "dtype: int64"
            ]
          },
          "metadata": {},
          "execution_count": 89
        }
      ],
      "source": [
        "data = fare_data\n",
        "data.nunique()"
      ]
    },
    {
      "cell_type": "markdown",
      "id": "bedeb152",
      "metadata": {
        "id": "bedeb152"
      },
      "source": [
        "Return the number of unique values for each column"
      ]
    },
    {
      "cell_type": "code",
      "execution_count": 90,
      "id": "d829e9e3",
      "metadata": {
        "id": "d829e9e3"
      },
      "outputs": [],
      "source": [
        "# Dropping the columns 'Unnamed: 0' and 'key' as well as NA rows\n",
        "\n",
        "data = data.drop(['Unnamed: 0','key'],axis=1) # axis 1 for columns\n",
        "data.dropna(axis=0,inplace=True) # 0 to drop rows with null value"
      ]
    },
    {
      "cell_type": "markdown",
      "id": "7bb7c027",
      "metadata": {
        "id": "7bb7c027"
      },
      "source": [
        "- https://pandas.pydata.org/docs/reference/api/pandas.DataFrame.drop.html\n",
        "- https://pandas.pydata.org/docs/reference/api/pandas.DataFrame.dropna.html"
      ]
    },
    {
      "cell_type": "code",
      "execution_count": 91,
      "id": "3c606c00",
      "metadata": {
        "colab": {
          "base_uri": "https://localhost:8080/",
          "height": 423
        },
        "id": "3c606c00",
        "outputId": "ba6b13cb-79dc-4455-8ceb-9fc4b5976718"
      },
      "outputs": [
        {
          "output_type": "execute_result",
          "data": {
            "text/plain": [
              "        fare_amount          pickup_datetime  pickup_longitude  \\\n",
              "0               7.5  2015-05-07 19:52:06 UTC        -73.999817   \n",
              "1               7.7  2009-07-17 20:04:56 UTC        -73.994355   \n",
              "2              12.9  2009-08-24 21:45:00 UTC        -74.005043   \n",
              "3               5.3  2009-06-26 08:22:21 UTC        -73.976124   \n",
              "4              16.0  2014-08-28 17:47:00 UTC        -73.925023   \n",
              "...             ...                      ...               ...   \n",
              "199995          3.0  2012-10-28 10:49:00 UTC        -73.987042   \n",
              "199996          7.5  2014-03-14 01:09:00 UTC        -73.984722   \n",
              "199997         30.9  2009-06-29 00:42:00 UTC        -73.986017   \n",
              "199998         14.5  2015-05-20 14:56:25 UTC        -73.997124   \n",
              "199999         14.1  2010-05-15 04:08:00 UTC        -73.984395   \n",
              "\n",
              "        pickup_latitude  dropoff_longitude  dropoff_latitude  passenger_count  \n",
              "0             40.738354         -73.999512         40.723217                1  \n",
              "1             40.728225         -73.994710         40.750325                1  \n",
              "2             40.740770         -73.962565         40.772647                1  \n",
              "3             40.790844         -73.965316         40.803349                3  \n",
              "4             40.744085         -73.973082         40.761247                5  \n",
              "...                 ...                ...               ...              ...  \n",
              "199995        40.739367         -73.986525         40.740297                1  \n",
              "199996        40.736837         -74.006672         40.739620                1  \n",
              "199997        40.756487         -73.858957         40.692588                2  \n",
              "199998        40.725452         -73.983215         40.695415                1  \n",
              "199999        40.720077         -73.985508         40.768793                1  \n",
              "\n",
              "[199999 rows x 7 columns]"
            ],
            "text/html": [
              "\n",
              "  <div id=\"df-9bffb1d8-a45d-4132-ab83-7b24b822d449\" class=\"colab-df-container\">\n",
              "    <div>\n",
              "<style scoped>\n",
              "    .dataframe tbody tr th:only-of-type {\n",
              "        vertical-align: middle;\n",
              "    }\n",
              "\n",
              "    .dataframe tbody tr th {\n",
              "        vertical-align: top;\n",
              "    }\n",
              "\n",
              "    .dataframe thead th {\n",
              "        text-align: right;\n",
              "    }\n",
              "</style>\n",
              "<table border=\"1\" class=\"dataframe\">\n",
              "  <thead>\n",
              "    <tr style=\"text-align: right;\">\n",
              "      <th></th>\n",
              "      <th>fare_amount</th>\n",
              "      <th>pickup_datetime</th>\n",
              "      <th>pickup_longitude</th>\n",
              "      <th>pickup_latitude</th>\n",
              "      <th>dropoff_longitude</th>\n",
              "      <th>dropoff_latitude</th>\n",
              "      <th>passenger_count</th>\n",
              "    </tr>\n",
              "  </thead>\n",
              "  <tbody>\n",
              "    <tr>\n",
              "      <th>0</th>\n",
              "      <td>7.5</td>\n",
              "      <td>2015-05-07 19:52:06 UTC</td>\n",
              "      <td>-73.999817</td>\n",
              "      <td>40.738354</td>\n",
              "      <td>-73.999512</td>\n",
              "      <td>40.723217</td>\n",
              "      <td>1</td>\n",
              "    </tr>\n",
              "    <tr>\n",
              "      <th>1</th>\n",
              "      <td>7.7</td>\n",
              "      <td>2009-07-17 20:04:56 UTC</td>\n",
              "      <td>-73.994355</td>\n",
              "      <td>40.728225</td>\n",
              "      <td>-73.994710</td>\n",
              "      <td>40.750325</td>\n",
              "      <td>1</td>\n",
              "    </tr>\n",
              "    <tr>\n",
              "      <th>2</th>\n",
              "      <td>12.9</td>\n",
              "      <td>2009-08-24 21:45:00 UTC</td>\n",
              "      <td>-74.005043</td>\n",
              "      <td>40.740770</td>\n",
              "      <td>-73.962565</td>\n",
              "      <td>40.772647</td>\n",
              "      <td>1</td>\n",
              "    </tr>\n",
              "    <tr>\n",
              "      <th>3</th>\n",
              "      <td>5.3</td>\n",
              "      <td>2009-06-26 08:22:21 UTC</td>\n",
              "      <td>-73.976124</td>\n",
              "      <td>40.790844</td>\n",
              "      <td>-73.965316</td>\n",
              "      <td>40.803349</td>\n",
              "      <td>3</td>\n",
              "    </tr>\n",
              "    <tr>\n",
              "      <th>4</th>\n",
              "      <td>16.0</td>\n",
              "      <td>2014-08-28 17:47:00 UTC</td>\n",
              "      <td>-73.925023</td>\n",
              "      <td>40.744085</td>\n",
              "      <td>-73.973082</td>\n",
              "      <td>40.761247</td>\n",
              "      <td>5</td>\n",
              "    </tr>\n",
              "    <tr>\n",
              "      <th>...</th>\n",
              "      <td>...</td>\n",
              "      <td>...</td>\n",
              "      <td>...</td>\n",
              "      <td>...</td>\n",
              "      <td>...</td>\n",
              "      <td>...</td>\n",
              "      <td>...</td>\n",
              "    </tr>\n",
              "    <tr>\n",
              "      <th>199995</th>\n",
              "      <td>3.0</td>\n",
              "      <td>2012-10-28 10:49:00 UTC</td>\n",
              "      <td>-73.987042</td>\n",
              "      <td>40.739367</td>\n",
              "      <td>-73.986525</td>\n",
              "      <td>40.740297</td>\n",
              "      <td>1</td>\n",
              "    </tr>\n",
              "    <tr>\n",
              "      <th>199996</th>\n",
              "      <td>7.5</td>\n",
              "      <td>2014-03-14 01:09:00 UTC</td>\n",
              "      <td>-73.984722</td>\n",
              "      <td>40.736837</td>\n",
              "      <td>-74.006672</td>\n",
              "      <td>40.739620</td>\n",
              "      <td>1</td>\n",
              "    </tr>\n",
              "    <tr>\n",
              "      <th>199997</th>\n",
              "      <td>30.9</td>\n",
              "      <td>2009-06-29 00:42:00 UTC</td>\n",
              "      <td>-73.986017</td>\n",
              "      <td>40.756487</td>\n",
              "      <td>-73.858957</td>\n",
              "      <td>40.692588</td>\n",
              "      <td>2</td>\n",
              "    </tr>\n",
              "    <tr>\n",
              "      <th>199998</th>\n",
              "      <td>14.5</td>\n",
              "      <td>2015-05-20 14:56:25 UTC</td>\n",
              "      <td>-73.997124</td>\n",
              "      <td>40.725452</td>\n",
              "      <td>-73.983215</td>\n",
              "      <td>40.695415</td>\n",
              "      <td>1</td>\n",
              "    </tr>\n",
              "    <tr>\n",
              "      <th>199999</th>\n",
              "      <td>14.1</td>\n",
              "      <td>2010-05-15 04:08:00 UTC</td>\n",
              "      <td>-73.984395</td>\n",
              "      <td>40.720077</td>\n",
              "      <td>-73.985508</td>\n",
              "      <td>40.768793</td>\n",
              "      <td>1</td>\n",
              "    </tr>\n",
              "  </tbody>\n",
              "</table>\n",
              "<p>199999 rows × 7 columns</p>\n",
              "</div>\n",
              "    <div class=\"colab-df-buttons\">\n",
              "\n",
              "  <div class=\"colab-df-container\">\n",
              "    <button class=\"colab-df-convert\" onclick=\"convertToInteractive('df-9bffb1d8-a45d-4132-ab83-7b24b822d449')\"\n",
              "            title=\"Convert this dataframe to an interactive table.\"\n",
              "            style=\"display:none;\">\n",
              "\n",
              "  <svg xmlns=\"http://www.w3.org/2000/svg\" height=\"24px\" viewBox=\"0 -960 960 960\">\n",
              "    <path d=\"M120-120v-720h720v720H120Zm60-500h600v-160H180v160Zm220 220h160v-160H400v160Zm0 220h160v-160H400v160ZM180-400h160v-160H180v160Zm440 0h160v-160H620v160ZM180-180h160v-160H180v160Zm440 0h160v-160H620v160Z\"/>\n",
              "  </svg>\n",
              "    </button>\n",
              "\n",
              "  <style>\n",
              "    .colab-df-container {\n",
              "      display:flex;\n",
              "      gap: 12px;\n",
              "    }\n",
              "\n",
              "    .colab-df-convert {\n",
              "      background-color: #E8F0FE;\n",
              "      border: none;\n",
              "      border-radius: 50%;\n",
              "      cursor: pointer;\n",
              "      display: none;\n",
              "      fill: #1967D2;\n",
              "      height: 32px;\n",
              "      padding: 0 0 0 0;\n",
              "      width: 32px;\n",
              "    }\n",
              "\n",
              "    .colab-df-convert:hover {\n",
              "      background-color: #E2EBFA;\n",
              "      box-shadow: 0px 1px 2px rgba(60, 64, 67, 0.3), 0px 1px 3px 1px rgba(60, 64, 67, 0.15);\n",
              "      fill: #174EA6;\n",
              "    }\n",
              "\n",
              "    .colab-df-buttons div {\n",
              "      margin-bottom: 4px;\n",
              "    }\n",
              "\n",
              "    [theme=dark] .colab-df-convert {\n",
              "      background-color: #3B4455;\n",
              "      fill: #D2E3FC;\n",
              "    }\n",
              "\n",
              "    [theme=dark] .colab-df-convert:hover {\n",
              "      background-color: #434B5C;\n",
              "      box-shadow: 0px 1px 3px 1px rgba(0, 0, 0, 0.15);\n",
              "      filter: drop-shadow(0px 1px 2px rgba(0, 0, 0, 0.3));\n",
              "      fill: #FFFFFF;\n",
              "    }\n",
              "  </style>\n",
              "\n",
              "    <script>\n",
              "      const buttonEl =\n",
              "        document.querySelector('#df-9bffb1d8-a45d-4132-ab83-7b24b822d449 button.colab-df-convert');\n",
              "      buttonEl.style.display =\n",
              "        google.colab.kernel.accessAllowed ? 'block' : 'none';\n",
              "\n",
              "      async function convertToInteractive(key) {\n",
              "        const element = document.querySelector('#df-9bffb1d8-a45d-4132-ab83-7b24b822d449');\n",
              "        const dataTable =\n",
              "          await google.colab.kernel.invokeFunction('convertToInteractive',\n",
              "                                                    [key], {});\n",
              "        if (!dataTable) return;\n",
              "\n",
              "        const docLinkHtml = 'Like what you see? Visit the ' +\n",
              "          '<a target=\"_blank\" href=https://colab.research.google.com/notebooks/data_table.ipynb>data table notebook</a>'\n",
              "          + ' to learn more about interactive tables.';\n",
              "        element.innerHTML = '';\n",
              "        dataTable['output_type'] = 'display_data';\n",
              "        await google.colab.output.renderOutput(dataTable, element);\n",
              "        const docLink = document.createElement('div');\n",
              "        docLink.innerHTML = docLinkHtml;\n",
              "        element.appendChild(docLink);\n",
              "      }\n",
              "    </script>\n",
              "  </div>\n",
              "\n",
              "\n",
              "<div id=\"df-5acc7b7b-d6f3-4471-a94b-3b93d65fe9f6\">\n",
              "  <button class=\"colab-df-quickchart\" onclick=\"quickchart('df-5acc7b7b-d6f3-4471-a94b-3b93d65fe9f6')\"\n",
              "            title=\"Suggest charts\"\n",
              "            style=\"display:none;\">\n",
              "\n",
              "<svg xmlns=\"http://www.w3.org/2000/svg\" height=\"24px\"viewBox=\"0 0 24 24\"\n",
              "     width=\"24px\">\n",
              "    <g>\n",
              "        <path d=\"M19 3H5c-1.1 0-2 .9-2 2v14c0 1.1.9 2 2 2h14c1.1 0 2-.9 2-2V5c0-1.1-.9-2-2-2zM9 17H7v-7h2v7zm4 0h-2V7h2v10zm4 0h-2v-4h2v4z\"/>\n",
              "    </g>\n",
              "</svg>\n",
              "  </button>\n",
              "\n",
              "<style>\n",
              "  .colab-df-quickchart {\n",
              "      --bg-color: #E8F0FE;\n",
              "      --fill-color: #1967D2;\n",
              "      --hover-bg-color: #E2EBFA;\n",
              "      --hover-fill-color: #174EA6;\n",
              "      --disabled-fill-color: #AAA;\n",
              "      --disabled-bg-color: #DDD;\n",
              "  }\n",
              "\n",
              "  [theme=dark] .colab-df-quickchart {\n",
              "      --bg-color: #3B4455;\n",
              "      --fill-color: #D2E3FC;\n",
              "      --hover-bg-color: #434B5C;\n",
              "      --hover-fill-color: #FFFFFF;\n",
              "      --disabled-bg-color: #3B4455;\n",
              "      --disabled-fill-color: #666;\n",
              "  }\n",
              "\n",
              "  .colab-df-quickchart {\n",
              "    background-color: var(--bg-color);\n",
              "    border: none;\n",
              "    border-radius: 50%;\n",
              "    cursor: pointer;\n",
              "    display: none;\n",
              "    fill: var(--fill-color);\n",
              "    height: 32px;\n",
              "    padding: 0;\n",
              "    width: 32px;\n",
              "  }\n",
              "\n",
              "  .colab-df-quickchart:hover {\n",
              "    background-color: var(--hover-bg-color);\n",
              "    box-shadow: 0 1px 2px rgba(60, 64, 67, 0.3), 0 1px 3px 1px rgba(60, 64, 67, 0.15);\n",
              "    fill: var(--button-hover-fill-color);\n",
              "  }\n",
              "\n",
              "  .colab-df-quickchart-complete:disabled,\n",
              "  .colab-df-quickchart-complete:disabled:hover {\n",
              "    background-color: var(--disabled-bg-color);\n",
              "    fill: var(--disabled-fill-color);\n",
              "    box-shadow: none;\n",
              "  }\n",
              "\n",
              "  .colab-df-spinner {\n",
              "    border: 2px solid var(--fill-color);\n",
              "    border-color: transparent;\n",
              "    border-bottom-color: var(--fill-color);\n",
              "    animation:\n",
              "      spin 1s steps(1) infinite;\n",
              "  }\n",
              "\n",
              "  @keyframes spin {\n",
              "    0% {\n",
              "      border-color: transparent;\n",
              "      border-bottom-color: var(--fill-color);\n",
              "      border-left-color: var(--fill-color);\n",
              "    }\n",
              "    20% {\n",
              "      border-color: transparent;\n",
              "      border-left-color: var(--fill-color);\n",
              "      border-top-color: var(--fill-color);\n",
              "    }\n",
              "    30% {\n",
              "      border-color: transparent;\n",
              "      border-left-color: var(--fill-color);\n",
              "      border-top-color: var(--fill-color);\n",
              "      border-right-color: var(--fill-color);\n",
              "    }\n",
              "    40% {\n",
              "      border-color: transparent;\n",
              "      border-right-color: var(--fill-color);\n",
              "      border-top-color: var(--fill-color);\n",
              "    }\n",
              "    60% {\n",
              "      border-color: transparent;\n",
              "      border-right-color: var(--fill-color);\n",
              "    }\n",
              "    80% {\n",
              "      border-color: transparent;\n",
              "      border-right-color: var(--fill-color);\n",
              "      border-bottom-color: var(--fill-color);\n",
              "    }\n",
              "    90% {\n",
              "      border-color: transparent;\n",
              "      border-bottom-color: var(--fill-color);\n",
              "    }\n",
              "  }\n",
              "</style>\n",
              "\n",
              "  <script>\n",
              "    async function quickchart(key) {\n",
              "      const quickchartButtonEl =\n",
              "        document.querySelector('#' + key + ' button');\n",
              "      quickchartButtonEl.disabled = true;  // To prevent multiple clicks.\n",
              "      quickchartButtonEl.classList.add('colab-df-spinner');\n",
              "      try {\n",
              "        const charts = await google.colab.kernel.invokeFunction(\n",
              "            'suggestCharts', [key], {});\n",
              "      } catch (error) {\n",
              "        console.error('Error during call to suggestCharts:', error);\n",
              "      }\n",
              "      quickchartButtonEl.classList.remove('colab-df-spinner');\n",
              "      quickchartButtonEl.classList.add('colab-df-quickchart-complete');\n",
              "    }\n",
              "    (() => {\n",
              "      let quickchartButtonEl =\n",
              "        document.querySelector('#df-5acc7b7b-d6f3-4471-a94b-3b93d65fe9f6 button');\n",
              "      quickchartButtonEl.style.display =\n",
              "        google.colab.kernel.accessAllowed ? 'block' : 'none';\n",
              "    })();\n",
              "  </script>\n",
              "</div>\n",
              "    </div>\n",
              "  </div>\n"
            ]
          },
          "metadata": {},
          "execution_count": 91
        }
      ],
      "source": [
        "data"
      ]
    },
    {
      "cell_type": "markdown",
      "id": "77d734bf",
      "metadata": {
        "id": "77d734bf"
      },
      "source": [
        "~ 2 Lakh rows"
      ]
    },
    {
      "cell_type": "markdown",
      "id": "9f643b56",
      "metadata": {
        "id": "9f643b56"
      },
      "source": [
        "## Exploratory Data Analysis and Data Pre-Processing\n"
      ]
    },
    {
      "cell_type": "code",
      "execution_count": 92,
      "id": "d235bcec",
      "metadata": {
        "scrolled": true,
        "colab": {
          "base_uri": "https://localhost:8080/",
          "height": 237
        },
        "id": "d235bcec",
        "outputId": "2afd05cc-6198-4f31-c014-2a6981c7068e"
      },
      "outputs": [
        {
          "output_type": "execute_result",
          "data": {
            "text/plain": [
              "                      count       mean        std          min        25%  \\\n",
              "fare_amount        199999.0  11.359892   9.901760   -52.000000   6.000000   \n",
              "pickup_longitude   199999.0 -72.527631  11.437815 -1340.648410 -73.992065   \n",
              "pickup_latitude    199999.0  39.935881   7.720558   -74.015515  40.734796   \n",
              "dropoff_longitude  199999.0 -72.525292  13.117408 -3356.666300 -73.991407   \n",
              "dropoff_latitude   199999.0  39.923890   6.794829  -881.985513  40.733823   \n",
              "passenger_count    199999.0   1.684543   1.385995     0.000000   1.000000   \n",
              "\n",
              "                         50%        75%          max  \n",
              "fare_amount         8.500000  12.500000   499.000000  \n",
              "pickup_longitude  -73.981823 -73.967154    57.418457  \n",
              "pickup_latitude    40.752592  40.767158  1644.421482  \n",
              "dropoff_longitude -73.980093 -73.963658  1153.572603  \n",
              "dropoff_latitude   40.753042  40.768001   872.697628  \n",
              "passenger_count     1.000000   2.000000   208.000000  "
            ],
            "text/html": [
              "\n",
              "  <div id=\"df-dca1a78c-b687-4995-abe3-36fe3c883837\" class=\"colab-df-container\">\n",
              "    <div>\n",
              "<style scoped>\n",
              "    .dataframe tbody tr th:only-of-type {\n",
              "        vertical-align: middle;\n",
              "    }\n",
              "\n",
              "    .dataframe tbody tr th {\n",
              "        vertical-align: top;\n",
              "    }\n",
              "\n",
              "    .dataframe thead th {\n",
              "        text-align: right;\n",
              "    }\n",
              "</style>\n",
              "<table border=\"1\" class=\"dataframe\">\n",
              "  <thead>\n",
              "    <tr style=\"text-align: right;\">\n",
              "      <th></th>\n",
              "      <th>count</th>\n",
              "      <th>mean</th>\n",
              "      <th>std</th>\n",
              "      <th>min</th>\n",
              "      <th>25%</th>\n",
              "      <th>50%</th>\n",
              "      <th>75%</th>\n",
              "      <th>max</th>\n",
              "    </tr>\n",
              "  </thead>\n",
              "  <tbody>\n",
              "    <tr>\n",
              "      <th>fare_amount</th>\n",
              "      <td>199999.0</td>\n",
              "      <td>11.359892</td>\n",
              "      <td>9.901760</td>\n",
              "      <td>-52.000000</td>\n",
              "      <td>6.000000</td>\n",
              "      <td>8.500000</td>\n",
              "      <td>12.500000</td>\n",
              "      <td>499.000000</td>\n",
              "    </tr>\n",
              "    <tr>\n",
              "      <th>pickup_longitude</th>\n",
              "      <td>199999.0</td>\n",
              "      <td>-72.527631</td>\n",
              "      <td>11.437815</td>\n",
              "      <td>-1340.648410</td>\n",
              "      <td>-73.992065</td>\n",
              "      <td>-73.981823</td>\n",
              "      <td>-73.967154</td>\n",
              "      <td>57.418457</td>\n",
              "    </tr>\n",
              "    <tr>\n",
              "      <th>pickup_latitude</th>\n",
              "      <td>199999.0</td>\n",
              "      <td>39.935881</td>\n",
              "      <td>7.720558</td>\n",
              "      <td>-74.015515</td>\n",
              "      <td>40.734796</td>\n",
              "      <td>40.752592</td>\n",
              "      <td>40.767158</td>\n",
              "      <td>1644.421482</td>\n",
              "    </tr>\n",
              "    <tr>\n",
              "      <th>dropoff_longitude</th>\n",
              "      <td>199999.0</td>\n",
              "      <td>-72.525292</td>\n",
              "      <td>13.117408</td>\n",
              "      <td>-3356.666300</td>\n",
              "      <td>-73.991407</td>\n",
              "      <td>-73.980093</td>\n",
              "      <td>-73.963658</td>\n",
              "      <td>1153.572603</td>\n",
              "    </tr>\n",
              "    <tr>\n",
              "      <th>dropoff_latitude</th>\n",
              "      <td>199999.0</td>\n",
              "      <td>39.923890</td>\n",
              "      <td>6.794829</td>\n",
              "      <td>-881.985513</td>\n",
              "      <td>40.733823</td>\n",
              "      <td>40.753042</td>\n",
              "      <td>40.768001</td>\n",
              "      <td>872.697628</td>\n",
              "    </tr>\n",
              "    <tr>\n",
              "      <th>passenger_count</th>\n",
              "      <td>199999.0</td>\n",
              "      <td>1.684543</td>\n",
              "      <td>1.385995</td>\n",
              "      <td>0.000000</td>\n",
              "      <td>1.000000</td>\n",
              "      <td>1.000000</td>\n",
              "      <td>2.000000</td>\n",
              "      <td>208.000000</td>\n",
              "    </tr>\n",
              "  </tbody>\n",
              "</table>\n",
              "</div>\n",
              "    <div class=\"colab-df-buttons\">\n",
              "\n",
              "  <div class=\"colab-df-container\">\n",
              "    <button class=\"colab-df-convert\" onclick=\"convertToInteractive('df-dca1a78c-b687-4995-abe3-36fe3c883837')\"\n",
              "            title=\"Convert this dataframe to an interactive table.\"\n",
              "            style=\"display:none;\">\n",
              "\n",
              "  <svg xmlns=\"http://www.w3.org/2000/svg\" height=\"24px\" viewBox=\"0 -960 960 960\">\n",
              "    <path d=\"M120-120v-720h720v720H120Zm60-500h600v-160H180v160Zm220 220h160v-160H400v160Zm0 220h160v-160H400v160ZM180-400h160v-160H180v160Zm440 0h160v-160H620v160ZM180-180h160v-160H180v160Zm440 0h160v-160H620v160Z\"/>\n",
              "  </svg>\n",
              "    </button>\n",
              "\n",
              "  <style>\n",
              "    .colab-df-container {\n",
              "      display:flex;\n",
              "      gap: 12px;\n",
              "    }\n",
              "\n",
              "    .colab-df-convert {\n",
              "      background-color: #E8F0FE;\n",
              "      border: none;\n",
              "      border-radius: 50%;\n",
              "      cursor: pointer;\n",
              "      display: none;\n",
              "      fill: #1967D2;\n",
              "      height: 32px;\n",
              "      padding: 0 0 0 0;\n",
              "      width: 32px;\n",
              "    }\n",
              "\n",
              "    .colab-df-convert:hover {\n",
              "      background-color: #E2EBFA;\n",
              "      box-shadow: 0px 1px 2px rgba(60, 64, 67, 0.3), 0px 1px 3px 1px rgba(60, 64, 67, 0.15);\n",
              "      fill: #174EA6;\n",
              "    }\n",
              "\n",
              "    .colab-df-buttons div {\n",
              "      margin-bottom: 4px;\n",
              "    }\n",
              "\n",
              "    [theme=dark] .colab-df-convert {\n",
              "      background-color: #3B4455;\n",
              "      fill: #D2E3FC;\n",
              "    }\n",
              "\n",
              "    [theme=dark] .colab-df-convert:hover {\n",
              "      background-color: #434B5C;\n",
              "      box-shadow: 0px 1px 3px 1px rgba(0, 0, 0, 0.15);\n",
              "      filter: drop-shadow(0px 1px 2px rgba(0, 0, 0, 0.3));\n",
              "      fill: #FFFFFF;\n",
              "    }\n",
              "  </style>\n",
              "\n",
              "    <script>\n",
              "      const buttonEl =\n",
              "        document.querySelector('#df-dca1a78c-b687-4995-abe3-36fe3c883837 button.colab-df-convert');\n",
              "      buttonEl.style.display =\n",
              "        google.colab.kernel.accessAllowed ? 'block' : 'none';\n",
              "\n",
              "      async function convertToInteractive(key) {\n",
              "        const element = document.querySelector('#df-dca1a78c-b687-4995-abe3-36fe3c883837');\n",
              "        const dataTable =\n",
              "          await google.colab.kernel.invokeFunction('convertToInteractive',\n",
              "                                                    [key], {});\n",
              "        if (!dataTable) return;\n",
              "\n",
              "        const docLinkHtml = 'Like what you see? Visit the ' +\n",
              "          '<a target=\"_blank\" href=https://colab.research.google.com/notebooks/data_table.ipynb>data table notebook</a>'\n",
              "          + ' to learn more about interactive tables.';\n",
              "        element.innerHTML = '';\n",
              "        dataTable['output_type'] = 'display_data';\n",
              "        await google.colab.output.renderOutput(dataTable, element);\n",
              "        const docLink = document.createElement('div');\n",
              "        docLink.innerHTML = docLinkHtml;\n",
              "        element.appendChild(docLink);\n",
              "      }\n",
              "    </script>\n",
              "  </div>\n",
              "\n",
              "\n",
              "<div id=\"df-137c6fbf-011c-4516-b721-0399bbc191f3\">\n",
              "  <button class=\"colab-df-quickchart\" onclick=\"quickchart('df-137c6fbf-011c-4516-b721-0399bbc191f3')\"\n",
              "            title=\"Suggest charts\"\n",
              "            style=\"display:none;\">\n",
              "\n",
              "<svg xmlns=\"http://www.w3.org/2000/svg\" height=\"24px\"viewBox=\"0 0 24 24\"\n",
              "     width=\"24px\">\n",
              "    <g>\n",
              "        <path d=\"M19 3H5c-1.1 0-2 .9-2 2v14c0 1.1.9 2 2 2h14c1.1 0 2-.9 2-2V5c0-1.1-.9-2-2-2zM9 17H7v-7h2v7zm4 0h-2V7h2v10zm4 0h-2v-4h2v4z\"/>\n",
              "    </g>\n",
              "</svg>\n",
              "  </button>\n",
              "\n",
              "<style>\n",
              "  .colab-df-quickchart {\n",
              "      --bg-color: #E8F0FE;\n",
              "      --fill-color: #1967D2;\n",
              "      --hover-bg-color: #E2EBFA;\n",
              "      --hover-fill-color: #174EA6;\n",
              "      --disabled-fill-color: #AAA;\n",
              "      --disabled-bg-color: #DDD;\n",
              "  }\n",
              "\n",
              "  [theme=dark] .colab-df-quickchart {\n",
              "      --bg-color: #3B4455;\n",
              "      --fill-color: #D2E3FC;\n",
              "      --hover-bg-color: #434B5C;\n",
              "      --hover-fill-color: #FFFFFF;\n",
              "      --disabled-bg-color: #3B4455;\n",
              "      --disabled-fill-color: #666;\n",
              "  }\n",
              "\n",
              "  .colab-df-quickchart {\n",
              "    background-color: var(--bg-color);\n",
              "    border: none;\n",
              "    border-radius: 50%;\n",
              "    cursor: pointer;\n",
              "    display: none;\n",
              "    fill: var(--fill-color);\n",
              "    height: 32px;\n",
              "    padding: 0;\n",
              "    width: 32px;\n",
              "  }\n",
              "\n",
              "  .colab-df-quickchart:hover {\n",
              "    background-color: var(--hover-bg-color);\n",
              "    box-shadow: 0 1px 2px rgba(60, 64, 67, 0.3), 0 1px 3px 1px rgba(60, 64, 67, 0.15);\n",
              "    fill: var(--button-hover-fill-color);\n",
              "  }\n",
              "\n",
              "  .colab-df-quickchart-complete:disabled,\n",
              "  .colab-df-quickchart-complete:disabled:hover {\n",
              "    background-color: var(--disabled-bg-color);\n",
              "    fill: var(--disabled-fill-color);\n",
              "    box-shadow: none;\n",
              "  }\n",
              "\n",
              "  .colab-df-spinner {\n",
              "    border: 2px solid var(--fill-color);\n",
              "    border-color: transparent;\n",
              "    border-bottom-color: var(--fill-color);\n",
              "    animation:\n",
              "      spin 1s steps(1) infinite;\n",
              "  }\n",
              "\n",
              "  @keyframes spin {\n",
              "    0% {\n",
              "      border-color: transparent;\n",
              "      border-bottom-color: var(--fill-color);\n",
              "      border-left-color: var(--fill-color);\n",
              "    }\n",
              "    20% {\n",
              "      border-color: transparent;\n",
              "      border-left-color: var(--fill-color);\n",
              "      border-top-color: var(--fill-color);\n",
              "    }\n",
              "    30% {\n",
              "      border-color: transparent;\n",
              "      border-left-color: var(--fill-color);\n",
              "      border-top-color: var(--fill-color);\n",
              "      border-right-color: var(--fill-color);\n",
              "    }\n",
              "    40% {\n",
              "      border-color: transparent;\n",
              "      border-right-color: var(--fill-color);\n",
              "      border-top-color: var(--fill-color);\n",
              "    }\n",
              "    60% {\n",
              "      border-color: transparent;\n",
              "      border-right-color: var(--fill-color);\n",
              "    }\n",
              "    80% {\n",
              "      border-color: transparent;\n",
              "      border-right-color: var(--fill-color);\n",
              "      border-bottom-color: var(--fill-color);\n",
              "    }\n",
              "    90% {\n",
              "      border-color: transparent;\n",
              "      border-bottom-color: var(--fill-color);\n",
              "    }\n",
              "  }\n",
              "</style>\n",
              "\n",
              "  <script>\n",
              "    async function quickchart(key) {\n",
              "      const quickchartButtonEl =\n",
              "        document.querySelector('#' + key + ' button');\n",
              "      quickchartButtonEl.disabled = true;  // To prevent multiple clicks.\n",
              "      quickchartButtonEl.classList.add('colab-df-spinner');\n",
              "      try {\n",
              "        const charts = await google.colab.kernel.invokeFunction(\n",
              "            'suggestCharts', [key], {});\n",
              "      } catch (error) {\n",
              "        console.error('Error during call to suggestCharts:', error);\n",
              "      }\n",
              "      quickchartButtonEl.classList.remove('colab-df-spinner');\n",
              "      quickchartButtonEl.classList.add('colab-df-quickchart-complete');\n",
              "    }\n",
              "    (() => {\n",
              "      let quickchartButtonEl =\n",
              "        document.querySelector('#df-137c6fbf-011c-4516-b721-0399bbc191f3 button');\n",
              "      quickchartButtonEl.style.display =\n",
              "        google.colab.kernel.accessAllowed ? 'block' : 'none';\n",
              "    })();\n",
              "  </script>\n",
              "</div>\n",
              "    </div>\n",
              "  </div>\n"
            ]
          },
          "metadata": {},
          "execution_count": 92
        }
      ],
      "source": [
        "stats = data.describe().T #returns the transposed version of the data summary\n",
        "stats"
      ]
    },
    {
      "cell_type": "markdown",
      "id": "37e35acd",
      "metadata": {
        "id": "37e35acd"
      },
      "source": [
        "In Python, data.describe() and data.describe().T are two different methods used to get summary statistics of a given DataFrame or Series object.\n",
        "\n",
        "data.describe() returns a DataFrame containing various statistics such as count, mean, standard deviation, minimum, and maximum values for each numeric column in the given DataFrame. This method returns the summary statistics in a vertical format, with columns representing the different statistics and rows representing the different numeric columns in the DataFrame.\n",
        "\n",
        "On the other hand, data.describe().T returns a transposed version of the summary statistics DataFrame obtained from data.describe(). The .T attribute of the DataFrame object is used to transpose the rows and columns of the DataFrame, effectively converting the vertical format to a horizontal format. This method returns the same summary statistics as data.describe(), but in a horizontal format, with rows representing the different statistics and columns representing the different numeric columns in the DataFrame.\n",
        "\n",
        "In summary, data.describe() returns the summary statistics in a vertical format, while data.describe().T returns the same summary statistics in a horizontal format."
      ]
    },
    {
      "cell_type": "code",
      "execution_count": 93,
      "id": "6d342221",
      "metadata": {
        "colab": {
          "base_uri": "https://localhost:8080/",
          "height": 539
        },
        "id": "6d342221",
        "outputId": "d77a77bd-e63e-4fbc-e5ee-807d05d50db3"
      },
      "outputs": [
        {
          "output_type": "display_data",
          "data": {
            "text/plain": [
              "<Figure size 640x480 with 1 Axes>"
            ],
            "image/png": "[encoded data removed]"
          },
          "metadata": {}
        }
      ],
      "source": [
        "stats.plot(kind='bar')\n",
        "plt.show()"
      ]
    },
    {
      "cell_type": "code",
      "execution_count": 94,
      "id": "6b7ea8d7",
      "metadata": {
        "id": "6b7ea8d7"
      },
      "outputs": [],
      "source": [
        "stats\n",
        "stats = stats.drop('count',axis=1)"
      ]
    },
    {
      "cell_type": "code",
      "execution_count": 95,
      "id": "47665eee",
      "metadata": {
        "colab": {
          "base_uri": "https://localhost:8080/",
          "height": 830
        },
        "id": "47665eee",
        "outputId": "9c15d6d5-4305-448a-c61f-5673df841741"
      },
      "outputs": [
        {
          "output_type": "display_data",
          "data": {
            "text/plain": [
              "<Figure size 1000x1000 with 1 Axes>"
            ],
            "image/png": "[encoded data removed]"
          },
          "metadata": {}
        }
      ],
      "source": [
        "stats.plot(figsize=(10,10), kind='line', grid='true')\n",
        "plt.show()"
      ]
    },
    {
      "cell_type": "code",
      "execution_count": 96,
      "id": "1c0fb54c",
      "metadata": {
        "colab": {
          "base_uri": "https://localhost:8080/",
          "height": 292
        },
        "id": "1c0fb54c",
        "outputId": "dafcc845-fb90-4b62-91a3-3ca9e5980aa6"
      },
      "outputs": [
        {
          "output_type": "stream",
          "name": "stderr",
          "text": [
            "<ipython-input-96-c44ded798807>:1: FutureWarning: The default value of numeric_only in DataFrame.corr is deprecated. In a future version, it will default to False. Select only valid columns or specify the value of numeric_only to silence this warning.\n",
            "  data.corr()\n"
          ]
        },
        {
          "output_type": "execute_result",
          "data": {
            "text/plain": [
              "                   fare_amount  pickup_longitude  pickup_latitude  \\\n",
              "fare_amount           1.000000          0.010458        -0.008482   \n",
              "pickup_longitude      0.010458          1.000000        -0.816461   \n",
              "pickup_latitude      -0.008482         -0.816461         1.000000   \n",
              "dropoff_longitude     0.008986          0.833026        -0.774787   \n",
              "dropoff_latitude     -0.011014         -0.846324         0.702367   \n",
              "passenger_count       0.010158         -0.000415        -0.001559   \n",
              "\n",
              "                   dropoff_longitude  dropoff_latitude  passenger_count  \n",
              "fare_amount                 0.008986         -0.011014         0.010158  \n",
              "pickup_longitude            0.833026         -0.846324        -0.000415  \n",
              "pickup_latitude            -0.774787          0.702367        -0.001559  \n",
              "dropoff_longitude           1.000000         -0.917010         0.000033  \n",
              "dropoff_latitude           -0.917010          1.000000        -0.000659  \n",
              "passenger_count             0.000033         -0.000659         1.000000  "
            ],
            "text/html": [
              "\n",
              "  <div id=\"df-4583dab3-71a2-4147-99c4-69ef5c19f862\" class=\"colab-df-container\">\n",
              "    <div>\n",
              "<style scoped>\n",
              "    .dataframe tbody tr th:only-of-type {\n",
              "        vertical-align: middle;\n",
              "    }\n",
              "\n",
              "    .dataframe tbody tr th {\n",
              "        vertical-align: top;\n",
              "    }\n",
              "\n",
              "    .dataframe thead th {\n",
              "        text-align: right;\n",
              "    }\n",
              "</style>\n",
              "<table border=\"1\" class=\"dataframe\">\n",
              "  <thead>\n",
              "    <tr style=\"text-align: right;\">\n",
              "      <th></th>\n",
              "      <th>fare_amount</th>\n",
              "      <th>pickup_longitude</th>\n",
              "      <th>pickup_latitude</th>\n",
              "      <th>dropoff_longitude</th>\n",
              "      <th>dropoff_latitude</th>\n",
              "      <th>passenger_count</th>\n",
              "    </tr>\n",
              "  </thead>\n",
              "  <tbody>\n",
              "    <tr>\n",
              "      <th>fare_amount</th>\n",
              "      <td>1.000000</td>\n",
              "      <td>0.010458</td>\n",
              "      <td>-0.008482</td>\n",
              "      <td>0.008986</td>\n",
              "      <td>-0.011014</td>\n",
              "      <td>0.010158</td>\n",
              "    </tr>\n",
              "    <tr>\n",
              "      <th>pickup_longitude</th>\n",
              "      <td>0.010458</td>\n",
              "      <td>1.000000</td>\n",
              "      <td>-0.816461</td>\n",
              "      <td>0.833026</td>\n",
              "      <td>-0.846324</td>\n",
              "      <td>-0.000415</td>\n",
              "    </tr>\n",
              "    <tr>\n",
              "      <th>pickup_latitude</th>\n",
              "      <td>-0.008482</td>\n",
              "      <td>-0.816461</td>\n",
              "      <td>1.000000</td>\n",
              "      <td>-0.774787</td>\n",
              "      <td>0.702367</td>\n",
              "      <td>-0.001559</td>\n",
              "    </tr>\n",
              "    <tr>\n",
              "      <th>dropoff_longitude</th>\n",
              "      <td>0.008986</td>\n",
              "      <td>0.833026</td>\n",
              "      <td>-0.774787</td>\n",
              "      <td>1.000000</td>\n",
              "      <td>-0.917010</td>\n",
              "      <td>0.000033</td>\n",
              "    </tr>\n",
              "    <tr>\n",
              "      <th>dropoff_latitude</th>\n",
              "      <td>-0.011014</td>\n",
              "      <td>-0.846324</td>\n",
              "      <td>0.702367</td>\n",
              "      <td>-0.917010</td>\n",
              "      <td>1.000000</td>\n",
              "      <td>-0.000659</td>\n",
              "    </tr>\n",
              "    <tr>\n",
              "      <th>passenger_count</th>\n",
              "      <td>0.010158</td>\n",
              "      <td>-0.000415</td>\n",
              "      <td>-0.001559</td>\n",
              "      <td>0.000033</td>\n",
              "      <td>-0.000659</td>\n",
              "      <td>1.000000</td>\n",
              "    </tr>\n",
              "  </tbody>\n",
              "</table>\n",
              "</div>\n",
              "    <div class=\"colab-df-buttons\">\n",
              "\n",
              "  <div class=\"colab-df-container\">\n",
              "    <button class=\"colab-df-convert\" onclick=\"convertToInteractive('df-4583dab3-71a2-4147-99c4-69ef5c19f862')\"\n",
              "            title=\"Convert this dataframe to an interactive table.\"\n",
              "            style=\"display:none;\">\n",
              "\n",
              "  <svg xmlns=\"http://www.w3.org/2000/svg\" height=\"24px\" viewBox=\"0 -960 960 960\">\n",
              "    <path d=\"M120-120v-720h720v720H120Zm60-500h600v-160H180v160Zm220 220h160v-160H400v160Zm0 220h160v-160H400v160ZM180-400h160v-160H180v160Zm440 0h160v-160H620v160ZM180-180h160v-160H180v160Zm440 0h160v-160H620v160Z\"/>\n",
              "  </svg>\n",
              "    </button>\n",
              "\n",
              "  <style>\n",
              "    .colab-df-container {\n",
              "      display:flex;\n",
              "      gap: 12px;\n",
              "    }\n",
              "\n",
              "    .colab-df-convert {\n",
              "      background-color: #E8F0FE;\n",
              "      border: none;\n",
              "      border-radius: 50%;\n",
              "      cursor: pointer;\n",
              "      display: none;\n",
              "      fill: #1967D2;\n",
              "      height: 32px;\n",
              "      padding: 0 0 0 0;\n",
              "      width: 32px;\n",
              "    }\n",
              "\n",
              "    .colab-df-convert:hover {\n",
              "      background-color: #E2EBFA;\n",
              "      box-shadow: 0px 1px 2px rgba(60, 64, 67, 0.3), 0px 1px 3px 1px rgba(60, 64, 67, 0.15);\n",
              "      fill: #174EA6;\n",
              "    }\n",
              "\n",
              "    .colab-df-buttons div {\n",
              "      margin-bottom: 4px;\n",
              "    }\n",
              "\n",
              "    [theme=dark] .colab-df-convert {\n",
              "      background-color: #3B4455;\n",
              "      fill: #D2E3FC;\n",
              "    }\n",
              "\n",
              "    [theme=dark] .colab-df-convert:hover {\n",
              "      background-color: #434B5C;\n",
              "      box-shadow: 0px 1px 3px 1px rgba(0, 0, 0, 0.15);\n",
              "      filter: drop-shadow(0px 1px 2px rgba(0, 0, 0, 0.3));\n",
              "      fill: #FFFFFF;\n",
              "    }\n",
              "  </style>\n",
              "\n",
              "    <script>\n",
              "      const buttonEl =\n",
              "        document.querySelector('#df-4583dab3-71a2-4147-99c4-69ef5c19f862 button.colab-df-convert');\n",
              "      buttonEl.style.display =\n",
              "        google.colab.kernel.accessAllowed ? 'block' : 'none';\n",
              "\n",
              "      async function convertToInteractive(key) {\n",
              "        const element = document.querySelector('#df-4583dab3-71a2-4147-99c4-69ef5c19f862');\n",
              "        const dataTable =\n",
              "          await google.colab.kernel.invokeFunction('convertToInteractive',\n",
              "                                                    [key], {});\n",
              "        if (!dataTable) return;\n",
              "\n",
              "        const docLinkHtml = 'Like what you see? Visit the ' +\n",
              "          '<a target=\"_blank\" href=https://colab.research.google.com/notebooks/data_table.ipynb>data table notebook</a>'\n",
              "          + ' to learn more about interactive tables.';\n",
              "        element.innerHTML = '';\n",
              "        dataTable['output_type'] = 'display_data';\n",
              "        await google.colab.output.renderOutput(dataTable, element);\n",
              "        const docLink = document.createElement('div');\n",
              "        docLink.innerHTML = docLinkHtml;\n",
              "        element.appendChild(docLink);\n",
              "      }\n",
              "    </script>\n",
              "  </div>\n",
              "\n",
              "\n",
              "<div id=\"df-24024be7-dfad-488d-8105-a6d5094604a8\">\n",
              "  <button class=\"colab-df-quickchart\" onclick=\"quickchart('df-24024be7-dfad-488d-8105-a6d5094604a8')\"\n",
              "            title=\"Suggest charts\"\n",
              "            style=\"display:none;\">\n",
              "\n",
              "<svg xmlns=\"http://www.w3.org/2000/svg\" height=\"24px\"viewBox=\"0 0 24 24\"\n",
              "     width=\"24px\">\n",
              "    <g>\n",
              "        <path d=\"M19 3H5c-1.1 0-2 .9-2 2v14c0 1.1.9 2 2 2h14c1.1 0 2-.9 2-2V5c0-1.1-.9-2-2-2zM9 17H7v-7h2v7zm4 0h-2V7h2v10zm4 0h-2v-4h2v4z\"/>\n",
              "    </g>\n",
              "</svg>\n",
              "  </button>\n",
              "\n",
              "<style>\n",
              "  .colab-df-quickchart {\n",
              "      --bg-color: #E8F0FE;\n",
              "      --fill-color: #1967D2;\n",
              "      --hover-bg-color: #E2EBFA;\n",
              "      --hover-fill-color: #174EA6;\n",
              "      --disabled-fill-color: #AAA;\n",
              "      --disabled-bg-color: #DDD;\n",
              "  }\n",
              "\n",
              "  [theme=dark] .colab-df-quickchart {\n",
              "      --bg-color: #3B4455;\n",
              "      --fill-color: #D2E3FC;\n",
              "      --hover-bg-color: #434B5C;\n",
              "      --hover-fill-color: #FFFFFF;\n",
              "      --disabled-bg-color: #3B4455;\n",
              "      --disabled-fill-color: #666;\n",
              "  }\n",
              "\n",
              "  .colab-df-quickchart {\n",
              "    background-color: var(--bg-color);\n",
              "    border: none;\n",
              "    border-radius: 50%;\n",
              "    cursor: pointer;\n",
              "    display: none;\n",
              "    fill: var(--fill-color);\n",
              "    height: 32px;\n",
              "    padding: 0;\n",
              "    width: 32px;\n",
              "  }\n",
              "\n",
              "  .colab-df-quickchart:hover {\n",
              "    background-color: var(--hover-bg-color);\n",
              "    box-shadow: 0 1px 2px rgba(60, 64, 67, 0.3), 0 1px 3px 1px rgba(60, 64, 67, 0.15);\n",
              "    fill: var(--button-hover-fill-color);\n",
              "  }\n",
              "\n",
              "  .colab-df-quickchart-complete:disabled,\n",
              "  .colab-df-quickchart-complete:disabled:hover {\n",
              "    background-color: var(--disabled-bg-color);\n",
              "    fill: var(--disabled-fill-color);\n",
              "    box-shadow: none;\n",
              "  }\n",
              "\n",
              "  .colab-df-spinner {\n",
              "    border: 2px solid var(--fill-color);\n",
              "    border-color: transparent;\n",
              "    border-bottom-color: var(--fill-color);\n",
              "    animation:\n",
              "      spin 1s steps(1) infinite;\n",
              "  }\n",
              "\n",
              "  @keyframes spin {\n",
              "    0% {\n",
              "      border-color: transparent;\n",
              "      border-bottom-color: var(--fill-color);\n",
              "      border-left-color: var(--fill-color);\n",
              "    }\n",
              "    20% {\n",
              "      border-color: transparent;\n",
              "      border-left-color: var(--fill-color);\n",
              "      border-top-color: var(--fill-color);\n",
              "    }\n",
              "    30% {\n",
              "      border-color: transparent;\n",
              "      border-left-color: var(--fill-color);\n",
              "      border-top-color: var(--fill-color);\n",
              "      border-right-color: var(--fill-color);\n",
              "    }\n",
              "    40% {\n",
              "      border-color: transparent;\n",
              "      border-right-color: var(--fill-color);\n",
              "      border-top-color: var(--fill-color);\n",
              "    }\n",
              "    60% {\n",
              "      border-color: transparent;\n",
              "      border-right-color: var(--fill-color);\n",
              "    }\n",
              "    80% {\n",
              "      border-color: transparent;\n",
              "      border-right-color: var(--fill-color);\n",
              "      border-bottom-color: var(--fill-color);\n",
              "    }\n",
              "    90% {\n",
              "      border-color: transparent;\n",
              "      border-bottom-color: var(--fill-color);\n",
              "    }\n",
              "  }\n",
              "</style>\n",
              "\n",
              "  <script>\n",
              "    async function quickchart(key) {\n",
              "      const quickchartButtonEl =\n",
              "        document.querySelector('#' + key + ' button');\n",
              "      quickchartButtonEl.disabled = true;  // To prevent multiple clicks.\n",
              "      quickchartButtonEl.classList.add('colab-df-spinner');\n",
              "      try {\n",
              "        const charts = await google.colab.kernel.invokeFunction(\n",
              "            'suggestCharts', [key], {});\n",
              "      } catch (error) {\n",
              "        console.error('Error during call to suggestCharts:', error);\n",
              "      }\n",
              "      quickchartButtonEl.classList.remove('colab-df-spinner');\n",
              "      quickchartButtonEl.classList.add('colab-df-quickchart-complete');\n",
              "    }\n",
              "    (() => {\n",
              "      let quickchartButtonEl =\n",
              "        document.querySelector('#df-24024be7-dfad-488d-8105-a6d5094604a8 button');\n",
              "      quickchartButtonEl.style.display =\n",
              "        google.colab.kernel.accessAllowed ? 'block' : 'none';\n",
              "    })();\n",
              "  </script>\n",
              "</div>\n",
              "    </div>\n",
              "  </div>\n"
            ]
          },
          "metadata": {},
          "execution_count": 96
        }
      ],
      "source": [
        "data.corr()"
      ]
    },
    {
      "cell_type": "code",
      "execution_count": 97,
      "id": "c2f1170e",
      "metadata": {
        "colab": {
          "base_uri": "https://localhost:8080/",
          "height": 908
        },
        "id": "c2f1170e",
        "outputId": "d65164c5-6515-48dc-93c1-cdd96060e7d6"
      },
      "outputs": [
        {
          "output_type": "stream",
          "name": "stderr",
          "text": [
            "<ipython-input-97-acbf16fcc3e7>:3: FutureWarning: The default value of numeric_only in DataFrame.corr is deprecated. In a future version, it will default to False. Select only valid columns or specify the value of numeric_only to silence this warning.\n",
            "  sns.heatmap(data.corr(), annot=True, linewidths=.5, vmin = -1, vmax = 1, fmt = '.2g')\n"
          ]
        },
        {
          "output_type": "execute_result",
          "data": {
            "text/plain": [
              "<Axes: >"
            ]
          },
          "metadata": {},
          "execution_count": 97
        },
        {
          "output_type": "display_data",
          "data": {
            "text/plain": [
              "<Figure size 1500x1000 with 2 Axes>"
            ],
            "image/png": "[encoded data removed]"
          },
          "metadata": {}
        }
      ],
      "source": [
        "# Plot the Correlation matrix\n",
        "plt.figure(figsize=(15,10))\n",
        "sns.heatmap(data.corr(), annot=True, linewidths=.5, vmin = -1, vmax = 1, fmt = '.2g')"
      ]
    },
    {
      "cell_type": "code",
      "execution_count": 98,
      "id": "7adccaa0",
      "metadata": {
        "id": "7adccaa0"
      },
      "outputs": [],
      "source": [
        "from math import *"
      ]
    },
    {
      "cell_type": "code",
      "execution_count": 99,
      "id": "d24ae521",
      "metadata": {
        "id": "d24ae521"
      },
      "outputs": [],
      "source": [
        "# Define formula to calculate haversine distance\n",
        "def distance(longitude1, latitude1, longitude2, latitude2):\n",
        "    travel_dist = []\n",
        "\n",
        "    for pos in range(len(longitude1)):\n",
        "        long1,lati1,long2,lati2 = map(radians,[longitude1[pos],latitude1[pos],longitude2[pos],latitude2[pos]])\n",
        "        dist_long = long2 - long1\n",
        "        dist_lati = lati2 - lati1\n",
        "        a = sin(dist_lati/2)**2 + cos(lati1) * cos(lati2) * sin(dist_long/2)**2\n",
        "        c = 2 * asin(sqrt(a))*6371\n",
        "        travel_dist.append(c)\n",
        "\n",
        "    return travel_dist"
      ]
    },
    {
      "cell_type": "code",
      "execution_count": 100,
      "id": "053b5c26",
      "metadata": {
        "id": "053b5c26"
      },
      "outputs": [],
      "source": [
        "# Calculate Haversine distance for each row and add distance in km as a new column\n",
        "data['distance_travelled'] = distance(data['pickup_longitude'].to_numpy(),\n",
        "                                                data['pickup_latitude'].to_numpy(),\n",
        "                                                data['dropoff_longitude'].to_numpy(),\n",
        "                                                data['dropoff_latitude'].to_numpy()\n",
        "                                              )"
      ]
    },
    {
      "cell_type": "code",
      "execution_count": 101,
      "id": "2423ee3f",
      "metadata": {
        "colab": {
          "base_uri": "https://localhost:8080/"
        },
        "id": "2423ee3f",
        "outputId": "56f59c80-81b4-4880-c62c-2e11baebcf2e"
      },
      "outputs": [
        {
          "output_type": "stream",
          "name": "stdout",
          "text": [
            "<class 'pandas.core.frame.DataFrame'>\n",
            "Int64Index: 199999 entries, 0 to 199999\n",
            "Data columns (total 8 columns):\n",
            " #   Column              Non-Null Count   Dtype  \n",
            "---  ------              --------------   -----  \n",
            " 0   fare_amount         199999 non-null  float64\n",
            " 1   pickup_datetime     199999 non-null  object \n",
            " 2   pickup_longitude    199999 non-null  float64\n",
            " 3   pickup_latitude     199999 non-null  float64\n",
            " 4   dropoff_longitude   199999 non-null  float64\n",
            " 5   dropoff_latitude    199999 non-null  float64\n",
            " 6   passenger_count     199999 non-null  int64  \n",
            " 7   distance_travelled  199999 non-null  float64\n",
            "dtypes: float64(6), int64(1), object(1)\n",
            "memory usage: 13.7+ MB\n"
          ]
        }
      ],
      "source": [
        "data.info()"
      ]
    },
    {
      "cell_type": "code",
      "execution_count": 102,
      "id": "c4d1f5cb",
      "metadata": {
        "id": "c4d1f5cb"
      },
      "outputs": [],
      "source": [
        "# As we can see, pickup_datetime is being read as an object data type. However, we need to convert it into datetime data type\n",
        "data['pickup_datetime']  = pd.to_datetime(data['pickup_datetime'])"
      ]
    },
    {
      "cell_type": "code",
      "execution_count": 103,
      "id": "1d1b0c41",
      "metadata": {
        "colab": {
          "base_uri": "https://localhost:8080/"
        },
        "id": "1d1b0c41",
        "outputId": "218044dc-99ff-4029-ca68-4b7b709921ad"
      },
      "outputs": [
        {
          "output_type": "stream",
          "name": "stdout",
          "text": [
            "<class 'pandas.core.frame.DataFrame'>\n",
            "Int64Index: 199999 entries, 0 to 199999\n",
            "Data columns (total 8 columns):\n",
            " #   Column              Non-Null Count   Dtype              \n",
            "---  ------              --------------   -----              \n",
            " 0   fare_amount         199999 non-null  float64            \n",
            " 1   pickup_datetime     199999 non-null  datetime64[ns, UTC]\n",
            " 2   pickup_longitude    199999 non-null  float64            \n",
            " 3   pickup_latitude     199999 non-null  float64            \n",
            " 4   dropoff_longitude   199999 non-null  float64            \n",
            " 5   dropoff_latitude    199999 non-null  float64            \n",
            " 6   passenger_count     199999 non-null  int64              \n",
            " 7   distance_travelled  199999 non-null  float64            \n",
            "dtypes: datetime64[ns, UTC](1), float64(6), int64(1)\n",
            "memory usage: 13.7 MB\n"
          ]
        }
      ],
      "source": [
        "data.info()"
      ]
    },
    {
      "cell_type": "markdown",
      "id": "33fe1633",
      "metadata": {
        "id": "33fe1633"
      },
      "source": [
        "Feature Engineering"
      ]
    },
    {
      "cell_type": "code",
      "execution_count": 104,
      "id": "e8240ea2",
      "metadata": {
        "id": "e8240ea2"
      },
      "outputs": [],
      "source": [
        "\n",
        "# From pickup_datetime extract date, month, year, weekday and dayname\n",
        "from datetime import datetime\n",
        "\n",
        "data['date'] = pd.to_datetime(data['pickup_datetime']).dt.date\n",
        "data['month'] = pd.to_datetime(data['pickup_datetime']).dt.month\n",
        "data['year'] = pd.to_datetime(data['pickup_datetime']).dt.year\n",
        "data['day_of_the_week'] = pd.to_datetime(data['pickup_datetime']).dt.weekday\n",
        "data['day_name'] = pd.to_datetime(data['pickup_datetime']).dt.day_name()\n",
        "data['pickup_time'] = pd.to_datetime(data['pickup_datetime']).dt.time\n",
        "data['pickup_hour'] = pd.to_datetime(data['pickup_datetime']).dt.hour"
      ]
    },
    {
      "cell_type": "code",
      "execution_count": 105,
      "id": "db1608c4",
      "metadata": {
        "colab": {
          "base_uri": "https://localhost:8080/"
        },
        "id": "db1608c4",
        "outputId": "5f91b10e-fb3a-46c6-856a-e6a99eaaa7d4"
      },
      "outputs": [
        {
          "output_type": "stream",
          "name": "stdout",
          "text": [
            "<class 'pandas.core.frame.DataFrame'>\n",
            "Int64Index: 199999 entries, 0 to 199999\n",
            "Data columns (total 15 columns):\n",
            " #   Column              Non-Null Count   Dtype              \n",
            "---  ------              --------------   -----              \n",
            " 0   fare_amount         199999 non-null  float64            \n",
            " 1   pickup_datetime     199999 non-null  datetime64[ns, UTC]\n",
            " 2   pickup_longitude    199999 non-null  float64            \n",
            " 3   pickup_latitude     199999 non-null  float64            \n",
            " 4   dropoff_longitude   199999 non-null  float64            \n",
            " 5   dropoff_latitude    199999 non-null  float64            \n",
            " 6   passenger_count     199999 non-null  int64              \n",
            " 7   distance_travelled  199999 non-null  float64            \n",
            " 8   date                199999 non-null  object             \n",
            " 9   month               199999 non-null  int64              \n",
            " 10  year                199999 non-null  int64              \n",
            " 11  day_of_the_week     199999 non-null  int64              \n",
            " 12  day_name            199999 non-null  object             \n",
            " 13  pickup_time         199999 non-null  object             \n",
            " 14  pickup_hour         199999 non-null  int64              \n",
            "dtypes: datetime64[ns, UTC](1), float64(6), int64(5), object(3)\n",
            "memory usage: 24.4+ MB\n"
          ]
        }
      ],
      "source": [
        "data.info()"
      ]
    },
    {
      "cell_type": "code",
      "execution_count": 106,
      "id": "764df47c",
      "metadata": {
        "id": "764df47c"
      },
      "outputs": [],
      "source": [
        "data.drop(data[data['passenger_count'] > 5].index, axis=0, inplace = True)\n",
        "data.drop(data[data['passenger_count'] == 0].index, axis=0, inplace = True)\n",
        "data.drop(data[data['fare_amount'] < 2.5].index, axis=0, inplace = True)\n",
        "data.drop(data[data['distance_travelled'] > 130].index, axis=0, inplace = True)\n",
        "data.drop(data[data['distance_travelled'] == 0].index, axis=0, inplace = True)\n",
        "data.dropna(axis=0,inplace=True)"
      ]
    },
    {
      "cell_type": "code",
      "execution_count": 107,
      "id": "46baea63",
      "metadata": {
        "colab": {
          "base_uri": "https://localhost:8080/",
          "height": 313
        },
        "id": "46baea63",
        "outputId": "fcd16095-98d3-4340-daa8-09dc05a02a11"
      },
      "outputs": [
        {
          "output_type": "execute_result",
          "data": {
            "text/plain": [
              "   fare_amount           pickup_datetime  pickup_longitude  pickup_latitude  \\\n",
              "0          7.5 2015-05-07 19:52:06+00:00        -73.999817        40.738354   \n",
              "1          7.7 2009-07-17 20:04:56+00:00        -73.994355        40.728225   \n",
              "2         12.9 2009-08-24 21:45:00+00:00        -74.005043        40.740770   \n",
              "3          5.3 2009-06-26 08:22:21+00:00        -73.976124        40.790844   \n",
              "4         16.0 2014-08-28 17:47:00+00:00        -73.925023        40.744085   \n",
              "\n",
              "   dropoff_longitude  dropoff_latitude  passenger_count  distance_travelled  \\\n",
              "0         -73.999512         40.723217                1            1.683323   \n",
              "1         -73.994710         40.750325                1            2.457590   \n",
              "2         -73.962565         40.772647                1            5.036377   \n",
              "3         -73.965316         40.803349                3            1.661683   \n",
              "4         -73.973082         40.761247                5            4.475450   \n",
              "\n",
              "         date  month  year  day_of_the_week  day_name pickup_time  pickup_hour  \n",
              "0  2015-05-07      5  2015                3  Thursday    19:52:06           19  \n",
              "1  2009-07-17      7  2009                4    Friday    20:04:56           20  \n",
              "2  2009-08-24      8  2009                0    Monday    21:45:00           21  \n",
              "3  2009-06-26      6  2009                4    Friday    08:22:21            8  \n",
              "4  2014-08-28      8  2014                3  Thursday    17:47:00           17  "
            ],
            "text/html": [
              "\n",
              "  <div id=\"df-d4eccfa9-9f78-4f52-a383-226cb36fe625\" class=\"colab-df-container\">\n",
              "    <div>\n",
              "<style scoped>\n",
              "    .dataframe tbody tr th:only-of-type {\n",
              "        vertical-align: middle;\n",
              "    }\n",
              "\n",
              "    .dataframe tbody tr th {\n",
              "        vertical-align: top;\n",
              "    }\n",
              "\n",
              "    .dataframe thead th {\n",
              "        text-align: right;\n",
              "    }\n",
              "</style>\n",
              "<table border=\"1\" class=\"dataframe\">\n",
              "  <thead>\n",
              "    <tr style=\"text-align: right;\">\n",
              "      <th></th>\n",
              "      <th>fare_amount</th>\n",
              "      <th>pickup_datetime</th>\n",
              "      <th>pickup_longitude</th>\n",
              "      <th>pickup_latitude</th>\n",
              "      <th>dropoff_longitude</th>\n",
              "      <th>dropoff_latitude</th>\n",
              "      <th>passenger_count</th>\n",
              "      <th>distance_travelled</th>\n",
              "      <th>date</th>\n",
              "      <th>month</th>\n",
              "      <th>year</th>\n",
              "      <th>day_of_the_week</th>\n",
              "      <th>day_name</th>\n",
              "      <th>pickup_time</th>\n",
              "      <th>pickup_hour</th>\n",
              "    </tr>\n",
              "  </thead>\n",
              "  <tbody>\n",
              "    <tr>\n",
              "      <th>0</th>\n",
              "      <td>7.5</td>\n",
              "      <td>2015-05-07 19:52:06+00:00</td>\n",
              "      <td>-73.999817</td>\n",
              "      <td>40.738354</td>\n",
              "      <td>-73.999512</td>\n",
              "      <td>40.723217</td>\n",
              "      <td>1</td>\n",
              "      <td>1.683323</td>\n",
              "      <td>2015-05-07</td>\n",
              "      <td>5</td>\n",
              "      <td>2015</td>\n",
              "      <td>3</td>\n",
              "      <td>Thursday</td>\n",
              "      <td>19:52:06</td>\n",
              "      <td>19</td>\n",
              "    </tr>\n",
              "    <tr>\n",
              "      <th>1</th>\n",
              "      <td>7.7</td>\n",
              "      <td>2009-07-17 20:04:56+00:00</td>\n",
              "      <td>-73.994355</td>\n",
              "      <td>40.728225</td>\n",
              "      <td>-73.994710</td>\n",
              "      <td>40.750325</td>\n",
              "      <td>1</td>\n",
              "      <td>2.457590</td>\n",
              "      <td>2009-07-17</td>\n",
              "      <td>7</td>\n",
              "      <td>2009</td>\n",
              "      <td>4</td>\n",
              "      <td>Friday</td>\n",
              "      <td>20:04:56</td>\n",
              "      <td>20</td>\n",
              "    </tr>\n",
              "    <tr>\n",
              "      <th>2</th>\n",
              "      <td>12.9</td>\n",
              "      <td>2009-08-24 21:45:00+00:00</td>\n",
              "      <td>-74.005043</td>\n",
              "      <td>40.740770</td>\n",
              "      <td>-73.962565</td>\n",
              "      <td>40.772647</td>\n",
              "      <td>1</td>\n",
              "      <td>5.036377</td>\n",
              "      <td>2009-08-24</td>\n",
              "      <td>8</td>\n",
              "      <td>2009</td>\n",
              "      <td>0</td>\n",
              "      <td>Monday</td>\n",
              "      <td>21:45:00</td>\n",
              "      <td>21</td>\n",
              "    </tr>\n",
              "    <tr>\n",
              "      <th>3</th>\n",
              "      <td>5.3</td>\n",
              "      <td>2009-06-26 08:22:21+00:00</td>\n",
              "      <td>-73.976124</td>\n",
              "      <td>40.790844</td>\n",
              "      <td>-73.965316</td>\n",
              "      <td>40.803349</td>\n",
              "      <td>3</td>\n",
              "      <td>1.661683</td>\n",
              "      <td>2009-06-26</td>\n",
              "      <td>6</td>\n",
              "      <td>2009</td>\n",
              "      <td>4</td>\n",
              "      <td>Friday</td>\n",
              "      <td>08:22:21</td>\n",
              "      <td>8</td>\n",
              "    </tr>\n",
              "    <tr>\n",
              "      <th>4</th>\n",
              "      <td>16.0</td>\n",
              "      <td>2014-08-28 17:47:00+00:00</td>\n",
              "      <td>-73.925023</td>\n",
              "      <td>40.744085</td>\n",
              "      <td>-73.973082</td>\n",
              "      <td>40.761247</td>\n",
              "      <td>5</td>\n",
              "      <td>4.475450</td>\n",
              "      <td>2014-08-28</td>\n",
              "      <td>8</td>\n",
              "      <td>2014</td>\n",
              "      <td>3</td>\n",
              "      <td>Thursday</td>\n",
              "      <td>17:47:00</td>\n",
              "      <td>17</td>\n",
              "    </tr>\n",
              "  </tbody>\n",
              "</table>\n",
              "</div>\n",
              "    <div class=\"colab-df-buttons\">\n",
              "\n",
              "  <div class=\"colab-df-container\">\n",
              "    <button class=\"colab-df-convert\" onclick=\"convertToInteractive('df-d4eccfa9-9f78-4f52-a383-226cb36fe625')\"\n",
              "            title=\"Convert this dataframe to an interactive table.\"\n",
              "            style=\"display:none;\">\n",
              "\n",
              "  <svg xmlns=\"http://www.w3.org/2000/svg\" height=\"24px\" viewBox=\"0 -960 960 960\">\n",
              "    <path d=\"M120-120v-720h720v720H120Zm60-500h600v-160H180v160Zm220 220h160v-160H400v160Zm0 220h160v-160H400v160ZM180-400h160v-160H180v160Zm440 0h160v-160H620v160ZM180-180h160v-160H180v160Zm440 0h160v-160H620v160Z\"/>\n",
              "  </svg>\n",
              "    </button>\n",
              "\n",
              "  <style>\n",
              "    .colab-df-container {\n",
              "      display:flex;\n",
              "      gap: 12px;\n",
              "    }\n",
              "\n",
              "    .colab-df-convert {\n",
              "      background-color: #E8F0FE;\n",
              "      border: none;\n",
              "      border-radius: 50%;\n",
              "      cursor: pointer;\n",
              "      display: none;\n",
              "      fill: #1967D2;\n",
              "      height: 32px;\n",
              "      padding: 0 0 0 0;\n",
              "      width: 32px;\n",
              "    }\n",
              "\n",
              "    .colab-df-convert:hover {\n",
              "      background-color: #E2EBFA;\n",
              "      box-shadow: 0px 1px 2px rgba(60, 64, 67, 0.3), 0px 1px 3px 1px rgba(60, 64, 67, 0.15);\n",
              "      fill: #174EA6;\n",
              "    }\n",
              "\n",
              "    .colab-df-buttons div {\n",
              "      margin-bottom: 4px;\n",
              "    }\n",
              "\n",
              "    [theme=dark] .colab-df-convert {\n",
              "      background-color: #3B4455;\n",
              "      fill: #D2E3FC;\n",
              "    }\n",
              "\n",
              "    [theme=dark] .colab-df-convert:hover {\n",
              "      background-color: #434B5C;\n",
              "      box-shadow: 0px 1px 3px 1px rgba(0, 0, 0, 0.15);\n",
              "      filter: drop-shadow(0px 1px 2px rgba(0, 0, 0, 0.3));\n",
              "      fill: #FFFFFF;\n",
              "    }\n",
              "  </style>\n",
              "\n",
              "    <script>\n",
              "      const buttonEl =\n",
              "        document.querySelector('#df-d4eccfa9-9f78-4f52-a383-226cb36fe625 button.colab-df-convert');\n",
              "      buttonEl.style.display =\n",
              "        google.colab.kernel.accessAllowed ? 'block' : 'none';\n",
              "\n",
              "      async function convertToInteractive(key) {\n",
              "        const element = document.querySelector('#df-d4eccfa9-9f78-4f52-a383-226cb36fe625');\n",
              "        const dataTable =\n",
              "          await google.colab.kernel.invokeFunction('convertToInteractive',\n",
              "                                                    [key], {});\n",
              "        if (!dataTable) return;\n",
              "\n",
              "        const docLinkHtml = 'Like what you see? Visit the ' +\n",
              "          '<a target=\"_blank\" href=https://colab.research.google.com/notebooks/data_table.ipynb>data table notebook</a>'\n",
              "          + ' to learn more about interactive tables.';\n",
              "        element.innerHTML = '';\n",
              "        dataTable['output_type'] = 'display_data';\n",
              "        await google.colab.output.renderOutput(dataTable, element);\n",
              "        const docLink = document.createElement('div');\n",
              "        docLink.innerHTML = docLinkHtml;\n",
              "        element.appendChild(docLink);\n",
              "      }\n",
              "    </script>\n",
              "  </div>\n",
              "\n",
              "\n",
              "<div id=\"df-277f5cc4-c668-46e2-b443-19fab49788f1\">\n",
              "  <button class=\"colab-df-quickchart\" onclick=\"quickchart('df-277f5cc4-c668-46e2-b443-19fab49788f1')\"\n",
              "            title=\"Suggest charts\"\n",
              "            style=\"display:none;\">\n",
              "\n",
              "<svg xmlns=\"http://www.w3.org/2000/svg\" height=\"24px\"viewBox=\"0 0 24 24\"\n",
              "     width=\"24px\">\n",
              "    <g>\n",
              "        <path d=\"M19 3H5c-1.1 0-2 .9-2 2v14c0 1.1.9 2 2 2h14c1.1 0 2-.9 2-2V5c0-1.1-.9-2-2-2zM9 17H7v-7h2v7zm4 0h-2V7h2v10zm4 0h-2v-4h2v4z\"/>\n",
              "    </g>\n",
              "</svg>\n",
              "  </button>\n",
              "\n",
              "<style>\n",
              "  .colab-df-quickchart {\n",
              "      --bg-color: #E8F0FE;\n",
              "      --fill-color: #1967D2;\n",
              "      --hover-bg-color: #E2EBFA;\n",
              "      --hover-fill-color: #174EA6;\n",
              "      --disabled-fill-color: #AAA;\n",
              "      --disabled-bg-color: #DDD;\n",
              "  }\n",
              "\n",
              "  [theme=dark] .colab-df-quickchart {\n",
              "      --bg-color: #3B4455;\n",
              "      --fill-color: #D2E3FC;\n",
              "      --hover-bg-color: #434B5C;\n",
              "      --hover-fill-color: #FFFFFF;\n",
              "      --disabled-bg-color: #3B4455;\n",
              "      --disabled-fill-color: #666;\n",
              "  }\n",
              "\n",
              "  .colab-df-quickchart {\n",
              "    background-color: var(--bg-color);\n",
              "    border: none;\n",
              "    border-radius: 50%;\n",
              "    cursor: pointer;\n",
              "    display: none;\n",
              "    fill: var(--fill-color);\n",
              "    height: 32px;\n",
              "    padding: 0;\n",
              "    width: 32px;\n",
              "  }\n",
              "\n",
              "  .colab-df-quickchart:hover {\n",
              "    background-color: var(--hover-bg-color);\n",
              "    box-shadow: 0 1px 2px rgba(60, 64, 67, 0.3), 0 1px 3px 1px rgba(60, 64, 67, 0.15);\n",
              "    fill: var(--button-hover-fill-color);\n",
              "  }\n",
              "\n",
              "  .colab-df-quickchart-complete:disabled,\n",
              "  .colab-df-quickchart-complete:disabled:hover {\n",
              "    background-color: var(--disabled-bg-color);\n",
              "    fill: var(--disabled-fill-color);\n",
              "    box-shadow: none;\n",
              "  }\n",
              "\n",
              "  .colab-df-spinner {\n",
              "    border: 2px solid var(--fill-color);\n",
              "    border-color: transparent;\n",
              "    border-bottom-color: var(--fill-color);\n",
              "    animation:\n",
              "      spin 1s steps(1) infinite;\n",
              "  }\n",
              "\n",
              "  @keyframes spin {\n",
              "    0% {\n",
              "      border-color: transparent;\n",
              "      border-bottom-color: var(--fill-color);\n",
              "      border-left-color: var(--fill-color);\n",
              "    }\n",
              "    20% {\n",
              "      border-color: transparent;\n",
              "      border-left-color: var(--fill-color);\n",
              "      border-top-color: var(--fill-color);\n",
              "    }\n",
              "    30% {\n",
              "      border-color: transparent;\n",
              "      border-left-color: var(--fill-color);\n",
              "      border-top-color: var(--fill-color);\n",
              "      border-right-color: var(--fill-color);\n",
              "    }\n",
              "    40% {\n",
              "      border-color: transparent;\n",
              "      border-right-color: var(--fill-color);\n",
              "      border-top-color: var(--fill-color);\n",
              "    }\n",
              "    60% {\n",
              "      border-color: transparent;\n",
              "      border-right-color: var(--fill-color);\n",
              "    }\n",
              "    80% {\n",
              "      border-color: transparent;\n",
              "      border-right-color: var(--fill-color);\n",
              "      border-bottom-color: var(--fill-color);\n",
              "    }\n",
              "    90% {\n",
              "      border-color: transparent;\n",
              "      border-bottom-color: var(--fill-color);\n",
              "    }\n",
              "  }\n",
              "</style>\n",
              "\n",
              "  <script>\n",
              "    async function quickchart(key) {\n",
              "      const quickchartButtonEl =\n",
              "        document.querySelector('#' + key + ' button');\n",
              "      quickchartButtonEl.disabled = true;  // To prevent multiple clicks.\n",
              "      quickchartButtonEl.classList.add('colab-df-spinner');\n",
              "      try {\n",
              "        const charts = await google.colab.kernel.invokeFunction(\n",
              "            'suggestCharts', [key], {});\n",
              "      } catch (error) {\n",
              "        console.error('Error during call to suggestCharts:', error);\n",
              "      }\n",
              "      quickchartButtonEl.classList.remove('colab-df-spinner');\n",
              "      quickchartButtonEl.classList.add('colab-df-quickchart-complete');\n",
              "    }\n",
              "    (() => {\n",
              "      let quickchartButtonEl =\n",
              "        document.querySelector('#df-277f5cc4-c668-46e2-b443-19fab49788f1 button');\n",
              "      quickchartButtonEl.style.display =\n",
              "        google.colab.kernel.accessAllowed ? 'block' : 'none';\n",
              "    })();\n",
              "  </script>\n",
              "</div>\n",
              "    </div>\n",
              "  </div>\n"
            ]
          },
          "metadata": {},
          "execution_count": 107
        }
      ],
      "source": [
        "data.head()"
      ]
    },
    {
      "cell_type": "code",
      "execution_count": 108,
      "id": "924fe7d4",
      "metadata": {
        "colab": {
          "base_uri": "https://localhost:8080/",
          "height": 394
        },
        "id": "924fe7d4",
        "outputId": "600c5cc0-07ab-4a07-ac21-66e941a434cc"
      },
      "outputs": [
        {
          "output_type": "execute_result",
          "data": {
            "text/plain": [
              "                       count         mean       std          min          25%  \\\n",
              "fare_amount         189061.0    11.336739  9.730745     2.500000     6.000000   \n",
              "pickup_longitude    189061.0   -73.916225  2.560946   -75.419276   -73.992274   \n",
              "pickup_latitude     189061.0    40.696089  2.634751   -74.015515    40.736440   \n",
              "dropoff_longitude   189061.0   -73.915258  2.561027   -75.423067   -73.991594   \n",
              "dropoff_latitude    189061.0    40.694481  2.501323   -74.015750    40.735345   \n",
              "passenger_count     189061.0     1.595115  1.150926     1.000000     1.000000   \n",
              "distance_travelled  189061.0     3.377859  3.984585     0.000084     1.279954   \n",
              "month               189061.0     6.282337  3.439349     1.000000     3.000000   \n",
              "year                189061.0  2011.719302  1.862527  2009.000000  2010.000000   \n",
              "day_of_the_week     189061.0     3.049095  1.946679     0.000000     1.000000   \n",
              "pickup_hour         189061.0    13.489234  6.518660     0.000000     9.000000   \n",
              "\n",
              "                            50%          75%          max  \n",
              "fare_amount            8.500000    12.500000   499.000000  \n",
              "pickup_longitude     -73.982133   -73.968465    40.808425  \n",
              "pickup_latitude       40.753273    40.767532   401.066667  \n",
              "dropoff_longitude    -73.980564   -73.965513    40.831932  \n",
              "dropoff_latitude      40.753738    40.768327    45.031598  \n",
              "passenger_count        1.000000     2.000000     5.000000  \n",
              "distance_travelled     2.181325     3.938054   129.610094  \n",
              "month                  6.000000     9.000000    12.000000  \n",
              "year                2012.000000  2013.000000  2015.000000  \n",
              "day_of_the_week        3.000000     5.000000     6.000000  \n",
              "pickup_hour           14.000000    19.000000    23.000000  "
            ],
            "text/html": [
              "\n",
              "  <div id=\"df-85c547f2-56f0-42e2-86bc-13263b419fe6\" class=\"colab-df-container\">\n",
              "    <div>\n",
              "<style scoped>\n",
              "    .dataframe tbody tr th:only-of-type {\n",
              "        vertical-align: middle;\n",
              "    }\n",
              "\n",
              "    .dataframe tbody tr th {\n",
              "        vertical-align: top;\n",
              "    }\n",
              "\n",
              "    .dataframe thead th {\n",
              "        text-align: right;\n",
              "    }\n",
              "</style>\n",
              "<table border=\"1\" class=\"dataframe\">\n",
              "  <thead>\n",
              "    <tr style=\"text-align: right;\">\n",
              "      <th></th>\n",
              "      <th>count</th>\n",
              "      <th>mean</th>\n",
              "      <th>std</th>\n",
              "      <th>min</th>\n",
              "      <th>25%</th>\n",
              "      <th>50%</th>\n",
              "      <th>75%</th>\n",
              "      <th>max</th>\n",
              "    </tr>\n",
              "  </thead>\n",
              "  <tbody>\n",
              "    <tr>\n",
              "      <th>fare_amount</th>\n",
              "      <td>189061.0</td>\n",
              "      <td>11.336739</td>\n",
              "      <td>9.730745</td>\n",
              "      <td>2.500000</td>\n",
              "      <td>6.000000</td>\n",
              "      <td>8.500000</td>\n",
              "      <td>12.500000</td>\n",
              "      <td>499.000000</td>\n",
              "    </tr>\n",
              "    <tr>\n",
              "      <th>pickup_longitude</th>\n",
              "      <td>189061.0</td>\n",
              "      <td>-73.916225</td>\n",
              "      <td>2.560946</td>\n",
              "      <td>-75.419276</td>\n",
              "      <td>-73.992274</td>\n",
              "      <td>-73.982133</td>\n",
              "      <td>-73.968465</td>\n",
              "      <td>40.808425</td>\n",
              "    </tr>\n",
              "    <tr>\n",
              "      <th>pickup_latitude</th>\n",
              "      <td>189061.0</td>\n",
              "      <td>40.696089</td>\n",
              "      <td>2.634751</td>\n",
              "      <td>-74.015515</td>\n",
              "      <td>40.736440</td>\n",
              "      <td>40.753273</td>\n",
              "      <td>40.767532</td>\n",
              "      <td>401.066667</td>\n",
              "    </tr>\n",
              "    <tr>\n",
              "      <th>dropoff_longitude</th>\n",
              "      <td>189061.0</td>\n",
              "      <td>-73.915258</td>\n",
              "      <td>2.561027</td>\n",
              "      <td>-75.423067</td>\n",
              "      <td>-73.991594</td>\n",
              "      <td>-73.980564</td>\n",
              "      <td>-73.965513</td>\n",
              "      <td>40.831932</td>\n",
              "    </tr>\n",
              "    <tr>\n",
              "      <th>dropoff_latitude</th>\n",
              "      <td>189061.0</td>\n",
              "      <td>40.694481</td>\n",
              "      <td>2.501323</td>\n",
              "      <td>-74.015750</td>\n",
              "      <td>40.735345</td>\n",
              "      <td>40.753738</td>\n",
              "      <td>40.768327</td>\n",
              "      <td>45.031598</td>\n",
              "    </tr>\n",
              "    <tr>\n",
              "      <th>passenger_count</th>\n",
              "      <td>189061.0</td>\n",
              "      <td>1.595115</td>\n",
              "      <td>1.150926</td>\n",
              "      <td>1.000000</td>\n",
              "      <td>1.000000</td>\n",
              "      <td>1.000000</td>\n",
              "      <td>2.000000</td>\n",
              "      <td>5.000000</td>\n",
              "    </tr>\n",
              "    <tr>\n",
              "      <th>distance_travelled</th>\n",
              "      <td>189061.0</td>\n",
              "      <td>3.377859</td>\n",
              "      <td>3.984585</td>\n",
              "      <td>0.000084</td>\n",
              "      <td>1.279954</td>\n",
              "      <td>2.181325</td>\n",
              "      <td>3.938054</td>\n",
              "      <td>129.610094</td>\n",
              "    </tr>\n",
              "    <tr>\n",
              "      <th>month</th>\n",
              "      <td>189061.0</td>\n",
              "      <td>6.282337</td>\n",
              "      <td>3.439349</td>\n",
              "      <td>1.000000</td>\n",
              "      <td>3.000000</td>\n",
              "      <td>6.000000</td>\n",
              "      <td>9.000000</td>\n",
              "      <td>12.000000</td>\n",
              "    </tr>\n",
              "    <tr>\n",
              "      <th>year</th>\n",
              "      <td>189061.0</td>\n",
              "      <td>2011.719302</td>\n",
              "      <td>1.862527</td>\n",
              "      <td>2009.000000</td>\n",
              "      <td>2010.000000</td>\n",
              "      <td>2012.000000</td>\n",
              "      <td>2013.000000</td>\n",
              "      <td>2015.000000</td>\n",
              "    </tr>\n",
              "    <tr>\n",
              "      <th>day_of_the_week</th>\n",
              "      <td>189061.0</td>\n",
              "      <td>3.049095</td>\n",
              "      <td>1.946679</td>\n",
              "      <td>0.000000</td>\n",
              "      <td>1.000000</td>\n",
              "      <td>3.000000</td>\n",
              "      <td>5.000000</td>\n",
              "      <td>6.000000</td>\n",
              "    </tr>\n",
              "    <tr>\n",
              "      <th>pickup_hour</th>\n",
              "      <td>189061.0</td>\n",
              "      <td>13.489234</td>\n",
              "      <td>6.518660</td>\n",
              "      <td>0.000000</td>\n",
              "      <td>9.000000</td>\n",
              "      <td>14.000000</td>\n",
              "      <td>19.000000</td>\n",
              "      <td>23.000000</td>\n",
              "    </tr>\n",
              "  </tbody>\n",
              "</table>\n",
              "</div>\n",
              "    <div class=\"colab-df-buttons\">\n",
              "\n",
              "  <div class=\"colab-df-container\">\n",
              "    <button class=\"colab-df-convert\" onclick=\"convertToInteractive('df-85c547f2-56f0-42e2-86bc-13263b419fe6')\"\n",
              "            title=\"Convert this dataframe to an interactive table.\"\n",
              "            style=\"display:none;\">\n",
              "\n",
              "  <svg xmlns=\"http://www.w3.org/2000/svg\" height=\"24px\" viewBox=\"0 -960 960 960\">\n",
              "    <path d=\"M120-120v-720h720v720H120Zm60-500h600v-160H180v160Zm220 220h160v-160H400v160Zm0 220h160v-160H400v160ZM180-400h160v-160H180v160Zm440 0h160v-160H620v160ZM180-180h160v-160H180v160Zm440 0h160v-160H620v160Z\"/>\n",
              "  </svg>\n",
              "    </button>\n",
              "\n",
              "  <style>\n",
              "    .colab-df-container {\n",
              "      display:flex;\n",
              "      gap: 12px;\n",
              "    }\n",
              "\n",
              "    .colab-df-convert {\n",
              "      background-color: #E8F0FE;\n",
              "      border: none;\n",
              "      border-radius: 50%;\n",
              "      cursor: pointer;\n",
              "      display: none;\n",
              "      fill: #1967D2;\n",
              "      height: 32px;\n",
              "      padding: 0 0 0 0;\n",
              "      width: 32px;\n",
              "    }\n",
              "\n",
              "    .colab-df-convert:hover {\n",
              "      background-color: #E2EBFA;\n",
              "      box-shadow: 0px 1px 2px rgba(60, 64, 67, 0.3), 0px 1px 3px 1px rgba(60, 64, 67, 0.15);\n",
              "      fill: #174EA6;\n",
              "    }\n",
              "\n",
              "    .colab-df-buttons div {\n",
              "      margin-bottom: 4px;\n",
              "    }\n",
              "\n",
              "    [theme=dark] .colab-df-convert {\n",
              "      background-color: #3B4455;\n",
              "      fill: #D2E3FC;\n",
              "    }\n",
              "\n",
              "    [theme=dark] .colab-df-convert:hover {\n",
              "      background-color: #434B5C;\n",
              "      box-shadow: 0px 1px 3px 1px rgba(0, 0, 0, 0.15);\n",
              "      filter: drop-shadow(0px 1px 2px rgba(0, 0, 0, 0.3));\n",
              "      fill: #FFFFFF;\n",
              "    }\n",
              "  </style>\n",
              "\n",
              "    <script>\n",
              "      const buttonEl =\n",
              "        document.querySelector('#df-85c547f2-56f0-42e2-86bc-13263b419fe6 button.colab-df-convert');\n",
              "      buttonEl.style.display =\n",
              "        google.colab.kernel.accessAllowed ? 'block' : 'none';\n",
              "\n",
              "      async function convertToInteractive(key) {\n",
              "        const element = document.querySelector('#df-85c547f2-56f0-42e2-86bc-13263b419fe6');\n",
              "        const dataTable =\n",
              "          await google.colab.kernel.invokeFunction('convertToInteractive',\n",
              "                                                    [key], {});\n",
              "        if (!dataTable) return;\n",
              "\n",
              "        const docLinkHtml = 'Like what you see? Visit the ' +\n",
              "          '<a target=\"_blank\" href=https://colab.research.google.com/notebooks/data_table.ipynb>data table notebook</a>'\n",
              "          + ' to learn more about interactive tables.';\n",
              "        element.innerHTML = '';\n",
              "        dataTable['output_type'] = 'display_data';\n",
              "        await google.colab.output.renderOutput(dataTable, element);\n",
              "        const docLink = document.createElement('div');\n",
              "        docLink.innerHTML = docLinkHtml;\n",
              "        element.appendChild(docLink);\n",
              "      }\n",
              "    </script>\n",
              "  </div>\n",
              "\n",
              "\n",
              "<div id=\"df-a815bdd1-50fb-4a41-9248-e183f61c987a\">\n",
              "  <button class=\"colab-df-quickchart\" onclick=\"quickchart('df-a815bdd1-50fb-4a41-9248-e183f61c987a')\"\n",
              "            title=\"Suggest charts\"\n",
              "            style=\"display:none;\">\n",
              "\n",
              "<svg xmlns=\"http://www.w3.org/2000/svg\" height=\"24px\"viewBox=\"0 0 24 24\"\n",
              "     width=\"24px\">\n",
              "    <g>\n",
              "        <path d=\"M19 3H5c-1.1 0-2 .9-2 2v14c0 1.1.9 2 2 2h14c1.1 0 2-.9 2-2V5c0-1.1-.9-2-2-2zM9 17H7v-7h2v7zm4 0h-2V7h2v10zm4 0h-2v-4h2v4z\"/>\n",
              "    </g>\n",
              "</svg>\n",
              "  </button>\n",
              "\n",
              "<style>\n",
              "  .colab-df-quickchart {\n",
              "      --bg-color: #E8F0FE;\n",
              "      --fill-color: #1967D2;\n",
              "      --hover-bg-color: #E2EBFA;\n",
              "      --hover-fill-color: #174EA6;\n",
              "      --disabled-fill-color: #AAA;\n",
              "      --disabled-bg-color: #DDD;\n",
              "  }\n",
              "\n",
              "  [theme=dark] .colab-df-quickchart {\n",
              "      --bg-color: #3B4455;\n",
              "      --fill-color: #D2E3FC;\n",
              "      --hover-bg-color: #434B5C;\n",
              "      --hover-fill-color: #FFFFFF;\n",
              "      --disabled-bg-color: #3B4455;\n",
              "      --disabled-fill-color: #666;\n",
              "  }\n",
              "\n",
              "  .colab-df-quickchart {\n",
              "    background-color: var(--bg-color);\n",
              "    border: none;\n",
              "    border-radius: 50%;\n",
              "    cursor: pointer;\n",
              "    display: none;\n",
              "    fill: var(--fill-color);\n",
              "    height: 32px;\n",
              "    padding: 0;\n",
              "    width: 32px;\n",
              "  }\n",
              "\n",
              "  .colab-df-quickchart:hover {\n",
              "    background-color: var(--hover-bg-color);\n",
              "    box-shadow: 0 1px 2px rgba(60, 64, 67, 0.3), 0 1px 3px 1px rgba(60, 64, 67, 0.15);\n",
              "    fill: var(--button-hover-fill-color);\n",
              "  }\n",
              "\n",
              "  .colab-df-quickchart-complete:disabled,\n",
              "  .colab-df-quickchart-complete:disabled:hover {\n",
              "    background-color: var(--disabled-bg-color);\n",
              "    fill: var(--disabled-fill-color);\n",
              "    box-shadow: none;\n",
              "  }\n",
              "\n",
              "  .colab-df-spinner {\n",
              "    border: 2px solid var(--fill-color);\n",
              "    border-color: transparent;\n",
              "    border-bottom-color: var(--fill-color);\n",
              "    animation:\n",
              "      spin 1s steps(1) infinite;\n",
              "  }\n",
              "\n",
              "  @keyframes spin {\n",
              "    0% {\n",
              "      border-color: transparent;\n",
              "      border-bottom-color: var(--fill-color);\n",
              "      border-left-color: var(--fill-color);\n",
              "    }\n",
              "    20% {\n",
              "      border-color: transparent;\n",
              "      border-left-color: var(--fill-color);\n",
              "      border-top-color: var(--fill-color);\n",
              "    }\n",
              "    30% {\n",
              "      border-color: transparent;\n",
              "      border-left-color: var(--fill-color);\n",
              "      border-top-color: var(--fill-color);\n",
              "      border-right-color: var(--fill-color);\n",
              "    }\n",
              "    40% {\n",
              "      border-color: transparent;\n",
              "      border-right-color: var(--fill-color);\n",
              "      border-top-color: var(--fill-color);\n",
              "    }\n",
              "    60% {\n",
              "      border-color: transparent;\n",
              "      border-right-color: var(--fill-color);\n",
              "    }\n",
              "    80% {\n",
              "      border-color: transparent;\n",
              "      border-right-color: var(--fill-color);\n",
              "      border-bottom-color: var(--fill-color);\n",
              "    }\n",
              "    90% {\n",
              "      border-color: transparent;\n",
              "      border-bottom-color: var(--fill-color);\n",
              "    }\n",
              "  }\n",
              "</style>\n",
              "\n",
              "  <script>\n",
              "    async function quickchart(key) {\n",
              "      const quickchartButtonEl =\n",
              "        document.querySelector('#' + key + ' button');\n",
              "      quickchartButtonEl.disabled = true;  // To prevent multiple clicks.\n",
              "      quickchartButtonEl.classList.add('colab-df-spinner');\n",
              "      try {\n",
              "        const charts = await google.colab.kernel.invokeFunction(\n",
              "            'suggestCharts', [key], {});\n",
              "      } catch (error) {\n",
              "        console.error('Error during call to suggestCharts:', error);\n",
              "      }\n",
              "      quickchartButtonEl.classList.remove('colab-df-spinner');\n",
              "      quickchartButtonEl.classList.add('colab-df-quickchart-complete');\n",
              "    }\n",
              "    (() => {\n",
              "      let quickchartButtonEl =\n",
              "        document.querySelector('#df-a815bdd1-50fb-4a41-9248-e183f61c987a button');\n",
              "      quickchartButtonEl.style.display =\n",
              "        google.colab.kernel.accessAllowed ? 'block' : 'none';\n",
              "    })();\n",
              "  </script>\n",
              "</div>\n",
              "    </div>\n",
              "  </div>\n"
            ]
          },
          "metadata": {},
          "execution_count": 108
        }
      ],
      "source": [
        "data.describe().T"
      ]
    },
    {
      "cell_type": "code",
      "execution_count": 109,
      "id": "7d65e7ce",
      "metadata": {
        "id": "7d65e7ce"
      },
      "outputs": [],
      "source": [
        "# Dropping the columns 'pickup datetime' and 'pickup hour' as we have extracted relvant pieces of information\n",
        "# from these columns and do not need these columns for our analysis now. Also, 'date' and 'day_name', month and yuear\n",
        "# as well as pickup and dropoff coordinates are not required as we have the required data extracted from them\n",
        "\n",
        "data = data.drop(['pickup_datetime','pickup_time', 'date', 'pickup_longitude', 'pickup_latitude',\n",
        "                  'dropoff_longitude', 'dropoff_latitude', 'day_name'],axis=1)"
      ]
    },
    {
      "cell_type": "code",
      "execution_count": 110,
      "id": "75bd6c26",
      "metadata": {
        "colab": {
          "base_uri": "https://localhost:8080/"
        },
        "id": "75bd6c26",
        "outputId": "68d9c851-357b-44bc-9e7d-ee81a4f292ea"
      },
      "outputs": [
        {
          "output_type": "stream",
          "name": "stdout",
          "text": [
            "<class 'pandas.core.frame.DataFrame'>\n",
            "Int64Index: 189061 entries, 0 to 199999\n",
            "Data columns (total 7 columns):\n",
            " #   Column              Non-Null Count   Dtype  \n",
            "---  ------              --------------   -----  \n",
            " 0   fare_amount         189061 non-null  float64\n",
            " 1   passenger_count     189061 non-null  int64  \n",
            " 2   distance_travelled  189061 non-null  float64\n",
            " 3   month               189061 non-null  int64  \n",
            " 4   year                189061 non-null  int64  \n",
            " 5   day_of_the_week     189061 non-null  int64  \n",
            " 6   pickup_hour         189061 non-null  int64  \n",
            "dtypes: float64(2), int64(5)\n",
            "memory usage: 11.5 MB\n"
          ]
        }
      ],
      "source": [
        "data.info()"
      ]
    },
    {
      "cell_type": "code",
      "execution_count": 111,
      "id": "98d87221",
      "metadata": {
        "colab": {
          "base_uri": "https://localhost:8080/",
          "height": 467
        },
        "id": "98d87221",
        "outputId": "641fe1b4-976a-4754-e33e-8a774e613722"
      },
      "outputs": [
        {
          "output_type": "execute_result",
          "data": {
            "text/plain": [
              "<Axes: xlabel='distance_travelled'>"
            ]
          },
          "metadata": {},
          "execution_count": 111
        },
        {
          "output_type": "display_data",
          "data": {
            "text/plain": [
              "<Figure size 640x480 with 1 Axes>"
            ],
            "image/png": "[encoded data removed]"
          },
          "metadata": {}
        }
      ],
      "source": [
        "sns.boxplot(x=data['distance_travelled'])"
      ]
    },
    {
      "cell_type": "code",
      "execution_count": 112,
      "id": "cd0b0a2b",
      "metadata": {
        "colab": {
          "base_uri": "https://localhost:8080/",
          "height": 447
        },
        "id": "cd0b0a2b",
        "outputId": "8ef7f256-d6a1-4d86-b071-a0eb1be23949"
      },
      "outputs": [
        {
          "output_type": "execute_result",
          "data": {
            "text/plain": [
              "<matplotlib.lines.Line2D at 0x79c842ee3d90>"
            ]
          },
          "metadata": {},
          "execution_count": 112
        },
        {
          "output_type": "display_data",
          "data": {
            "text/plain": [
              "<Figure size 640x480 with 1 Axes>"
            ],
            "image/png": "[encoded data removed]"
          },
          "metadata": {}
        }
      ],
      "source": [
        "import matplotlib.pyplot as plt\n",
        "hist = plt.hist(x=data['distance_travelled'], density = True)\n",
        "# Draw a vertical line in the histogram to visualize mean value of the numerical feature (NaNs will be ignored when calculating the mean)\n",
        "plt.axvline(data['distance_travelled'].mean(), color = 'red', linestyle='--')\n",
        "# Draw another vertical line in the histogram to visualize median value of the numerical feature (NaNs will be ignored when calculating the median)\n",
        "plt.axvline(data['distance_travelled'].median(), color = 'black', linestyle='-')"
      ]
    },
    {
      "cell_type": "markdown",
      "id": "4493de43",
      "metadata": {
        "id": "4493de43"
      },
      "source": [
        "## Categorical Features - Univariate Analysis"
      ]
    },
    {
      "cell_type": "markdown",
      "id": "6ccb2a9f",
      "metadata": {
        "id": "6ccb2a9f"
      },
      "source": [
        "Passenger Count"
      ]
    },
    {
      "cell_type": "code",
      "execution_count": 113,
      "id": "85226215",
      "metadata": {
        "colab": {
          "base_uri": "https://localhost:8080/",
          "height": 534
        },
        "id": "85226215",
        "outputId": "8e9e3342-9639-40e7-a33a-6c57d7e5e926"
      },
      "outputs": [
        {
          "output_type": "execute_result",
          "data": {
            "text/plain": [
              "(array([0, 1, 2, 3, 4]),\n",
              " [Text(0, 0, '1'),\n",
              "  Text(1, 0, '2'),\n",
              "  Text(2, 0, '5'),\n",
              "  Text(3, 0, '3'),\n",
              "  Text(4, 0, '4')])"
            ]
          },
          "metadata": {},
          "execution_count": 113
        },
        {
          "output_type": "display_data",
          "data": {
            "text/plain": [
              "<Figure size 640x480 with 1 Axes>"
            ],
            "image/png": "[encoded data removed]"
          },
          "metadata": {}
        }
      ],
      "source": [
        "data['passenger_count'].value_counts(normalize = True).plot.bar()\n",
        "plt.xticks(rotation = 0)"
      ]
    },
    {
      "cell_type": "markdown",
      "id": "7b37a496",
      "metadata": {
        "id": "7b37a496"
      },
      "source": [
        "Day of the week"
      ]
    },
    {
      "cell_type": "code",
      "execution_count": 114,
      "id": "2fbccc9a",
      "metadata": {
        "colab": {
          "base_uri": "https://localhost:8080/",
          "height": 569
        },
        "id": "2fbccc9a",
        "outputId": "fb62afa8-13c0-4cea-c5b5-b054fdb71f91"
      },
      "outputs": [
        {
          "output_type": "execute_result",
          "data": {
            "text/plain": [
              "(array([0, 1, 2, 3, 4, 5, 6]),\n",
              " [Text(0, 0, '4'),\n",
              "  Text(1, 0, '5'),\n",
              "  Text(2, 0, '3'),\n",
              "  Text(3, 0, '2'),\n",
              "  Text(4, 0, '1'),\n",
              "  Text(5, 0, '6'),\n",
              "  Text(6, 0, '0')])"
            ]
          },
          "metadata": {},
          "execution_count": 114
        },
        {
          "output_type": "display_data",
          "data": {
            "text/plain": [
              "<Figure size 640x480 with 1 Axes>"
            ],
            "image/png": "[encoded data removed]"
          },
          "metadata": {}
        }
      ],
      "source": [
        "data['day_of_the_week'].value_counts(normalize = True).plot.bar()\n",
        "plt.xticks(rotation = 0)"
      ]
    },
    {
      "cell_type": "markdown",
      "id": "1dcfa8b2",
      "metadata": {
        "id": "1dcfa8b2"
      },
      "source": [
        "Pickup Time"
      ]
    },
    {
      "cell_type": "code",
      "execution_count": 115,
      "id": "4dadaaa9",
      "metadata": {
        "colab": {
          "base_uri": "https://localhost:8080/",
          "height": 881
        },
        "id": "4dadaaa9",
        "outputId": "9bf8d62a-7d37-44fd-89ae-4485359c5bde"
      },
      "outputs": [
        {
          "output_type": "execute_result",
          "data": {
            "text/plain": [
              "(array([ 0,  1,  2,  3,  4,  5,  6,  7,  8,  9, 10, 11, 12, 13, 14, 15, 16,\n",
              "        17, 18, 19, 20, 21, 22, 23]),\n",
              " [Text(0, 0, '19'),\n",
              "  Text(1, 0, '18'),\n",
              "  Text(2, 0, '20'),\n",
              "  Text(3, 0, '21'),\n",
              "  Text(4, 0, '22'),\n",
              "  Text(5, 0, '13'),\n",
              "  Text(6, 0, '12'),\n",
              "  Text(7, 0, '23'),\n",
              "  Text(8, 0, '14'),\n",
              "  Text(9, 0, '17'),\n",
              "  Text(10, 0, '15'),\n",
              "  Text(11, 0, '11'),\n",
              "  Text(12, 0, '9'),\n",
              "  Text(13, 0, '8'),\n",
              "  Text(14, 0, '10'),\n",
              "  Text(15, 0, '16'),\n",
              "  Text(16, 0, '0'),\n",
              "  Text(17, 0, '7'),\n",
              "  Text(18, 0, '1'),\n",
              "  Text(19, 0, '2'),\n",
              "  Text(20, 0, '6'),\n",
              "  Text(21, 0, '3'),\n",
              "  Text(22, 0, '4'),\n",
              "  Text(23, 0, '5')])"
            ]
          },
          "metadata": {},
          "execution_count": 115
        },
        {
          "output_type": "display_data",
          "data": {
            "text/plain": [
              "<Figure size 640x480 with 1 Axes>"
            ],
            "image/png": "[encoded data removed]"
          },
          "metadata": {}
        }
      ],
      "source": [
        "data['pickup_hour'].value_counts(normalize = True).plot.bar()\n",
        "plt.xticks(rotation = 0)"
      ]
    },
    {
      "cell_type": "markdown",
      "id": "e6005cb5",
      "metadata": {
        "id": "e6005cb5"
      },
      "source": [
        "## Bivariate/ Multivariate Analysis"
      ]
    },
    {
      "cell_type": "code",
      "execution_count": 116,
      "id": "00cf1eaf",
      "metadata": {
        "colab": {
          "base_uri": "https://localhost:8080/"
        },
        "id": "00cf1eaf",
        "outputId": "3a0d5d61-31c6-454a-9e55-c685f124dfb6"
      },
      "outputs": [
        {
          "output_type": "stream",
          "name": "stdout",
          "text": [
            "Requirement already satisfied: geopandas in /usr/local/lib/python3.10/dist-packages (0.13.2)\n",
            "Requirement already satisfied: fiona>=1.8.19 in /usr/local/lib/python3.10/dist-packages (from geopandas) (1.9.5)\n",
            "Requirement already satisfied: packaging in /usr/local/lib/python3.10/dist-packages (from geopandas) (23.2)\n",
            "Requirement already satisfied: pandas>=1.1.0 in /usr/local/lib/python3.10/dist-packages (from geopandas) (1.5.3)\n",
            "Requirement already satisfied: pyproj>=3.0.1 in /usr/local/lib/python3.10/dist-packages (from geopandas) (3.6.1)\n",
            "Requirement already satisfied: shapely>=1.7.1 in /usr/local/lib/python3.10/dist-packages (from geopandas) (2.0.2)\n",
            "Requirement already satisfied: attrs>=19.2.0 in /usr/local/lib/python3.10/dist-packages (from fiona>=1.8.19->geopandas) (23.1.0)\n",
            "Requirement already satisfied: certifi in /usr/local/lib/python3.10/dist-packages (from fiona>=1.8.19->geopandas) (2023.7.22)\n",
            "Requirement already satisfied: click~=8.0 in /usr/local/lib/python3.10/dist-packages (from fiona>=1.8.19->geopandas) (8.1.7)\n",
            "Requirement already satisfied: click-plugins>=1.0 in /usr/local/lib/python3.10/dist-packages (from fiona>=1.8.19->geopandas) (1.1.1)\n",
            "Requirement already satisfied: cligj>=0.5 in /usr/local/lib/python3.10/dist-packages (from fiona>=1.8.19->geopandas) (0.7.2)\n",
            "Requirement already satisfied: six in /usr/local/lib/python3.10/dist-packages (from fiona>=1.8.19->geopandas) (1.16.0)\n",
            "Requirement already satisfied: setuptools in /usr/local/lib/python3.10/dist-packages (from fiona>=1.8.19->geopandas) (67.7.2)\n",
            "Requirement already satisfied: python-dateutil>=2.8.1 in /usr/local/lib/python3.10/dist-packages (from pandas>=1.1.0->geopandas) (2.8.2)\n",
            "Requirement already satisfied: pytz>=2020.1 in /usr/local/lib/python3.10/dist-packages (from pandas>=1.1.0->geopandas) (2023.3.post1)\n",
            "Requirement already satisfied: numpy>=1.21.0 in /usr/local/lib/python3.10/dist-packages (from pandas>=1.1.0->geopandas) (1.23.5)\n"
          ]
        }
      ],
      "source": [
        "!pip install geopandas\n",
        "import geopandas as gpd"
      ]
    },
    {
      "cell_type": "code",
      "execution_count": 117,
      "id": "791c6c6c",
      "metadata": {
        "colab": {
          "base_uri": "https://localhost:8080/",
          "height": 430
        },
        "id": "791c6c6c",
        "outputId": "0cff1fdd-8c55-4dd3-87e5-29cc5ad374e3"
      },
      "outputs": [
        {
          "output_type": "display_data",
          "data": {
            "text/plain": [
              "<Figure size 640x480 with 1 Axes>"
            ],
            "image/png": "[encoded data removed]"
          },
          "metadata": {}
        }
      ],
      "source": [
        "#Scatte plot of distance vs fare amount\n",
        "plt.scatter(x = data.distance_travelled, y = data.fare_amount)\n",
        "\n",
        "# Show the plot\n",
        "plt.show()"
      ]
    },
    {
      "cell_type": "code",
      "execution_count": 118,
      "id": "5fab8cff",
      "metadata": {
        "colab": {
          "base_uri": "https://localhost:8080/",
          "height": 430
        },
        "id": "5fab8cff",
        "outputId": "8cda2328-7b71-4367-89db-6f9e0eb4a0e2"
      },
      "outputs": [
        {
          "output_type": "display_data",
          "data": {
            "text/plain": [
              "<Figure size 640x480 with 1 Axes>"
            ],
            "image/png": "[encoded data removed]"
          },
          "metadata": {}
        }
      ],
      "source": [
        "#Scatte plot of day of the week vs fare amount\n",
        "plt.scatter(x = data.day_of_the_week, y = data.fare_amount)\n",
        "\n",
        "# Show the plot\n",
        "plt.show()"
      ]
    },
    {
      "cell_type": "code",
      "execution_count": 119,
      "id": "7c90033d",
      "metadata": {
        "colab": {
          "base_uri": "https://localhost:8080/",
          "height": 430
        },
        "id": "7c90033d",
        "outputId": "8d6e8047-e957-4e7f-9249-c6a57966ed50"
      },
      "outputs": [
        {
          "output_type": "display_data",
          "data": {
            "text/plain": [
              "<Figure size 640x480 with 1 Axes>"
            ],
            "image/png": "[encoded data removed]"
          },
          "metadata": {}
        }
      ],
      "source": [
        "#Scatte plot of day of the week vs distance to see if there is any relationship between them\n",
        "plt.scatter(x = data.day_of_the_week, y = data.distance_travelled)\n",
        "\n",
        "# Show the plot\n",
        "plt.show()"
      ]
    },
    {
      "cell_type": "code",
      "execution_count": 120,
      "id": "e788f1be",
      "metadata": {
        "colab": {
          "base_uri": "https://localhost:8080/",
          "height": 430
        },
        "id": "e788f1be",
        "outputId": "65167c15-6e97-4cf0-c3b6-dd42db94bbe8"
      },
      "outputs": [
        {
          "output_type": "display_data",
          "data": {
            "text/plain": [
              "<Figure size 640x480 with 1 Axes>"
            ],
            "image/png": "[encoded data removed]"
          },
          "metadata": {}
        }
      ],
      "source": [
        "#Scatte plot of pickup time vs fare amount\n",
        "plt.scatter(x = data.pickup_hour, y = data.fare_amount)\n",
        "\n",
        "# Show the plot\n",
        "plt.show()"
      ]
    },
    {
      "cell_type": "code",
      "execution_count": 121,
      "id": "5a692f8b",
      "metadata": {
        "colab": {
          "base_uri": "https://localhost:8080/",
          "height": 430
        },
        "id": "5a692f8b",
        "outputId": "c699a65e-da08-41c1-afc1-52ffe3eda276"
      },
      "outputs": [
        {
          "output_type": "display_data",
          "data": {
            "text/plain": [
              "<Figure size 640x480 with 1 Axes>"
            ],
            "image/png": "[encoded data removed]"
          },
          "metadata": {}
        }
      ],
      "source": [
        "#Scatte plot of pickup time vs distance\n",
        "plt.scatter(x = data.pickup_hour, y = data.distance_travelled)\n",
        "\n",
        "# Show the plot\n",
        "plt.show()"
      ]
    },
    {
      "cell_type": "markdown",
      "id": "d7a7af4f",
      "metadata": {
        "id": "d7a7af4f"
      },
      "source": [
        "Data Preparation\n",
        "\n",
        "Feature Scaling"
      ]
    },
    {
      "cell_type": "code",
      "execution_count": 122,
      "id": "2c1e72c0",
      "metadata": {
        "id": "2c1e72c0"
      },
      "outputs": [],
      "source": [
        "#Feature Scaling (Standardization)\n",
        "\n",
        "from sklearn.preprocessing import StandardScaler\n",
        "\n",
        "std = StandardScaler()"
      ]
    },
    {
      "cell_type": "code",
      "execution_count": 123,
      "id": "c73209c5",
      "metadata": {
        "id": "c73209c5"
      },
      "outputs": [],
      "source": [
        "x = data.drop(['fare_amount'], axis = 1)\n",
        "y = data['fare_amount'].values.reshape(-1, 1)"
      ]
    },
    {
      "cell_type": "code",
      "execution_count": 124,
      "id": "946bbb54",
      "metadata": {
        "id": "946bbb54"
      },
      "outputs": [],
      "source": [
        "y_std = std.fit_transform(y)\n",
        "\n",
        "x_std = std.fit_transform(x)"
      ]
    },
    {
      "cell_type": "code",
      "execution_count": 125,
      "id": "52a0df62",
      "metadata": {
        "id": "52a0df62"
      },
      "outputs": [],
      "source": [
        "# Train Test Split\n",
        "x_train, x_test, y_train, y_test = train_test_split(x_std, y_std, test_size = 0.3, random_state = 42)"
      ]
    },
    {
      "cell_type": "code",
      "execution_count": 126,
      "id": "a81a3886",
      "metadata": {
        "colab": {
          "base_uri": "https://localhost:8080/"
        },
        "id": "a81a3886",
        "outputId": "e6c0c003-25fc-4d9b-c45f-04b7d1d83d93"
      },
      "outputs": [
        {
          "output_type": "execute_result",
          "data": {
            "text/plain": [
              "(132342, 6)"
            ]
          },
          "metadata": {},
          "execution_count": 126
        }
      ],
      "source": [
        "x_train.shape"
      ]
    },
    {
      "cell_type": "code",
      "execution_count": 127,
      "id": "c6fd6684",
      "metadata": {
        "colab": {
          "base_uri": "https://localhost:8080/"
        },
        "id": "c6fd6684",
        "outputId": "7dd9fc13-ecc8-4261-9cc9-f75d0aa1f753"
      },
      "outputs": [
        {
          "output_type": "execute_result",
          "data": {
            "text/plain": [
              "(132342, 1)"
            ]
          },
          "metadata": {},
          "execution_count": 127
        }
      ],
      "source": [
        "y_train.shape"
      ]
    },
    {
      "cell_type": "code",
      "execution_count": 128,
      "id": "3e45779f",
      "metadata": {
        "colab": {
          "base_uri": "https://localhost:8080/"
        },
        "id": "3e45779f",
        "outputId": "dca4cc68-a543-47d7-a101-64cd9d6d1f0d"
      },
      "outputs": [
        {
          "output_type": "execute_result",
          "data": {
            "text/plain": [
              "(56719, 6)"
            ]
          },
          "metadata": {},
          "execution_count": 128
        }
      ],
      "source": [
        "x_test.shape"
      ]
    },
    {
      "cell_type": "code",
      "execution_count": 129,
      "id": "5765b09f",
      "metadata": {
        "colab": {
          "base_uri": "https://localhost:8080/"
        },
        "id": "5765b09f",
        "outputId": "caa7d0ad-a819-4ad0-9652-dcdbab5de5ca"
      },
      "outputs": [
        {
          "output_type": "execute_result",
          "data": {
            "text/plain": [
              "(56719, 1)"
            ]
          },
          "metadata": {},
          "execution_count": 129
        }
      ],
      "source": [
        "y_test.shape"
      ]
    },
    {
      "cell_type": "markdown",
      "id": "0ac2eced",
      "metadata": {
        "id": "0ac2eced"
      },
      "source": [
        "## Regression Models"
      ]
    },
    {
      "cell_type": "markdown",
      "id": "381e99c1",
      "metadata": {
        "id": "381e99c1"
      },
      "source": [
        "Linear Regression"
      ]
    },
    {
      "cell_type": "code",
      "execution_count": 130,
      "id": "f9b664ba",
      "metadata": {
        "colab": {
          "base_uri": "https://localhost:8080/",
          "height": 74
        },
        "id": "f9b664ba",
        "outputId": "4f5054e9-9746-44b1-dac3-8a9fd4ca4966"
      },
      "outputs": [
        {
          "output_type": "execute_result",
          "data": {
            "text/plain": [
              "LinearRegression()"
            ],
            "text/html": [
              "<style>#sk-container-id-4 {color: black;background-color: white;}#sk-container-id-4 pre{padding: 0;}#sk-container-id-4 div.sk-toggleable {background-color: white;}#sk-container-id-4 label.sk-toggleable__label {cursor: pointer;display: block;width: 100%;margin-bottom: 0;padding: 0.3em;box-sizing: border-box;text-align: center;}#sk-container-id-4 label.sk-toggleable__label-arrow:before {content: \"▸\";float: left;margin-right: 0.25em;color: #696969;}#sk-container-id-4 label.sk-toggleable__label-arrow:hover:before {color: black;}#sk-container-id-4 div.sk-estimator:hover label.sk-toggleable__label-arrow:before {color: black;}#sk-container-id-4 div.sk-toggleable__content {max-height: 0;max-width: 0;overflow: hidden;text-align: left;background-color: #f0f8ff;}#sk-container-id-4 div.sk-toggleable__content pre {margin: 0.2em;color: black;border-radius: 0.25em;background-color: #f0f8ff;}#sk-container-id-4 input.sk-toggleable__control:checked~div.sk-toggleable__content {max-height: 200px;max-width: 100%;overflow: auto;}#sk-container-id-4 input.sk-toggleable__control:checked~label.sk-toggleable__label-arrow:before {content: \"▾\";}#sk-container-id-4 div.sk-estimator input.sk-toggleable__control:checked~label.sk-toggleable__label {background-color: #d4ebff;}#sk-container-id-4 div.sk-label input.sk-toggleable__control:checked~label.sk-toggleable__label {background-color: #d4ebff;}#sk-container-id-4 input.sk-hidden--visually {border: 0;clip: rect(1px 1px 1px 1px);clip: rect(1px, 1px, 1px, 1px);height: 1px;margin: -1px;overflow: hidden;padding: 0;position: absolute;width: 1px;}#sk-container-id-4 div.sk-estimator {font-family: monospace;background-color: #f0f8ff;border: 1px dotted black;border-radius: 0.25em;box-sizing: border-box;margin-bottom: 0.5em;}#sk-container-id-4 div.sk-estimator:hover {background-color: #d4ebff;}#sk-container-id-4 div.sk-parallel-item::after {content: \"\";width: 100%;border-bottom: 1px solid gray;flex-grow: 1;}#sk-container-id-4 div.sk-label:hover label.sk-toggleable__label {background-color: #d4ebff;}#sk-container-id-4 div.sk-serial::before {content: \"\";position: absolute;border-left: 1px solid gray;box-sizing: border-box;top: 0;bottom: 0;left: 50%;z-index: 0;}#sk-container-id-4 div.sk-serial {display: flex;flex-direction: column;align-items: center;background-color: white;padding-right: 0.2em;padding-left: 0.2em;position: relative;}#sk-container-id-4 div.sk-item {position: relative;z-index: 1;}#sk-container-id-4 div.sk-parallel {display: flex;align-items: stretch;justify-content: center;background-color: white;position: relative;}#sk-container-id-4 div.sk-item::before, #sk-container-id-4 div.sk-parallel-item::before {content: \"\";position: absolute;border-left: 1px solid gray;box-sizing: border-box;top: 0;bottom: 0;left: 50%;z-index: -1;}#sk-container-id-4 div.sk-parallel-item {display: flex;flex-direction: column;z-index: 1;position: relative;background-color: white;}#sk-container-id-4 div.sk-parallel-item:first-child::after {align-self: flex-end;width: 50%;}#sk-container-id-4 div.sk-parallel-item:last-child::after {align-self: flex-start;width: 50%;}#sk-container-id-4 div.sk-parallel-item:only-child::after {width: 0;}#sk-container-id-4 div.sk-dashed-wrapped {border: 1px dashed gray;margin: 0 0.4em 0.5em 0.4em;box-sizing: border-box;padding-bottom: 0.4em;background-color: white;}#sk-container-id-4 div.sk-label label {font-family: monospace;font-weight: bold;display: inline-block;line-height: 1.2em;}#sk-container-id-4 div.sk-label-container {text-align: center;}#sk-container-id-4 div.sk-container {/* jupyter's `normalize.less` sets `[hidden] { display: none; }` but bootstrap.min.css set `[hidden] { display: none !important; }` so we also need the `!important` here to be able to override the default hidden behavior on the sphinx rendered scikit-learn.org. See: https://github.com/scikit-learn/scikit-learn/issues/21755 */display: inline-block !important;position: relative;}#sk-container-id-4 div.sk-text-repr-fallback {display: none;}</style><div id=\"sk-container-id-4\" class=\"sk-top-container\"><div class=\"sk-text-repr-fallback\"><pre>LinearRegression()</pre><b>In a Jupyter environment, please rerun this cell to show the HTML representation or trust the notebook. <br />On GitHub, the HTML representation is unable to render, please try loading this page with nbviewer.org.</b></div><div class=\"sk-container\" hidden><div class=\"sk-item\"><div class=\"sk-estimator sk-toggleable\"><input class=\"sk-toggleable__control sk-hidden--visually\" id=\"sk-estimator-id-4\" type=\"checkbox\" checked><label for=\"sk-estimator-id-4\" class=\"sk-toggleable__label sk-toggleable__label-arrow\">LinearRegression</label><div class=\"sk-toggleable__content\"><pre>LinearRegression()</pre></div></div></div></div></div>"
            ]
          },
          "metadata": {},
          "execution_count": 130
        }
      ],
      "source": [
        "from sklearn.linear_model import LinearRegression\n",
        "LR = LinearRegression()\n",
        "LR.fit(x_train,y_train)"
      ]
    },
    {
      "cell_type": "code",
      "execution_count": 131,
      "id": "00e7d3bb",
      "metadata": {
        "id": "00e7d3bb"
      },
      "outputs": [],
      "source": [
        "LR_pred = LR.predict(x_test)"
      ]
    },
    {
      "cell_type": "code",
      "execution_count": 132,
      "id": "ada51aac",
      "metadata": {
        "colab": {
          "base_uri": "https://localhost:8080/"
        },
        "id": "ada51aac",
        "outputId": "e5c22a63-f69f-4581-d714-6b5e63519582"
      },
      "outputs": [
        {
          "output_type": "stream",
          "name": "stdout",
          "text": [
            "Training set score: 0.65\n",
            "Test set score: 0.5782372\n"
          ]
        }
      ],
      "source": [
        "print(\"Training set score: {:.2f}\".format(LR.score(x_train, y_train)))\n",
        "print(\"Test set score: {:.7f}\".format(LR.score(x_test, y_test)))"
      ]
    },
    {
      "cell_type": "code",
      "execution_count": 133,
      "id": "3987d677",
      "metadata": {
        "id": "3987d677"
      },
      "outputs": [],
      "source": [
        "from sklearn import metrics\n",
        "from sklearn.metrics import r2_score\n",
        "\n",
        "MAE_LR= metrics.mean_absolute_error(y_test, LR_pred)\n",
        "MSE_LR= metrics.mean_squared_error(y_test, LR_pred)\n",
        "RMSE_LR= np.sqrt(metrics.mean_squared_error(y_test, LR_pred))\n",
        "r2_LR=r2_score(y_test, LR_pred)\n",
        "Adj_r2_LR=1-(1-r2_score(y_test, LR_pred))*((len(x_test)-1)/(len(x_test)-len(x_test[0])-1))"
      ]
    },
    {
      "cell_type": "code",
      "execution_count": 134,
      "id": "5d02152a",
      "metadata": {
        "colab": {
          "base_uri": "https://localhost:8080/"
        },
        "id": "5d02152a",
        "outputId": "4e577fd0-2576-43f9-f2bd-4e7dc5d6225e"
      },
      "outputs": [
        {
          "output_type": "stream",
          "name": "stdout",
          "text": [
            "Mean absolute error of linear regression 0.2573904473859176\n",
            "Mean square  error of linear regression 0.4147342387915015\n",
            "root Mean square error of linear regression 0.6439986326006457\n",
            "r2 score of linear regression 0.5782372370795461\n",
            "adjusted r2 of linear regression 0.5781926155430543\n"
          ]
        }
      ],
      "source": [
        "print('Mean absolute error of linear regression',MAE_LR)\n",
        "print('Mean square  error of linear regression',MSE_LR)\n",
        "print('root Mean square error of linear regression',RMSE_LR)\n",
        "print('r2 score of linear regression',r2_LR)\n",
        "print('adjusted r2 of linear regression',Adj_r2_LR)"
      ]
    },
    {
      "cell_type": "markdown",
      "id": "d03bce4f",
      "metadata": {
        "id": "d03bce4f"
      },
      "source": [
        "Decision Tree Regressor"
      ]
    },
    {
      "cell_type": "code",
      "execution_count": 135,
      "id": "3a3e6c2f",
      "metadata": {
        "colab": {
          "base_uri": "https://localhost:8080/",
          "height": 74
        },
        "id": "3a3e6c2f",
        "outputId": "4f1030a9-dc35-488e-92b3-f0f7d282d95f"
      },
      "outputs": [
        {
          "output_type": "execute_result",
          "data": {
            "text/plain": [
              "DecisionTreeRegressor()"
            ],
            "text/html": [
              "<style>#sk-container-id-5 {color: black;background-color: white;}#sk-container-id-5 pre{padding: 0;}#sk-container-id-5 div.sk-toggleable {background-color: white;}#sk-container-id-5 label.sk-toggleable__label {cursor: pointer;display: block;width: 100%;margin-bottom: 0;padding: 0.3em;box-sizing: border-box;text-align: center;}#sk-container-id-5 label.sk-toggleable__label-arrow:before {content: \"▸\";float: left;margin-right: 0.25em;color: #696969;}#sk-container-id-5 label.sk-toggleable__label-arrow:hover:before {color: black;}#sk-container-id-5 div.sk-estimator:hover label.sk-toggleable__label-arrow:before {color: black;}#sk-container-id-5 div.sk-toggleable__content {max-height: 0;max-width: 0;overflow: hidden;text-align: left;background-color: #f0f8ff;}#sk-container-id-5 div.sk-toggleable__content pre {margin: 0.2em;color: black;border-radius: 0.25em;background-color: #f0f8ff;}#sk-container-id-5 input.sk-toggleable__control:checked~div.sk-toggleable__content {max-height: 200px;max-width: 100%;overflow: auto;}#sk-container-id-5 input.sk-toggleable__control:checked~label.sk-toggleable__label-arrow:before {content: \"▾\";}#sk-container-id-5 div.sk-estimator input.sk-toggleable__control:checked~label.sk-toggleable__label {background-color: #d4ebff;}#sk-container-id-5 div.sk-label input.sk-toggleable__control:checked~label.sk-toggleable__label {background-color: #d4ebff;}#sk-container-id-5 input.sk-hidden--visually {border: 0;clip: rect(1px 1px 1px 1px);clip: rect(1px, 1px, 1px, 1px);height: 1px;margin: -1px;overflow: hidden;padding: 0;position: absolute;width: 1px;}#sk-container-id-5 div.sk-estimator {font-family: monospace;background-color: #f0f8ff;border: 1px dotted black;border-radius: 0.25em;box-sizing: border-box;margin-bottom: 0.5em;}#sk-container-id-5 div.sk-estimator:hover {background-color: #d4ebff;}#sk-container-id-5 div.sk-parallel-item::after {content: \"\";width: 100%;border-bottom: 1px solid gray;flex-grow: 1;}#sk-container-id-5 div.sk-label:hover label.sk-toggleable__label {background-color: #d4ebff;}#sk-container-id-5 div.sk-serial::before {content: \"\";position: absolute;border-left: 1px solid gray;box-sizing: border-box;top: 0;bottom: 0;left: 50%;z-index: 0;}#sk-container-id-5 div.sk-serial {display: flex;flex-direction: column;align-items: center;background-color: white;padding-right: 0.2em;padding-left: 0.2em;position: relative;}#sk-container-id-5 div.sk-item {position: relative;z-index: 1;}#sk-container-id-5 div.sk-parallel {display: flex;align-items: stretch;justify-content: center;background-color: white;position: relative;}#sk-container-id-5 div.sk-item::before, #sk-container-id-5 div.sk-parallel-item::before {content: \"\";position: absolute;border-left: 1px solid gray;box-sizing: border-box;top: 0;bottom: 0;left: 50%;z-index: -1;}#sk-container-id-5 div.sk-parallel-item {display: flex;flex-direction: column;z-index: 1;position: relative;background-color: white;}#sk-container-id-5 div.sk-parallel-item:first-child::after {align-self: flex-end;width: 50%;}#sk-container-id-5 div.sk-parallel-item:last-child::after {align-self: flex-start;width: 50%;}#sk-container-id-5 div.sk-parallel-item:only-child::after {width: 0;}#sk-container-id-5 div.sk-dashed-wrapped {border: 1px dashed gray;margin: 0 0.4em 0.5em 0.4em;box-sizing: border-box;padding-bottom: 0.4em;background-color: white;}#sk-container-id-5 div.sk-label label {font-family: monospace;font-weight: bold;display: inline-block;line-height: 1.2em;}#sk-container-id-5 div.sk-label-container {text-align: center;}#sk-container-id-5 div.sk-container {/* jupyter's `normalize.less` sets `[hidden] { display: none; }` but bootstrap.min.css set `[hidden] { display: none !important; }` so we also need the `!important` here to be able to override the default hidden behavior on the sphinx rendered scikit-learn.org. See: https://github.com/scikit-learn/scikit-learn/issues/21755 */display: inline-block !important;position: relative;}#sk-container-id-5 div.sk-text-repr-fallback {display: none;}</style><div id=\"sk-container-id-5\" class=\"sk-top-container\"><div class=\"sk-text-repr-fallback\"><pre>DecisionTreeRegressor()</pre><b>In a Jupyter environment, please rerun this cell to show the HTML representation or trust the notebook. <br />On GitHub, the HTML representation is unable to render, please try loading this page with nbviewer.org.</b></div><div class=\"sk-container\" hidden><div class=\"sk-item\"><div class=\"sk-estimator sk-toggleable\"><input class=\"sk-toggleable__control sk-hidden--visually\" id=\"sk-estimator-id-5\" type=\"checkbox\" checked><label for=\"sk-estimator-id-5\" class=\"sk-toggleable__label sk-toggleable__label-arrow\">DecisionTreeRegressor</label><div class=\"sk-toggleable__content\"><pre>DecisionTreeRegressor()</pre></div></div></div></div></div>"
            ]
          },
          "metadata": {},
          "execution_count": 135
        }
      ],
      "source": [
        "from sklearn.tree import DecisionTreeRegressor\n",
        "\n",
        "DT = DecisionTreeRegressor()\n",
        "DT.fit(x_train, y_train)"
      ]
    },
    {
      "cell_type": "code",
      "execution_count": 136,
      "id": "8335b586",
      "metadata": {
        "id": "8335b586"
      },
      "outputs": [],
      "source": [
        "DTpreds = DT.predict(x_test)"
      ]
    },
    {
      "cell_type": "code",
      "execution_count": 137,
      "id": "47861f8a",
      "metadata": {
        "colab": {
          "base_uri": "https://localhost:8080/"
        },
        "id": "47861f8a",
        "outputId": "917a8a9d-1085-40b8-90ec-249423b534ea"
      },
      "outputs": [
        {
          "output_type": "stream",
          "name": "stdout",
          "text": [
            "Training set score: 1.00\n",
            "Test set score: 0.5630113\n"
          ]
        }
      ],
      "source": [
        "print(\"Training set score: {:.2f}\".format(DT.score(x_train, y_train)))\n",
        "print(\"Test set score: {:.7f}\".format(DT.score(x_test, y_test)))"
      ]
    },
    {
      "cell_type": "code",
      "execution_count": 138,
      "id": "15fdba97",
      "metadata": {
        "id": "15fdba97"
      },
      "outputs": [],
      "source": [
        "MAE_DT= metrics.mean_absolute_error(y_test, DTpreds)\n",
        "MSE_DT= metrics.mean_squared_error(y_test, DTpreds)\n",
        "RMSE_DT= np.sqrt(metrics.mean_squared_error(y_test, DTpreds))\n",
        "r2_DT=r2_score(y_test, DTpreds)\n",
        "Adj_r2_DT=1-(1-r2_score(y_test, DTpreds))*((len(x_test)-1)/(len(x_test)-len(x_test[0])-1))"
      ]
    },
    {
      "cell_type": "code",
      "execution_count": 139,
      "id": "5358dda2",
      "metadata": {
        "colab": {
          "base_uri": "https://localhost:8080/"
        },
        "id": "5358dda2",
        "outputId": "3199c9ab-bf06-42b7-eace-bdb1fcd0b910"
      },
      "outputs": [
        {
          "output_type": "stream",
          "name": "stdout",
          "text": [
            "Mean absolute error of decision tree 0.3054080485026727\n",
            "Mean square  error of decision tree 0.4297064090807789\n",
            "root Mean square error of decision tree 0.6555199532285642\n",
            "r2 score of decision tree 0.5630113325906339\n",
            "adjusted r2 of decision tree 0.5629651001882419\n"
          ]
        }
      ],
      "source": [
        "print('Mean absolute error of decision tree',MAE_DT)\n",
        "print('Mean square  error of decision tree',MSE_DT)\n",
        "print('root Mean square error of decision tree',RMSE_DT)\n",
        "print('r2 score of decision tree',r2_DT)\n",
        "print('adjusted r2 of decision tree',Adj_r2_DT)"
      ]
    },
    {
      "cell_type": "markdown",
      "id": "a318cdc4",
      "metadata": {
        "id": "a318cdc4"
      },
      "source": [
        "Random Forest Regressor"
      ]
    },
    {
      "cell_type": "code",
      "execution_count": 140,
      "id": "fb308c6e",
      "metadata": {
        "colab": {
          "base_uri": "https://localhost:8080/",
          "height": 74
        },
        "id": "fb308c6e",
        "outputId": "c82a7404-642a-41a0-c73e-765ca9798cc6"
      },
      "outputs": [
        {
          "output_type": "execute_result",
          "data": {
            "text/plain": [
              "RandomForestRegressor()"
            ],
            "text/html": [
              "<style>#sk-container-id-6 {color: black;background-color: white;}#sk-container-id-6 pre{padding: 0;}#sk-container-id-6 div.sk-toggleable {background-color: white;}#sk-container-id-6 label.sk-toggleable__label {cursor: pointer;display: block;width: 100%;margin-bottom: 0;padding: 0.3em;box-sizing: border-box;text-align: center;}#sk-container-id-6 label.sk-toggleable__label-arrow:before {content: \"▸\";float: left;margin-right: 0.25em;color: #696969;}#sk-container-id-6 label.sk-toggleable__label-arrow:hover:before {color: black;}#sk-container-id-6 div.sk-estimator:hover label.sk-toggleable__label-arrow:before {color: black;}#sk-container-id-6 div.sk-toggleable__content {max-height: 0;max-width: 0;overflow: hidden;text-align: left;background-color: #f0f8ff;}#sk-container-id-6 div.sk-toggleable__content pre {margin: 0.2em;color: black;border-radius: 0.25em;background-color: #f0f8ff;}#sk-container-id-6 input.sk-toggleable__control:checked~div.sk-toggleable__content {max-height: 200px;max-width: 100%;overflow: auto;}#sk-container-id-6 input.sk-toggleable__control:checked~label.sk-toggleable__label-arrow:before {content: \"▾\";}#sk-container-id-6 div.sk-estimator input.sk-toggleable__control:checked~label.sk-toggleable__label {background-color: #d4ebff;}#sk-container-id-6 div.sk-label input.sk-toggleable__control:checked~label.sk-toggleable__label {background-color: #d4ebff;}#sk-container-id-6 input.sk-hidden--visually {border: 0;clip: rect(1px 1px 1px 1px);clip: rect(1px, 1px, 1px, 1px);height: 1px;margin: -1px;overflow: hidden;padding: 0;position: absolute;width: 1px;}#sk-container-id-6 div.sk-estimator {font-family: monospace;background-color: #f0f8ff;border: 1px dotted black;border-radius: 0.25em;box-sizing: border-box;margin-bottom: 0.5em;}#sk-container-id-6 div.sk-estimator:hover {background-color: #d4ebff;}#sk-container-id-6 div.sk-parallel-item::after {content: \"\";width: 100%;border-bottom: 1px solid gray;flex-grow: 1;}#sk-container-id-6 div.sk-label:hover label.sk-toggleable__label {background-color: #d4ebff;}#sk-container-id-6 div.sk-serial::before {content: \"\";position: absolute;border-left: 1px solid gray;box-sizing: border-box;top: 0;bottom: 0;left: 50%;z-index: 0;}#sk-container-id-6 div.sk-serial {display: flex;flex-direction: column;align-items: center;background-color: white;padding-right: 0.2em;padding-left: 0.2em;position: relative;}#sk-container-id-6 div.sk-item {position: relative;z-index: 1;}#sk-container-id-6 div.sk-parallel {display: flex;align-items: stretch;justify-content: center;background-color: white;position: relative;}#sk-container-id-6 div.sk-item::before, #sk-container-id-6 div.sk-parallel-item::before {content: \"\";position: absolute;border-left: 1px solid gray;box-sizing: border-box;top: 0;bottom: 0;left: 50%;z-index: -1;}#sk-container-id-6 div.sk-parallel-item {display: flex;flex-direction: column;z-index: 1;position: relative;background-color: white;}#sk-container-id-6 div.sk-parallel-item:first-child::after {align-self: flex-end;width: 50%;}#sk-container-id-6 div.sk-parallel-item:last-child::after {align-self: flex-start;width: 50%;}#sk-container-id-6 div.sk-parallel-item:only-child::after {width: 0;}#sk-container-id-6 div.sk-dashed-wrapped {border: 1px dashed gray;margin: 0 0.4em 0.5em 0.4em;box-sizing: border-box;padding-bottom: 0.4em;background-color: white;}#sk-container-id-6 div.sk-label label {font-family: monospace;font-weight: bold;display: inline-block;line-height: 1.2em;}#sk-container-id-6 div.sk-label-container {text-align: center;}#sk-container-id-6 div.sk-container {/* jupyter's `normalize.less` sets `[hidden] { display: none; }` but bootstrap.min.css set `[hidden] { display: none !important; }` so we also need the `!important` here to be able to override the default hidden behavior on the sphinx rendered scikit-learn.org. See: https://github.com/scikit-learn/scikit-learn/issues/21755 */display: inline-block !important;position: relative;}#sk-container-id-6 div.sk-text-repr-fallback {display: none;}</style><div id=\"sk-container-id-6\" class=\"sk-top-container\"><div class=\"sk-text-repr-fallback\"><pre>RandomForestRegressor()</pre><b>In a Jupyter environment, please rerun this cell to show the HTML representation or trust the notebook. <br />On GitHub, the HTML representation is unable to render, please try loading this page with nbviewer.org.</b></div><div class=\"sk-container\" hidden><div class=\"sk-item\"><div class=\"sk-estimator sk-toggleable\"><input class=\"sk-toggleable__control sk-hidden--visually\" id=\"sk-estimator-id-6\" type=\"checkbox\" checked><label for=\"sk-estimator-id-6\" class=\"sk-toggleable__label sk-toggleable__label-arrow\">RandomForestRegressor</label><div class=\"sk-toggleable__content\"><pre>RandomForestRegressor()</pre></div></div></div></div></div>"
            ]
          },
          "metadata": {},
          "execution_count": 140
        }
      ],
      "source": [
        "from sklearn.ensemble import RandomForestRegressor\n",
        "\n",
        "RF = RandomForestRegressor()\n",
        "RF.fit(x_train, y_train.ravel())"
      ]
    },
    {
      "cell_type": "code",
      "execution_count": 141,
      "id": "b0ed9365",
      "metadata": {
        "id": "b0ed9365"
      },
      "outputs": [],
      "source": [
        "RFpreds = RF.predict(x_test)"
      ]
    },
    {
      "cell_type": "code",
      "execution_count": 142,
      "id": "42bdc79a",
      "metadata": {
        "colab": {
          "base_uri": "https://localhost:8080/"
        },
        "id": "42bdc79a",
        "outputId": "81c4a79b-5bd7-463b-8b99-794e1fc2f636"
      },
      "outputs": [
        {
          "output_type": "stream",
          "name": "stdout",
          "text": [
            "Training set score: 0.97\n",
            "Test set score: 0.7900429\n"
          ]
        }
      ],
      "source": [
        "print(\"Training set score: {:.2f}\".format(RF.score(x_train, y_train)))\n",
        "print(\"Test set score: {:.7f}\".format(RF.score(x_test, y_test)))"
      ]
    },
    {
      "cell_type": "code",
      "execution_count": 143,
      "id": "0df1a12f",
      "metadata": {
        "id": "0df1a12f"
      },
      "outputs": [],
      "source": [
        "MAE_RF= metrics.mean_absolute_error(y_test, RFpreds)\n",
        "MSE_RF= metrics.mean_squared_error(y_test, RFpreds)\n",
        "RMSE_RF= np.sqrt(metrics.mean_squared_error(y_test, RFpreds))\n",
        "r2_RF=r2_score(y_test, RFpreds)\n",
        "Adj_r2_RF=1-(1-r2_score(y_test, RFpreds))*((len(x_test)-1)/(len(x_test)-len(x_test[0])-1))"
      ]
    },
    {
      "cell_type": "code",
      "execution_count": 144,
      "id": "d0904e06",
      "metadata": {
        "colab": {
          "base_uri": "https://localhost:8080/"
        },
        "id": "d0904e06",
        "outputId": "acdc4bb2-672d-4df6-90d0-b8f3a534076e"
      },
      "outputs": [
        {
          "output_type": "stream",
          "name": "stdout",
          "text": [
            "Mean absolute error of random forest 0.2251793329615889\n",
            "Mean square  error of random forest 0.2064582332017959\n",
            "root Mean square error of random forest 0.45437675248828024\n",
            "r2 score of random forest 0.7900429076784264\n",
            "adjusted r2 of random forest 0.7900206946978592\n"
          ]
        }
      ],
      "source": [
        "print('Mean absolute error of random forest',MAE_RF)\n",
        "print('Mean square  error of random forest',MSE_RF)\n",
        "print('root Mean square error of random forest',RMSE_RF)\n",
        "print('r2 score of random forest',r2_RF)\n",
        "print('adjusted r2 of random forest',Adj_r2_RF)"
      ]
    },
    {
      "cell_type": "markdown",
      "id": "08d1a778",
      "metadata": {
        "id": "08d1a778"
      },
      "source": [
        "## Boosting"
      ]
    },
    {
      "cell_type": "code",
      "execution_count": 145,
      "id": "309d1ede",
      "metadata": {
        "id": "309d1ede"
      },
      "outputs": [],
      "source": [
        "from sklearn.ensemble import GradientBoostingRegressor, AdaBoostRegressor"
      ]
    },
    {
      "cell_type": "markdown",
      "id": "169dd94a",
      "metadata": {
        "id": "169dd94a"
      },
      "source": [
        "Gradient Boosting"
      ]
    },
    {
      "cell_type": "code",
      "execution_count": 146,
      "id": "843dab96",
      "metadata": {
        "id": "843dab96"
      },
      "outputs": [],
      "source": [
        "gbr = GradientBoostingRegressor(random_state = 42)\n",
        "gbr.fit(x_train, y_train.ravel())\n",
        "predictions_gbr = gbr.predict(x_test)"
      ]
    },
    {
      "cell_type": "code",
      "execution_count": 147,
      "id": "0d9c2ccd",
      "metadata": {
        "colab": {
          "base_uri": "https://localhost:8080/"
        },
        "id": "0d9c2ccd",
        "outputId": "6e01bc9a-8e81-43c1-84da-313991c2cc6b"
      },
      "outputs": [
        {
          "output_type": "stream",
          "name": "stdout",
          "text": [
            "Training set score: 0.82\n",
            "Test set score: 0.7828862\n"
          ]
        }
      ],
      "source": [
        "print(\"Training set score: {:.2f}\".format(gbr.score(x_train, y_train)))\n",
        "print(\"Test set score: {:.7f}\".format(gbr.score(x_test, y_test)))"
      ]
    },
    {
      "cell_type": "code",
      "execution_count": 148,
      "id": "ac42aa68",
      "metadata": {
        "id": "ac42aa68"
      },
      "outputs": [],
      "source": [
        "MAE_GBR= metrics.mean_absolute_error(y_test, predictions_gbr)\n",
        "MSE_GBR= metrics.mean_squared_error(y_test, predictions_gbr)\n",
        "RMSE_GBR= np.sqrt(metrics.mean_squared_error(y_test, predictions_gbr))\n",
        "r2_GBR=r2_score(y_test, predictions_gbr)\n",
        "Adj_r2_GBR=1-(1-r2_score(y_test, predictions_gbr))*((len(x_test)-1)/(len(x_test)-len(x_test[0])-1))"
      ]
    },
    {
      "cell_type": "code",
      "execution_count": 149,
      "id": "5a34192a",
      "metadata": {
        "colab": {
          "base_uri": "https://localhost:8080/"
        },
        "id": "5a34192a",
        "outputId": "c42f1b71-cada-494c-9f01-e0217c410d88"
      },
      "outputs": [
        {
          "output_type": "stream",
          "name": "stdout",
          "text": [
            "Mean absolute error of gradient boosting regressor 0.2119350848285695\n",
            "Mean square  error of gradient boosting regressor 0.2134956752780714\n",
            "root Mean square error of gradient boosting regressor 0.46205592224109776\n",
            "r2 score of gradient boosting regressor 0.7828862016812764\n",
            "adjusted r2 of gradient boosting regressor 0.7828632315375694\n"
          ]
        }
      ],
      "source": [
        "print('Mean absolute error of gradient boosting regressor',MAE_GBR)\n",
        "print('Mean square  error of gradient boosting regressor',MSE_GBR)\n",
        "print('root Mean square error of gradient boosting regressor',RMSE_GBR)\n",
        "print('r2 score of gradient boosting regressor',r2_GBR)\n",
        "print('adjusted r2 of gradient boosting regressor',Adj_r2_GBR)"
      ]
    },
    {
      "cell_type": "markdown",
      "id": "c5e562fd",
      "metadata": {
        "id": "c5e562fd"
      },
      "source": [
        "XGBoost Classifier"
      ]
    },
    {
      "cell_type": "code",
      "execution_count": 150,
      "id": "1614c933",
      "metadata": {
        "colab": {
          "base_uri": "https://localhost:8080/"
        },
        "id": "1614c933",
        "outputId": "d3e71c8a-71b6-42bb-be41-f3bae1fffe92"
      },
      "outputs": [
        {
          "output_type": "stream",
          "name": "stdout",
          "text": [
            "Requirement already satisfied: xgboost in /usr/local/lib/python3.10/dist-packages (2.0.1)\n",
            "Requirement already satisfied: numpy in /usr/local/lib/python3.10/dist-packages (from xgboost) (1.23.5)\n",
            "Requirement already satisfied: scipy in /usr/local/lib/python3.10/dist-packages (from xgboost) (1.11.3)\n"
          ]
        }
      ],
      "source": [
        "!pip install xgboost\n",
        "from xgboost import XGBRegressor"
      ]
    },
    {
      "cell_type": "code",
      "execution_count": 151,
      "id": "eb8d406d",
      "metadata": {
        "id": "eb8d406d"
      },
      "outputs": [],
      "source": [
        "xgb = XGBRegressor(random_state = 42, scale_pos_weight = 1)\n",
        "xgb.fit(x_train, y_train)\n",
        "predictions_xgb = xgb.predict(x_test)"
      ]
    },
    {
      "cell_type": "code",
      "execution_count": 152,
      "id": "6d0eacd7",
      "metadata": {
        "colab": {
          "base_uri": "https://localhost:8080/"
        },
        "id": "6d0eacd7",
        "outputId": "34116a0b-d53c-4a75-a8bc-46a1be51f01b"
      },
      "outputs": [
        {
          "output_type": "stream",
          "name": "stdout",
          "text": [
            "Training set score: 0.86\n",
            "Test set score: 0.7843994\n"
          ]
        }
      ],
      "source": [
        "print(\"Training set score: {:.2f}\".format(xgb.score(x_train, y_train)))\n",
        "print(\"Test set score: {:.7f}\".format(xgb.score(x_test, y_test)))"
      ]
    },
    {
      "cell_type": "code",
      "execution_count": 153,
      "id": "d06ef811",
      "metadata": {
        "id": "d06ef811"
      },
      "outputs": [],
      "source": [
        "MAE_XGB= metrics.mean_absolute_error(y_test, predictions_xgb)\n",
        "MSE_XGB= metrics.mean_squared_error(y_test, predictions_xgb)\n",
        "RMSE_XGB= np.sqrt(metrics.mean_squared_error(y_test, predictions_xgb))\n",
        "r2_XGB=r2_score(y_test, predictions_xgb)\n",
        "Adj_r2_XGB=1-(1-r2_score(y_test, predictions_xgb))*((len(x_test)-1)/(len(x_test)-len(x_test[0])-1))"
      ]
    },
    {
      "cell_type": "code",
      "execution_count": 154,
      "id": "dbd637f5",
      "metadata": {
        "colab": {
          "base_uri": "https://localhost:8080/"
        },
        "id": "dbd637f5",
        "outputId": "f80a0fb2-7a93-43e3-e77a-46f51ef7a748"
      },
      "outputs": [
        {
          "output_type": "stream",
          "name": "stdout",
          "text": [
            "Mean absolute error of XGB regressor 0.2147967789338252\n",
            "Mean square  error of XGB regressor 0.21200769132445246\n",
            "root Mean square error of XGB regressor 0.46044292949773097\n",
            "r2 score of XGB regressor 0.7843994025814198\n",
            "adjusted r2 of XGB regressor 0.7843765925309101\n"
          ]
        }
      ],
      "source": [
        "print('Mean absolute error of XGB regressor',MAE_XGB)\n",
        "print('Mean square  error of XGB regressor',MSE_XGB)\n",
        "print('root Mean square error of XGB regressor',RMSE_XGB)\n",
        "print('r2 score of XGB regressor',r2_XGB)\n",
        "print('adjusted r2 of XGB regressor',Adj_r2_XGB)"
      ]
    },
    {
      "cell_type": "markdown",
      "id": "1ee255bc",
      "metadata": {
        "id": "1ee255bc"
      },
      "source": [
        "## Choosing the Best Models"
      ]
    },
    {
      "cell_type": "code",
      "execution_count": 155,
      "id": "b619284f",
      "metadata": {
        "id": "b619284f"
      },
      "outputs": [],
      "source": [
        "cols = ['Model', 'MSE', 'RMSE', 'R2_score','MAE','ADJ_r']\n",
        "\n",
        "# create a empty dataframe of the colums\n",
        "result_table = pd.DataFrame(columns = cols)"
      ]
    },
    {
      "cell_type": "code",
      "execution_count": 156,
      "id": "0d66db94",
      "metadata": {
        "id": "0d66db94"
      },
      "outputs": [],
      "source": [
        "full_metrics = pd.Series({'Model': \"Linear Regression\", 'MSE': MSE_LR, 'RMSE' : RMSE_LR, 'R2_score' : r2_LR,'MAE':MAE_LR,'ADJ_r':Adj_r2_LR})"
      ]
    },
    {
      "cell_type": "code",
      "execution_count": 157,
      "id": "170ae988",
      "metadata": {
        "id": "170ae988"
      },
      "outputs": [],
      "source": [
        "import pandas as pd\n",
        "\n",
        "result_table = pd.concat([result_table, full_metrics], ignore_index=True)\n"
      ]
    },
    {
      "cell_type": "code",
      "execution_count": 158,
      "id": "fe53e7d4",
      "metadata": {
        "id": "fe53e7d4"
      },
      "outputs": [],
      "source": [
        "full_metrics = pd.Series({'Model': \"Decision Tree\", 'MSE': MSE_DT, 'RMSE' : RMSE_DT, 'R2_score' : r2_DT,'MAE':MAE_DT,'ADJ_r':Adj_r2_DT})"
      ]
    },
    {
      "cell_type": "code",
      "execution_count": 159,
      "id": "2da48adc",
      "metadata": {
        "id": "2da48adc"
      },
      "outputs": [],
      "source": [
        "result_table = pd.concat([result_table, full_metrics], ignore_index=True)"
      ]
    },
    {
      "cell_type": "code",
      "execution_count": 160,
      "id": "fa691be6",
      "metadata": {
        "id": "fa691be6"
      },
      "outputs": [],
      "source": [
        "full_metrics = pd.Series({'Model': \"Random Forest\", 'MSE': MSE_RF, 'RMSE' : RMSE_RF, 'R2_score' : r2_RF,'MAE':MAE_RF,'ADJ_r':Adj_r2_RF})"
      ]
    },
    {
      "cell_type": "code",
      "execution_count": 161,
      "id": "109d0fc7",
      "metadata": {
        "id": "109d0fc7"
      },
      "outputs": [],
      "source": [
        "result_table = pd.concat([result_table, full_metrics], ignore_index=True)"
      ]
    },
    {
      "cell_type": "code",
      "execution_count": 162,
      "id": "693a7714",
      "metadata": {
        "id": "693a7714"
      },
      "outputs": [],
      "source": [
        "full_metrics = pd.Series({'Model': \"Gardient Boosting\", 'MSE': MSE_GBR, 'RMSE' : RMSE_GBR, 'R2_score' : r2_GBR,'MAE':MAE_GBR,'ADJ_r':Adj_r2_GBR})"
      ]
    },
    {
      "cell_type": "code",
      "execution_count": 163,
      "id": "91fa001b",
      "metadata": {
        "id": "91fa001b"
      },
      "outputs": [],
      "source": [
        "result_table = pd.concat([result_table, full_metrics], ignore_index=True)"
      ]
    },
    {
      "cell_type": "code",
      "execution_count": 164,
      "id": "f36b5b74",
      "metadata": {
        "id": "f36b5b74"
      },
      "outputs": [],
      "source": [
        "full_metrics = pd.Series({'Model': \"XGBoost\", 'MSE': MSE_XGB, 'RMSE' : RMSE_XGB, 'R2_score' : r2_XGB,'MAE':MAE_XGB,'ADJ_r':Adj_r2_XGB})"
      ]
    },
    {
      "cell_type": "code",
      "execution_count": 165,
      "id": "fa7d5d2c",
      "metadata": {
        "id": "fa7d5d2c"
      },
      "outputs": [],
      "source": [
        "result_table = pd.concat([result_table, full_metrics], ignore_index=True)"
      ]
    },
    {
      "cell_type": "code",
      "execution_count": 166,
      "id": "e18fea41",
      "metadata": {
        "colab": {
          "base_uri": "https://localhost:8080/",
          "height": 990
        },
        "id": "e18fea41",
        "outputId": "105184fd-29b1-4188-b78d-cccccd725c7d"
      },
      "outputs": [
        {
          "output_type": "execute_result",
          "data": {
            "text/plain": [
              "   Model  MSE RMSE R2_score  MAE ADJ_r                  0\n",
              "0    NaN  NaN  NaN      NaN  NaN   NaN  Linear Regression\n",
              "1    NaN  NaN  NaN      NaN  NaN   NaN           0.414734\n",
              "2    NaN  NaN  NaN      NaN  NaN   NaN           0.643999\n",
              "3    NaN  NaN  NaN      NaN  NaN   NaN           0.578237\n",
              "4    NaN  NaN  NaN      NaN  NaN   NaN            0.25739\n",
              "5    NaN  NaN  NaN      NaN  NaN   NaN           0.578193\n",
              "6    NaN  NaN  NaN      NaN  NaN   NaN      Decision Tree\n",
              "7    NaN  NaN  NaN      NaN  NaN   NaN           0.429706\n",
              "8    NaN  NaN  NaN      NaN  NaN   NaN            0.65552\n",
              "9    NaN  NaN  NaN      NaN  NaN   NaN           0.563011\n",
              "10   NaN  NaN  NaN      NaN  NaN   NaN           0.305408\n",
              "11   NaN  NaN  NaN      NaN  NaN   NaN           0.562965\n",
              "12   NaN  NaN  NaN      NaN  NaN   NaN      Random Forest\n",
              "13   NaN  NaN  NaN      NaN  NaN   NaN           0.206458\n",
              "14   NaN  NaN  NaN      NaN  NaN   NaN           0.454377\n",
              "15   NaN  NaN  NaN      NaN  NaN   NaN           0.790043\n",
              "16   NaN  NaN  NaN      NaN  NaN   NaN           0.225179\n",
              "17   NaN  NaN  NaN      NaN  NaN   NaN           0.790021\n",
              "18   NaN  NaN  NaN      NaN  NaN   NaN  Gardient Boosting\n",
              "19   NaN  NaN  NaN      NaN  NaN   NaN           0.213496\n",
              "20   NaN  NaN  NaN      NaN  NaN   NaN           0.462056\n",
              "21   NaN  NaN  NaN      NaN  NaN   NaN           0.782886\n",
              "22   NaN  NaN  NaN      NaN  NaN   NaN           0.211935\n",
              "23   NaN  NaN  NaN      NaN  NaN   NaN           0.782863\n",
              "24   NaN  NaN  NaN      NaN  NaN   NaN            XGBoost\n",
              "25   NaN  NaN  NaN      NaN  NaN   NaN           0.212008\n",
              "26   NaN  NaN  NaN      NaN  NaN   NaN           0.460443\n",
              "27   NaN  NaN  NaN      NaN  NaN   NaN           0.784399\n",
              "28   NaN  NaN  NaN      NaN  NaN   NaN           0.214797\n",
              "29   NaN  NaN  NaN      NaN  NaN   NaN           0.784377"
            ],
            "text/html": [
              "\n",
              "  <div id=\"df-0eb94ad7-e1e2-42c4-a334-f74750b20556\" class=\"colab-df-container\">\n",
              "    <div>\n",
              "<style scoped>\n",
              "    .dataframe tbody tr th:only-of-type {\n",
              "        vertical-align: middle;\n",
              "    }\n",
              "\n",
              "    .dataframe tbody tr th {\n",
              "        vertical-align: top;\n",
              "    }\n",
              "\n",
              "    .dataframe thead th {\n",
              "        text-align: right;\n",
              "    }\n",
              "</style>\n",
              "<table border=\"1\" class=\"dataframe\">\n",
              "  <thead>\n",
              "    <tr style=\"text-align: right;\">\n",
              "      <th></th>\n",
              "      <th>Model</th>\n",
              "      <th>MSE</th>\n",
              "      <th>RMSE</th>\n",
              "      <th>R2_score</th>\n",
              "      <th>MAE</th>\n",
              "      <th>ADJ_r</th>\n",
              "      <th>0</th>\n",
              "    </tr>\n",
              "  </thead>\n",
              "  <tbody>\n",
              "    <tr>\n",
              "      <th>0</th>\n",
              "      <td>NaN</td>\n",
              "      <td>NaN</td>\n",
              "      <td>NaN</td>\n",
              "      <td>NaN</td>\n",
              "      <td>NaN</td>\n",
              "      <td>NaN</td>\n",
              "      <td>Linear Regression</td>\n",
              "    </tr>\n",
              "    <tr>\n",
              "      <th>1</th>\n",
              "      <td>NaN</td>\n",
              "      <td>NaN</td>\n",
              "      <td>NaN</td>\n",
              "      <td>NaN</td>\n",
              "      <td>NaN</td>\n",
              "      <td>NaN</td>\n",
              "      <td>0.414734</td>\n",
              "    </tr>\n",
              "    <tr>\n",
              "      <th>2</th>\n",
              "      <td>NaN</td>\n",
              "      <td>NaN</td>\n",
              "      <td>NaN</td>\n",
              "      <td>NaN</td>\n",
              "      <td>NaN</td>\n",
              "      <td>NaN</td>\n",
              "      <td>0.643999</td>\n",
              "    </tr>\n",
              "    <tr>\n",
              "      <th>3</th>\n",
              "      <td>NaN</td>\n",
              "      <td>NaN</td>\n",
              "      <td>NaN</td>\n",
              "      <td>NaN</td>\n",
              "      <td>NaN</td>\n",
              "      <td>NaN</td>\n",
              "      <td>0.578237</td>\n",
              "    </tr>\n",
              "    <tr>\n",
              "      <th>4</th>\n",
              "      <td>NaN</td>\n",
              "      <td>NaN</td>\n",
              "      <td>NaN</td>\n",
              "      <td>NaN</td>\n",
              "      <td>NaN</td>\n",
              "      <td>NaN</td>\n",
              "      <td>0.25739</td>\n",
              "    </tr>\n",
              "    <tr>\n",
              "      <th>5</th>\n",
              "      <td>NaN</td>\n",
              "      <td>NaN</td>\n",
              "      <td>NaN</td>\n",
              "      <td>NaN</td>\n",
              "      <td>NaN</td>\n",
              "      <td>NaN</td>\n",
              "      <td>0.578193</td>\n",
              "    </tr>\n",
              "    <tr>\n",
              "      <th>6</th>\n",
              "      <td>NaN</td>\n",
              "      <td>NaN</td>\n",
              "      <td>NaN</td>\n",
              "      <td>NaN</td>\n",
              "      <td>NaN</td>\n",
              "      <td>NaN</td>\n",
              "      <td>Decision Tree</td>\n",
              "    </tr>\n",
              "    <tr>\n",
              "      <th>7</th>\n",
              "      <td>NaN</td>\n",
              "      <td>NaN</td>\n",
              "      <td>NaN</td>\n",
              "      <td>NaN</td>\n",
              "      <td>NaN</td>\n",
              "      <td>NaN</td>\n",
              "      <td>0.429706</td>\n",
              "    </tr>\n",
              "    <tr>\n",
              "      <th>8</th>\n",
              "      <td>NaN</td>\n",
              "      <td>NaN</td>\n",
              "      <td>NaN</td>\n",
              "      <td>NaN</td>\n",
              "      <td>NaN</td>\n",
              "      <td>NaN</td>\n",
              "      <td>0.65552</td>\n",
              "    </tr>\n",
              "    <tr>\n",
              "      <th>9</th>\n",
              "      <td>NaN</td>\n",
              "      <td>NaN</td>\n",
              "      <td>NaN</td>\n",
              "      <td>NaN</td>\n",
              "      <td>NaN</td>\n",
              "      <td>NaN</td>\n",
              "      <td>0.563011</td>\n",
              "    </tr>\n",
              "    <tr>\n",
              "      <th>10</th>\n",
              "      <td>NaN</td>\n",
              "      <td>NaN</td>\n",
              "      <td>NaN</td>\n",
              "      <td>NaN</td>\n",
              "      <td>NaN</td>\n",
              "      <td>NaN</td>\n",
              "      <td>0.305408</td>\n",
              "    </tr>\n",
              "    <tr>\n",
              "      <th>11</th>\n",
              "      <td>NaN</td>\n",
              "      <td>NaN</td>\n",
              "      <td>NaN</td>\n",
              "      <td>NaN</td>\n",
              "      <td>NaN</td>\n",
              "      <td>NaN</td>\n",
              "      <td>0.562965</td>\n",
              "    </tr>\n",
              "    <tr>\n",
              "      <th>12</th>\n",
              "      <td>NaN</td>\n",
              "      <td>NaN</td>\n",
              "      <td>NaN</td>\n",
              "      <td>NaN</td>\n",
              "      <td>NaN</td>\n",
              "      <td>NaN</td>\n",
              "      <td>Random Forest</td>\n",
              "    </tr>\n",
              "    <tr>\n",
              "      <th>13</th>\n",
              "      <td>NaN</td>\n",
              "      <td>NaN</td>\n",
              "      <td>NaN</td>\n",
              "      <td>NaN</td>\n",
              "      <td>NaN</td>\n",
              "      <td>NaN</td>\n",
              "      <td>0.206458</td>\n",
              "    </tr>\n",
              "    <tr>\n",
              "      <th>14</th>\n",
              "      <td>NaN</td>\n",
              "      <td>NaN</td>\n",
              "      <td>NaN</td>\n",
              "      <td>NaN</td>\n",
              "      <td>NaN</td>\n",
              "      <td>NaN</td>\n",
              "      <td>0.454377</td>\n",
              "    </tr>\n",
              "    <tr>\n",
              "      <th>15</th>\n",
              "      <td>NaN</td>\n",
              "      <td>NaN</td>\n",
              "      <td>NaN</td>\n",
              "      <td>NaN</td>\n",
              "      <td>NaN</td>\n",
              "      <td>NaN</td>\n",
              "      <td>0.790043</td>\n",
              "    </tr>\n",
              "    <tr>\n",
              "      <th>16</th>\n",
              "      <td>NaN</td>\n",
              "      <td>NaN</td>\n",
              "      <td>NaN</td>\n",
              "      <td>NaN</td>\n",
              "      <td>NaN</td>\n",
              "      <td>NaN</td>\n",
              "      <td>0.225179</td>\n",
              "    </tr>\n",
              "    <tr>\n",
              "      <th>17</th>\n",
              "      <td>NaN</td>\n",
              "      <td>NaN</td>\n",
              "      <td>NaN</td>\n",
              "      <td>NaN</td>\n",
              "      <td>NaN</td>\n",
              "      <td>NaN</td>\n",
              "      <td>0.790021</td>\n",
              "    </tr>\n",
              "    <tr>\n",
              "      <th>18</th>\n",
              "      <td>NaN</td>\n",
              "      <td>NaN</td>\n",
              "      <td>NaN</td>\n",
              "      <td>NaN</td>\n",
              "      <td>NaN</td>\n",
              "      <td>NaN</td>\n",
              "      <td>Gardient Boosting</td>\n",
              "    </tr>\n",
              "    <tr>\n",
              "      <th>19</th>\n",
              "      <td>NaN</td>\n",
              "      <td>NaN</td>\n",
              "      <td>NaN</td>\n",
              "      <td>NaN</td>\n",
              "      <td>NaN</td>\n",
              "      <td>NaN</td>\n",
              "      <td>0.213496</td>\n",
              "    </tr>\n",
              "    <tr>\n",
              "      <th>20</th>\n",
              "      <td>NaN</td>\n",
              "      <td>NaN</td>\n",
              "      <td>NaN</td>\n",
              "      <td>NaN</td>\n",
              "      <td>NaN</td>\n",
              "      <td>NaN</td>\n",
              "      <td>0.462056</td>\n",
              "    </tr>\n",
              "    <tr>\n",
              "      <th>21</th>\n",
              "      <td>NaN</td>\n",
              "      <td>NaN</td>\n",
              "      <td>NaN</td>\n",
              "      <td>NaN</td>\n",
              "      <td>NaN</td>\n",
              "      <td>NaN</td>\n",
              "      <td>0.782886</td>\n",
              "    </tr>\n",
              "    <tr>\n",
              "      <th>22</th>\n",
              "      <td>NaN</td>\n",
              "      <td>NaN</td>\n",
              "      <td>NaN</td>\n",
              "      <td>NaN</td>\n",
              "      <td>NaN</td>\n",
              "      <td>NaN</td>\n",
              "      <td>0.211935</td>\n",
              "    </tr>\n",
              "    <tr>\n",
              "      <th>23</th>\n",
              "      <td>NaN</td>\n",
              "      <td>NaN</td>\n",
              "      <td>NaN</td>\n",
              "      <td>NaN</td>\n",
              "      <td>NaN</td>\n",
              "      <td>NaN</td>\n",
              "      <td>0.782863</td>\n",
              "    </tr>\n",
              "    <tr>\n",
              "      <th>24</th>\n",
              "      <td>NaN</td>\n",
              "      <td>NaN</td>\n",
              "      <td>NaN</td>\n",
              "      <td>NaN</td>\n",
              "      <td>NaN</td>\n",
              "      <td>NaN</td>\n",
              "      <td>XGBoost</td>\n",
              "    </tr>\n",
              "    <tr>\n",
              "      <th>25</th>\n",
              "      <td>NaN</td>\n",
              "      <td>NaN</td>\n",
              "      <td>NaN</td>\n",
              "      <td>NaN</td>\n",
              "      <td>NaN</td>\n",
              "      <td>NaN</td>\n",
              "      <td>0.212008</td>\n",
              "    </tr>\n",
              "    <tr>\n",
              "      <th>26</th>\n",
              "      <td>NaN</td>\n",
              "      <td>NaN</td>\n",
              "      <td>NaN</td>\n",
              "      <td>NaN</td>\n",
              "      <td>NaN</td>\n",
              "      <td>NaN</td>\n",
              "      <td>0.460443</td>\n",
              "    </tr>\n",
              "    <tr>\n",
              "      <th>27</th>\n",
              "      <td>NaN</td>\n",
              "      <td>NaN</td>\n",
              "      <td>NaN</td>\n",
              "      <td>NaN</td>\n",
              "      <td>NaN</td>\n",
              "      <td>NaN</td>\n",
              "      <td>0.784399</td>\n",
              "    </tr>\n",
              "    <tr>\n",
              "      <th>28</th>\n",
              "      <td>NaN</td>\n",
              "      <td>NaN</td>\n",
              "      <td>NaN</td>\n",
              "      <td>NaN</td>\n",
              "      <td>NaN</td>\n",
              "      <td>NaN</td>\n",
              "      <td>0.214797</td>\n",
              "    </tr>\n",
              "    <tr>\n",
              "      <th>29</th>\n",
              "      <td>NaN</td>\n",
              "      <td>NaN</td>\n",
              "      <td>NaN</td>\n",
              "      <td>NaN</td>\n",
              "      <td>NaN</td>\n",
              "      <td>NaN</td>\n",
              "      <td>0.784377</td>\n",
              "    </tr>\n",
              "  </tbody>\n",
              "</table>\n",
              "</div>\n",
              "    <div class=\"colab-df-buttons\">\n",
              "\n",
              "  <div class=\"colab-df-container\">\n",
              "    <button class=\"colab-df-convert\" onclick=\"convertToInteractive('df-0eb94ad7-e1e2-42c4-a334-f74750b20556')\"\n",
              "            title=\"Convert this dataframe to an interactive table.\"\n",
              "            style=\"display:none;\">\n",
              "\n",
              "  <svg xmlns=\"http://www.w3.org/2000/svg\" height=\"24px\" viewBox=\"0 -960 960 960\">\n",
              "    <path d=\"M120-120v-720h720v720H120Zm60-500h600v-160H180v160Zm220 220h160v-160H400v160Zm0 220h160v-160H400v160ZM180-400h160v-160H180v160Zm440 0h160v-160H620v160ZM180-180h160v-160H180v160Zm440 0h160v-160H620v160Z\"/>\n",
              "  </svg>\n",
              "    </button>\n",
              "\n",
              "  <style>\n",
              "    .colab-df-container {\n",
              "      display:flex;\n",
              "      gap: 12px;\n",
              "    }\n",
              "\n",
              "    .colab-df-convert {\n",
              "      background-color: #E8F0FE;\n",
              "      border: none;\n",
              "      border-radius: 50%;\n",
              "      cursor: pointer;\n",
              "      display: none;\n",
              "      fill: #1967D2;\n",
              "      height: 32px;\n",
              "      padding: 0 0 0 0;\n",
              "      width: 32px;\n",
              "    }\n",
              "\n",
              "    .colab-df-convert:hover {\n",
              "      background-color: #E2EBFA;\n",
              "      box-shadow: 0px 1px 2px rgba(60, 64, 67, 0.3), 0px 1px 3px 1px rgba(60, 64, 67, 0.15);\n",
              "      fill: #174EA6;\n",
              "    }\n",
              "\n",
              "    .colab-df-buttons div {\n",
              "      margin-bottom: 4px;\n",
              "    }\n",
              "\n",
              "    [theme=dark] .colab-df-convert {\n",
              "      background-color: #3B4455;\n",
              "      fill: #D2E3FC;\n",
              "    }\n",
              "\n",
              "    [theme=dark] .colab-df-convert:hover {\n",
              "      background-color: #434B5C;\n",
              "      box-shadow: 0px 1px 3px 1px rgba(0, 0, 0, 0.15);\n",
              "      filter: drop-shadow(0px 1px 2px rgba(0, 0, 0, 0.3));\n",
              "      fill: #FFFFFF;\n",
              "    }\n",
              "  </style>\n",
              "\n",
              "    <script>\n",
              "      const buttonEl =\n",
              "        document.querySelector('#df-0eb94ad7-e1e2-42c4-a334-f74750b20556 button.colab-df-convert');\n",
              "      buttonEl.style.display =\n",
              "        google.colab.kernel.accessAllowed ? 'block' : 'none';\n",
              "\n",
              "      async function convertToInteractive(key) {\n",
              "        const element = document.querySelector('#df-0eb94ad7-e1e2-42c4-a334-f74750b20556');\n",
              "        const dataTable =\n",
              "          await google.colab.kernel.invokeFunction('convertToInteractive',\n",
              "                                                    [key], {});\n",
              "        if (!dataTable) return;\n",
              "\n",
              "        const docLinkHtml = 'Like what you see? Visit the ' +\n",
              "          '<a target=\"_blank\" href=https://colab.research.google.com/notebooks/data_table.ipynb>data table notebook</a>'\n",
              "          + ' to learn more about interactive tables.';\n",
              "        element.innerHTML = '';\n",
              "        dataTable['output_type'] = 'display_data';\n",
              "        await google.colab.output.renderOutput(dataTable, element);\n",
              "        const docLink = document.createElement('div');\n",
              "        docLink.innerHTML = docLinkHtml;\n",
              "        element.appendChild(docLink);\n",
              "      }\n",
              "    </script>\n",
              "  </div>\n",
              "\n",
              "\n",
              "<div id=\"df-0bb158bb-90bd-4aeb-aa87-f482c20e87ce\">\n",
              "  <button class=\"colab-df-quickchart\" onclick=\"quickchart('df-0bb158bb-90bd-4aeb-aa87-f482c20e87ce')\"\n",
              "            title=\"Suggest charts\"\n",
              "            style=\"display:none;\">\n",
              "\n",
              "<svg xmlns=\"http://www.w3.org/2000/svg\" height=\"24px\"viewBox=\"0 0 24 24\"\n",
              "     width=\"24px\">\n",
              "    <g>\n",
              "        <path d=\"M19 3H5c-1.1 0-2 .9-2 2v14c0 1.1.9 2 2 2h14c1.1 0 2-.9 2-2V5c0-1.1-.9-2-2-2zM9 17H7v-7h2v7zm4 0h-2V7h2v10zm4 0h-2v-4h2v4z\"/>\n",
              "    </g>\n",
              "</svg>\n",
              "  </button>\n",
              "\n",
              "<style>\n",
              "  .colab-df-quickchart {\n",
              "      --bg-color: #E8F0FE;\n",
              "      --fill-color: #1967D2;\n",
              "      --hover-bg-color: #E2EBFA;\n",
              "      --hover-fill-color: #174EA6;\n",
              "      --disabled-fill-color: #AAA;\n",
              "      --disabled-bg-color: #DDD;\n",
              "  }\n",
              "\n",
              "  [theme=dark] .colab-df-quickchart {\n",
              "      --bg-color: #3B4455;\n",
              "      --fill-color: #D2E3FC;\n",
              "      --hover-bg-color: #434B5C;\n",
              "      --hover-fill-color: #FFFFFF;\n",
              "      --disabled-bg-color: #3B4455;\n",
              "      --disabled-fill-color: #666;\n",
              "  }\n",
              "\n",
              "  .colab-df-quickchart {\n",
              "    background-color: var(--bg-color);\n",
              "    border: none;\n",
              "    border-radius: 50%;\n",
              "    cursor: pointer;\n",
              "    display: none;\n",
              "    fill: var(--fill-color);\n",
              "    height: 32px;\n",
              "    padding: 0;\n",
              "    width: 32px;\n",
              "  }\n",
              "\n",
              "  .colab-df-quickchart:hover {\n",
              "    background-color: var(--hover-bg-color);\n",
              "    box-shadow: 0 1px 2px rgba(60, 64, 67, 0.3), 0 1px 3px 1px rgba(60, 64, 67, 0.15);\n",
              "    fill: var(--button-hover-fill-color);\n",
              "  }\n",
              "\n",
              "  .colab-df-quickchart-complete:disabled,\n",
              "  .colab-df-quickchart-complete:disabled:hover {\n",
              "    background-color: var(--disabled-bg-color);\n",
              "    fill: var(--disabled-fill-color);\n",
              "    box-shadow: none;\n",
              "  }\n",
              "\n",
              "  .colab-df-spinner {\n",
              "    border: 2px solid var(--fill-color);\n",
              "    border-color: transparent;\n",
              "    border-bottom-color: var(--fill-color);\n",
              "    animation:\n",
              "      spin 1s steps(1) infinite;\n",
              "  }\n",
              "\n",
              "  @keyframes spin {\n",
              "    0% {\n",
              "      border-color: transparent;\n",
              "      border-bottom-color: var(--fill-color);\n",
              "      border-left-color: var(--fill-color);\n",
              "    }\n",
              "    20% {\n",
              "      border-color: transparent;\n",
              "      border-left-color: var(--fill-color);\n",
              "      border-top-color: var(--fill-color);\n",
              "    }\n",
              "    30% {\n",
              "      border-color: transparent;\n",
              "      border-left-color: var(--fill-color);\n",
              "      border-top-color: var(--fill-color);\n",
              "      border-right-color: var(--fill-color);\n",
              "    }\n",
              "    40% {\n",
              "      border-color: transparent;\n",
              "      border-right-color: var(--fill-color);\n",
              "      border-top-color: var(--fill-color);\n",
              "    }\n",
              "    60% {\n",
              "      border-color: transparent;\n",
              "      border-right-color: var(--fill-color);\n",
              "    }\n",
              "    80% {\n",
              "      border-color: transparent;\n",
              "      border-right-color: var(--fill-color);\n",
              "      border-bottom-color: var(--fill-color);\n",
              "    }\n",
              "    90% {\n",
              "      border-color: transparent;\n",
              "      border-bottom-color: var(--fill-color);\n",
              "    }\n",
              "  }\n",
              "</style>\n",
              "\n",
              "  <script>\n",
              "    async function quickchart(key) {\n",
              "      const quickchartButtonEl =\n",
              "        document.querySelector('#' + key + ' button');\n",
              "      quickchartButtonEl.disabled = true;  // To prevent multiple clicks.\n",
              "      quickchartButtonEl.classList.add('colab-df-spinner');\n",
              "      try {\n",
              "        const charts = await google.colab.kernel.invokeFunction(\n",
              "            'suggestCharts', [key], {});\n",
              "      } catch (error) {\n",
              "        console.error('Error during call to suggestCharts:', error);\n",
              "      }\n",
              "      quickchartButtonEl.classList.remove('colab-df-spinner');\n",
              "      quickchartButtonEl.classList.add('colab-df-quickchart-complete');\n",
              "    }\n",
              "    (() => {\n",
              "      let quickchartButtonEl =\n",
              "        document.querySelector('#df-0bb158bb-90bd-4aeb-aa87-f482c20e87ce button');\n",
              "      quickchartButtonEl.style.display =\n",
              "        google.colab.kernel.accessAllowed ? 'block' : 'none';\n",
              "    })();\n",
              "  </script>\n",
              "</div>\n",
              "    </div>\n",
              "  </div>\n"
            ]
          },
          "metadata": {},
          "execution_count": 166
        }
      ],
      "source": [
        "# # # result_table\n",
        "# # # from IPython.display import display\n",
        "\n",
        "# # # # Display your DataFrame\n",
        "# # # display(result_table)\n",
        "# # import pandas as pd\n",
        "\n",
        "# # # Enable the option to display DataFrames as HTML tables\n",
        "# # pd.set_option(\"display.notebook_repr_html\", True)\n",
        "\n",
        "# # # Display your DataFrame\n",
        "# # print(result_table)\n",
        "# # Ensure both DataFrames have the same columns\n",
        "# assert set(result_table.columns) == set(full_metrics.columns), \"DataFrames have mismatched columns\"\n",
        "\n",
        "# # Append full_metrics DataFrame to result_table DataFrame\n",
        "# result_table = result_table.append(full_metrics, ignore_index=True)\n",
        "\n",
        "# # Display the result_table DataFrame\n",
        "# display(result_table)\n",
        "result_table"
      ]
    },
    {
      "cell_type": "markdown",
      "id": "c37212c8",
      "metadata": {
        "id": "c37212c8"
      },
      "source": [
        "Based on the above, Random Forest produces the best results out of all tested models. However, hyperparameter tuning could help improve the results"
      ]
    }
  ],
  "metadata": {
    "kernelspec": {
      "display_name": "Python 3 (ipykernel)",
      "language": "python",
      "name": "python3"
    },
    "language_info": {
      "codemirror_mode": {
        "name": "ipython",
        "version": 3
      },
      "file_extension": ".py",
      "mimetype": "text/x-python",
      "name": "python",
      "nbconvert_exporter": "python",
      "pygments_lexer": "ipython3",
      "version": "3.9.13"
    },
    "colab": {
      "provenance": []
    }
  },
  "nbformat": 4,
  "nbformat_minor": 5
}